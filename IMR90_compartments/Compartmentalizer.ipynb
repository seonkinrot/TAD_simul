{
 "cells": [
  {
   "cell_type": "code",
   "execution_count": 172,
   "metadata": {
    "collapsed": false
   },
   "outputs": [],
   "source": [
    "import numpy as np\n",
    "import glob\n",
    "import cPickle as pickle\n",
    "import matplotlib.pyplot as plt\n",
    "import scipy as sci\n",
    "from sklearn.decomposition import PCA\n",
    "\n",
    "def file_to_mat(file_,sep_str=',',d_type=None,skip_first=False):\n",
    "    \"\"\"\n",
    "    Converts .csv files to a list of its entries\n",
    "    Inputs:\n",
    "    file_ - the location of a .csv file\n",
    "    sep_str - the separator between data points\n",
    "    d_type - the datatype in the file\n",
    "    skip_first - an option to skip the first component (e.g. if there's a menu)\n",
    "    Returns:\n",
    "    lines - a list of the lines in the file, each of which itself a list of all entries in the line\n",
    "    \"\"\"\n",
    "    lines = [ln for ln in open(file_,'r')]\n",
    "    start_=(1 if skip_first==True else 0) #skip first line if option selected\n",
    "    def refine_line(ln,d_type=None,skip_first=False): #separates the data into its constituents\n",
    "        splits = ln[:-1].split(sep_str)\n",
    "        if d_type is None:\n",
    "            return [ln_ for ln_ in splits[start_:]]\n",
    "        if d_type=='int':\n",
    "            return [np.nan if ln_=='' else int(ln_) for ln_ in splits[start_:]]\n",
    "        if d_type=='float':\n",
    "            return [np.nan if ln_=='' else float(ln_) for ln_ in splits[start_:]]\n",
    "    d_type_arr,skip_arr=[],[]\n",
    "    for i in range(len(lines[start_:])):\n",
    "        d_type_arr.append(d_type)\n",
    "        skip_arr.append(skip_first)\n",
    "    lines = map(refine_line,lines[start_:],d_type_arr,skip_arr)\n",
    "    return lines\n",
    "\n",
    "def data_to_tads(data):\n",
    "    \"\"\"\n",
    "    Takes split data read by file_to_mat and converts it into TAD boundaries\n",
    "    Inputs:\n",
    "    data - the data returned from file_to_mat\n",
    "    Returns:\n",
    "    tads - a list of TADs and their boundaries\n",
    "    \"\"\"\n",
    "    iTAD,prev_chr=0,-1\n",
    "    tads=[]\n",
    "    for chr_,start,end in data:\n",
    "        if chr_[3:]=='X':\n",
    "            ichr=0\n",
    "        else:\n",
    "            ichr=int(chr_[3:])\n",
    "        if ichr!=prev_chr:\n",
    "            iTAD=1\n",
    "        else:\n",
    "            iTAD+=1\n",
    "        prev_chr=ichr\n",
    "        start_=int(start)\n",
    "        end_=int(end)\n",
    "        mid_=int((start_+end_)/2)\n",
    "        tad=[ichr,iTAD,start_,end_,mid_]\n",
    "        tads.append(tad)\n",
    "    return tads\n",
    "\n",
    "def binner(raw_data,bin_sz,method='sites',cuts=None):\n",
    "    \"\"\"\n",
    "    Converts list of interction frequencies (from file_to_mat) into a binned list\n",
    "    Inputs:\n",
    "    raw_data - data from file_to_mat\n",
    "    method - 'sites' or 'kb_size', specifies binning method\n",
    "    cuts - if binning by genomic distance, a list of cutsites\n",
    "    Returns:\n",
    "    binned - a binned version of raw_data\n",
    "    \"\"\"\n",
    "    if method=='sites': #calculate number of bins and indices depending on \n",
    "        nbins=int(np.ceil(float(len(raw_data))/bin_sz))\n",
    "        bins_ind=[[a*bin_sz for a in range(nbins)],len(raw_data)]\n",
    "    elif method=='kb_size':\n",
    "        if cuts is None:\n",
    "            print 'No distances provided'\n",
    "            assert False\n",
    "        bins_ind=[0]\n",
    "        for cur_ind in range(len(cuts)):\n",
    "            cut_loc=cuts[cur_ind]\n",
    "            bin_tracker=len(bins_ind)\n",
    "            if cut_loc>=bin_sz*bin_tracker:\n",
    "                bins_ind.extend([cur_ind])\n",
    "        if bins_ind[-1]!=len(raw_data):\n",
    "            bins_ind.extend([len(raw_data)])\n",
    "        nbins=len(bins_ind)-1\n",
    "    binned=[]\n",
    "    for i in range(nbins):\n",
    "        row_ind=range(int(bins_ind[i]),int(bins_ind[i+1]))\n",
    "        binned_row=np.zeros(nbins)\n",
    "        for j in row_ind:\n",
    "            row_=[]\n",
    "            for k in range(nbins): \n",
    "                col_ind=range(int(bins_ind[k]),int(bins_ind[k+1]))\n",
    "                sum_=0.\n",
    "                for l in col_ind:\n",
    "                    sum_+=float(raw_data[j][l])\n",
    "                row_.extend([sum_])\n",
    "            binned_row+=row_\n",
    "        binned.append(binned_row)\n",
    "    return binned\n",
    "\n",
    "def pearson_corr_mat(bin_data):\n",
    "    nbins=len(bin_data)\n",
    "    cij=[]\n",
    "    for row_i in bin_data:\n",
    "        c_row=[]\n",
    "        for jcol in range(len(bin_data)):\n",
    "            col_j=[row_[jcol] for row_ in bin_data]\n",
    "            p_cor,p_val=sci.stats.pearsonr(row_i,col_j)\n",
    "            c_row.extend([p_cor])\n",
    "        cij.append(c_row)\n",
    "    return cij\n",
    "    \n",
    "#def corr_to_PCA(corr_data):\n",
    "    \n",
    "def seq_to_cutsites(seq_file,cut_seq):\n",
    "    \"\"\"\n",
    "    Inputs:\n",
    "    file_ - a text or FASTA sequence file\n",
    "    cut_seq - the sequence of the cut site for a restriction enzyme\n",
    "    Returns:\n",
    "    seq - a string version of the DNA sequence\n",
    "    cuts - an array of the location of the beginning of each cut site\n",
    "    dists - the distance between each cutsite and teh next, or the end of the chromosome\n",
    "    \"\"\"\n",
    "    lines = [ln for ln in open(seq_file,'r')]\n",
    "    seq=''\n",
    "    for ln in lines[1:]:\n",
    "        seq+=ln[:-1]\n",
    "    seq=seq.lower()\n",
    "    index=0\n",
    "    cuts=[]\n",
    "    while index<len(seq):\n",
    "        index=seq.find(cut_seq,index)\n",
    "        if index==-1:\n",
    "            break\n",
    "        cuts.extend([index])\n",
    "        index+=len(cut_seq)\n",
    "    difs=[(cuts[i]-cuts[i-1]) for i in range(1,len(cuts))]\n",
    "    dists=[cuts[0],difs,len(seq)-cuts[-1]]\n",
    "    return seq,cuts,dists\n",
    "\n",
    "def bedFile_to_npArray(file_):\n",
    "    TAD_list=file_to_mat(file_,sep_str='\\t',d_type=None,skip_first=False)\n",
    "    TADs=[]\n",
    "    for row_ in TAD_list:\n",
    "        chr_end=row_[0][3:]\n",
    "        nchr_=22 if chr_end=='X' else (int(chr_end)-1)\n",
    "        start_,end_=int(row_[1]),int(row_[2])\n",
    "        TADs.append([nchr_,start_,end_])\n",
    "    TADs=np.array(TADs)\n",
    "    return TADs"
   ]
  },
  {
   "cell_type": "code",
   "execution_count": 199,
   "metadata": {
    "collapsed": false
   },
   "outputs": [],
   "source": [
    "pearson=[]\n",
    "for ichr in range(23):\n",
    "    loc='pearson/chr'+(str(ichr+1) if ichr<22 else 'X')+'_pear'\n",
    "    chr_=file_to_mat(file_=loc,sep_str=' ',d_type='float',skip_first=False)\n",
    "    new_chr_=[]\n",
    "    for j in range(len(chr_)):\n",
    "        row_=chr_[j][:-1]\n",
    "        new_chr_.append(row_)\n",
    "    new_chr_=np.array(new_chr_)\n",
    "    new_chr_[np.isnan(new_chr_)]=0\n",
    "    pearson.append(new_chr_)\n",
    "TADs_19=bedFile_to_npArray(file_='TADs_hg19.bed')\n",
    "TADs_38=bedFile_to_npArray(file_='TADs_hg38.bed')\n",
    "TADs=np.concatenate([TADs_19,np.zeros([len(TADs_19),1])],axis=-1)\n",
    "tot_proj=[]\n",
    "for jchr in range(len(pearson)):\n",
    "    cur_chr=pearson[jchr]\n",
    "    pca_= PCA(n_components=1)\n",
    "    pca_.fit(cur_chr)\n",
    "    proj_=np.squeeze(np.dot(cur_chr,pca_.components_.T))\n",
    "    tot_proj.append(proj_)\n",
    "    ind_loc=500000*np.arange(len(proj_))\n",
    "    for tad_id in np.where(TADs[:,0]==jchr)[0]:\n",
    "        tad_=TADs[tad_id]\n",
    "        tad_[-1]=np.mean(np.interp(np.linspace(tad_[1],tad_[2],100),ind_loc,proj_))\n",
    "tot_proj=np.array(tot_proj)\n",
    "picks=[]\n",
    "for kchr in range(23):\n",
    "    chr_tad_locs=np.where(TADs[:,0]==kchr)[0]\n",
    "    chr_tads=TADs[chr_tad_locs]\n",
    "    dif = np.percentile(np.abs(chr_tads[:,-1]),30)\n",
    "    ids_A,ids_B = np.where(chr_tads[:,-1]>dif)[0], np.where(chr_tads[:,-1]<-dif)[0]\n",
    "    pickA = ids_A[np.array(np.linspace(0,len(ids_A)-1,5),int)]\n",
    "    pickB = ids_B[np.array(np.linspace(0,len(ids_B)-1,5),int)]\n",
    "    picks.extend(chr_tads[pickA])\n",
    "    picks.extend(chr_tads[pickB])\n",
    "rename_dic = {i:'chr'+str(i+1) if i<22 else 'chrX' for i in range(23)}\n",
    "dic_19to38={str(tad19):[rename_dic[tad38[0]]]+list(tad38[1:]) for tad19,tad38 in zip(TADs_19,TADs_38)}\n",
    "fid = open(\"selected_10TADs_hg38.csv\",'w')\n",
    "fid.write('chr,start,end,compartment_score\\n')\n",
    "for pick in picks:\n",
    "    str_ = str(list(dic_19to38[str(np.array(pick[:-1],dtype=int))])+[pick[-1]])\n",
    "    str_ = str_.replace(' ','').replace('[','').replace(']','').replace(\"'\",'')+'\\n'\n",
    "    fid.write(str_)\n",
    "fid.close()"
   ]
  },
  {
   "cell_type": "code",
   "execution_count": 195,
   "metadata": {
    "collapsed": false
   },
   "outputs": [
    {
     "data": {
      "text/plain": [
       "{0: 'chr1',\n",
       " 1: 'chr2',\n",
       " 2: 'chr3',\n",
       " 3: 'chr4',\n",
       " 4: 'chr5',\n",
       " 5: 'chr6',\n",
       " 6: 'chr7',\n",
       " 7: 'chr8',\n",
       " 8: 'chr9',\n",
       " 9: 'chr10',\n",
       " 10: 'chr11',\n",
       " 11: 'chr12',\n",
       " 12: 'chr13',\n",
       " 13: 'chr14',\n",
       " 14: 'chr15',\n",
       " 15: 'chr16',\n",
       " 16: 'chr17',\n",
       " 17: 'chr18',\n",
       " 18: 'chr19',\n",
       " 19: 'chr20',\n",
       " 20: 'chr21',\n",
       " 21: 'chr22',\n",
       " 22: 'chrX'}"
      ]
     },
     "execution_count": 195,
     "metadata": {},
     "output_type": "execute_result"
    }
   ],
   "source": []
  },
  {
   "cell_type": "code",
   "execution_count": null,
   "metadata": {
    "collapsed": true
   },
   "outputs": [],
   "source": []
  },
  {
   "cell_type": "code",
   "execution_count": 158,
   "metadata": {
    "collapsed": false
   },
   "outputs": [],
   "source": [
    "plt.plot(TADs[TADs[:,0]==20][:,-1],'o-')\n",
    "plt.show()"
   ]
  },
  {
   "cell_type": "code",
   "execution_count": 157,
   "metadata": {
    "collapsed": true
   },
   "outputs": [],
   "source": [
    "plt.plot(tot_proj[20],'o-')\n",
    "plt.show()"
   ]
  },
  {
   "cell_type": "code",
   "execution_count": 182,
   "metadata": {
    "collapsed": false
   },
   "outputs": [],
   "source": [
    "dic_19to38={str(tad19):tad38 for tad19,tad38 in zip(TADs_19,TADs_38)}"
   ]
  },
  {
   "cell_type": "code",
   "execution_count": null,
   "metadata": {
    "collapsed": true
   },
   "outputs": [],
   "source": []
  },
  {
   "cell_type": "code",
   "execution_count": 186,
   "metadata": {
    "collapsed": false
   },
   "outputs": [
    {
     "name": "stdout",
     "output_type": "stream",
     "text": [
      "[0, 13440946, 15120917, -5.4105199758819911]\n",
      "[0, 80241727, 83881729, -8.0955134352013118]\n",
      "[0, 158123586, 159123586, -9.5871860430596083]\n",
      "[0, 198724248, 199564249, -5.0145333971969119]\n",
      "[0, 246890075, 247370075, -6.4340678399404192]\n"
     ]
    }
   ],
   "source": [
    "for pic in picksB[0]:\n",
    "    print list(dic_19to38[str(np.array(pic[:-1],dtype=int))])+[pic[-1]]"
   ]
  },
  {
   "cell_type": "code",
   "execution_count": null,
   "metadata": {
    "collapsed": true
   },
   "outputs": [],
   "source": []
  },
  {
   "cell_type": "code",
   "execution_count": 174,
   "metadata": {
    "collapsed": false
   },
   "outputs": [
    {
     "data": {
      "text/plain": [
       "((2250L, 3L), (2250L, 3L))"
      ]
     },
     "execution_count": 174,
     "metadata": {},
     "output_type": "execute_result"
    }
   ],
   "source": [
    "TADs_19.shape,TADs_38.shape"
   ]
  },
  {
   "cell_type": "code",
   "execution_count": 125,
   "metadata": {
    "collapsed": false
   },
   "outputs": [
    {
     "data": {
      "text/plain": [
       "array([ 1.2,  1.3])"
      ]
     },
     "execution_count": 125,
     "metadata": {},
     "output_type": "execute_result"
    }
   ],
   "source": [
    "np.mean(np.interp(np.linspace(Tad_coords[0],Tad_coords[1],100),coords_pear_gen,proj_))"
   ]
  },
  {
   "cell_type": "code",
   "execution_count": 132,
   "metadata": {
    "collapsed": false
   },
   "outputs": [
    {
     "data": {
      "text/plain": [
       "(2250L,)"
      ]
     },
     "execution_count": 132,
     "metadata": {},
     "output_type": "execute_result"
    }
   ],
   "source": [
    "np.zeros(len(TADs)).shape"
   ]
  },
  {
   "cell_type": "code",
   "execution_count": null,
   "metadata": {
    "collapsed": true
   },
   "outputs": [],
   "source": []
  },
  {
   "cell_type": "code",
   "execution_count": 117,
   "metadata": {
    "collapsed": false
   },
   "outputs": [],
   "source": [
    "TAD_list=file_to_mat(file_='TADs_hg19.bed',sep_str='\\t',d_type=None,skip_first=False)\n",
    "TADs=[]\n",
    "for row_ in TAD_list:\n",
    "    chr_end=row_[0][3:]\n",
    "    nchr_=22 if chr_end=='X' else (int(chr_end)-1)\n",
    "    start_,end_=int(row_[1]),int(row_[2])\n",
    "    TADs.append([nchr_,start_,end_])"
   ]
  },
  {
   "cell_type": "code",
   "execution_count": 95,
   "metadata": {
    "collapsed": false
   },
   "outputs": [
    {
     "name": "stdout",
     "output_type": "stream",
     "text": [
      "['TADs_hg19.bed', 'TADs_hg38.bed']\n"
     ]
    }
   ],
   "source": [
    "import glob\n",
    "a=glob.glob('TADS*')\n",
    "print a"
   ]
  },
  {
   "cell_type": "code",
   "execution_count": null,
   "metadata": {
    "collapsed": true
   },
   "outputs": [],
   "source": []
  },
  {
   "cell_type": "code",
   "execution_count": 88,
   "metadata": {
    "collapsed": false
   },
   "outputs": [
    {
     "name": "stdout",
     "output_type": "stream",
     "text": [
      "[ 0.74011229]\n"
     ]
    },
    {
     "data": {
      "text/plain": [
       "array([ 53, 118, 196, 125], dtype=int64)"
      ]
     },
     "execution_count": 88,
     "metadata": {},
     "output_type": "execute_result"
    }
   ],
   "source": [
    "pca = PCA(n_components=1)\n",
    "pca.fit(mat)\n",
    "print(pca.explained_variance_ratio_)\n",
    "proj = np.squeeze(np.dot(mat,pca.components_.T))\n",
    "dif = np.percentile(np.abs(proj),30)\n",
    "ids_A,ids_B = np.where(proj>dif)[0], np.where(proj<-dif)[0]\n",
    "pickA = ids_A[np.array(np.linspace(0,len(ids_A)-1,5),int)]\n",
    "pickB = ids_B[np.array(np.linspace(0,len(ids_B)-1,5),int)]\n",
    "np.diff(pickA)"
   ]
  },
  {
   "cell_type": "code",
   "execution_count": 80,
   "metadata": {
    "collapsed": false
   },
   "outputs": [
    {
     "data": {
      "text/plain": [
       "4.9466261216998051"
      ]
     },
     "execution_count": 80,
     "metadata": {},
     "output_type": "execute_result"
    }
   ],
   "source": []
  },
  {
   "cell_type": "code",
   "execution_count": null,
   "metadata": {
    "collapsed": true
   },
   "outputs": [],
   "source": []
  },
  {
   "cell_type": "code",
   "execution_count": 89,
   "metadata": {
    "collapsed": false
   },
   "outputs": [],
   "source": [
    "plt.plot(np.squeeze(np.dot(mat,pca.components_.T)),'o-')\n",
    "plt.show()"
   ]
  },
  {
   "cell_type": "code",
   "execution_count": null,
   "metadata": {
    "collapsed": true
   },
   "outputs": [],
   "source": []
  },
  {
   "cell_type": "code",
   "execution_count": 53,
   "metadata": {
    "collapsed": false
   },
   "outputs": [
    {
     "name": "stdout",
     "output_type": "stream",
     "text": [
      "[ 0.74011229  0.13742805]\n"
     ]
    }
   ],
   "source": [
    "plt.imshow(mat,interpolation='nearest')\n",
    "plt.show()"
   ]
  },
  {
   "cell_type": "code",
   "execution_count": 42,
   "metadata": {
    "collapsed": false
   },
   "outputs": [
    {
     "ename": "LinAlgError",
     "evalue": "SVD did not converge",
     "output_type": "error",
     "traceback": [
      "\u001b[1;31m---------------------------------------------------------------------------\u001b[0m",
      "\u001b[1;31mLinAlgError\u001b[0m                               Traceback (most recent call last)",
      "\u001b[1;32m<ipython-input-42-290418e87a95>\u001b[0m in \u001b[0;36m<module>\u001b[1;34m()\u001b[0m\n\u001b[0;32m      2\u001b[0m \u001b[1;32mfor\u001b[0m \u001b[0michr\u001b[0m \u001b[1;32min\u001b[0m \u001b[0mrange\u001b[0m\u001b[1;33m(\u001b[0m\u001b[0mlen\u001b[0m\u001b[1;33m(\u001b[0m\u001b[0mpearson\u001b[0m\u001b[1;33m)\u001b[0m\u001b[1;33m)\u001b[0m\u001b[1;33m:\u001b[0m\u001b[1;33m\u001b[0m\u001b[0m\n\u001b[0;32m      3\u001b[0m     \u001b[0mpear_\u001b[0m\u001b[1;33m=\u001b[0m\u001b[0mpearson\u001b[0m\u001b[1;33m[\u001b[0m\u001b[0michr\u001b[0m\u001b[1;33m]\u001b[0m\u001b[1;33m\u001b[0m\u001b[0m\n\u001b[1;32m----> 4\u001b[1;33m     \u001b[0mchr_pca\u001b[0m\u001b[1;33m=\u001b[0m\u001b[0mmlab\u001b[0m\u001b[1;33m.\u001b[0m\u001b[0mPCA\u001b[0m\u001b[1;33m(\u001b[0m\u001b[0mpear_\u001b[0m\u001b[1;33m)\u001b[0m\u001b[1;33m\u001b[0m\u001b[0m\n\u001b[0m\u001b[0;32m      5\u001b[0m     \u001b[1;32mprint\u001b[0m \u001b[0mchr_pca\u001b[0m\u001b[1;33m[\u001b[0m\u001b[1;36m0\u001b[0m\u001b[1;33m]\u001b[0m\u001b[1;33m\u001b[0m\u001b[0m\n\u001b[0;32m      6\u001b[0m     \u001b[0mpca_chr\u001b[0m\u001b[1;33m.\u001b[0m\u001b[0mappend\u001b[0m\u001b[1;33m(\u001b[0m\u001b[0mchr_pca\u001b[0m\u001b[1;33m)\u001b[0m\u001b[1;33m\u001b[0m\u001b[0m\n",
      "\u001b[1;32mC:\\Users\\Seon\\Anaconda2\\lib\\site-packages\\matplotlib\\mlab.pyc\u001b[0m in \u001b[0;36m__init__\u001b[1;34m(self, a, standardize)\u001b[0m\n\u001b[0;32m   1679\u001b[0m         \u001b[0mself\u001b[0m\u001b[1;33m.\u001b[0m\u001b[0ma\u001b[0m \u001b[1;33m=\u001b[0m \u001b[0ma\u001b[0m\u001b[1;33m\u001b[0m\u001b[0m\n\u001b[0;32m   1680\u001b[0m \u001b[1;33m\u001b[0m\u001b[0m\n\u001b[1;32m-> 1681\u001b[1;33m         \u001b[0mU\u001b[0m\u001b[1;33m,\u001b[0m \u001b[0ms\u001b[0m\u001b[1;33m,\u001b[0m \u001b[0mVh\u001b[0m \u001b[1;33m=\u001b[0m \u001b[0mnp\u001b[0m\u001b[1;33m.\u001b[0m\u001b[0mlinalg\u001b[0m\u001b[1;33m.\u001b[0m\u001b[0msvd\u001b[0m\u001b[1;33m(\u001b[0m\u001b[0ma\u001b[0m\u001b[1;33m,\u001b[0m \u001b[0mfull_matrices\u001b[0m\u001b[1;33m=\u001b[0m\u001b[0mFalse\u001b[0m\u001b[1;33m)\u001b[0m\u001b[1;33m\u001b[0m\u001b[0m\n\u001b[0m\u001b[0;32m   1682\u001b[0m \u001b[1;33m\u001b[0m\u001b[0m\n\u001b[0;32m   1683\u001b[0m         \u001b[1;31m# Note: .H indicates the conjugate transposed / Hermitian.\u001b[0m\u001b[1;33m\u001b[0m\u001b[1;33m\u001b[0m\u001b[0m\n",
      "\u001b[1;32mC:\\Users\\Seon\\Anaconda2\\lib\\site-packages\\numpy\\linalg\\linalg.pyc\u001b[0m in \u001b[0;36msvd\u001b[1;34m(a, full_matrices, compute_uv)\u001b[0m\n\u001b[0;32m   1357\u001b[0m \u001b[1;33m\u001b[0m\u001b[0m\n\u001b[0;32m   1358\u001b[0m         \u001b[0msignature\u001b[0m \u001b[1;33m=\u001b[0m \u001b[1;34m'D->DdD'\u001b[0m \u001b[1;32mif\u001b[0m \u001b[0misComplexType\u001b[0m\u001b[1;33m(\u001b[0m\u001b[0mt\u001b[0m\u001b[1;33m)\u001b[0m \u001b[1;32melse\u001b[0m \u001b[1;34m'd->ddd'\u001b[0m\u001b[1;33m\u001b[0m\u001b[0m\n\u001b[1;32m-> 1359\u001b[1;33m         \u001b[0mu\u001b[0m\u001b[1;33m,\u001b[0m \u001b[0ms\u001b[0m\u001b[1;33m,\u001b[0m \u001b[0mvt\u001b[0m \u001b[1;33m=\u001b[0m \u001b[0mgufunc\u001b[0m\u001b[1;33m(\u001b[0m\u001b[0ma\u001b[0m\u001b[1;33m,\u001b[0m \u001b[0msignature\u001b[0m\u001b[1;33m=\u001b[0m\u001b[0msignature\u001b[0m\u001b[1;33m,\u001b[0m \u001b[0mextobj\u001b[0m\u001b[1;33m=\u001b[0m\u001b[0mextobj\u001b[0m\u001b[1;33m)\u001b[0m\u001b[1;33m\u001b[0m\u001b[0m\n\u001b[0m\u001b[0;32m   1360\u001b[0m         \u001b[0mu\u001b[0m \u001b[1;33m=\u001b[0m \u001b[0mu\u001b[0m\u001b[1;33m.\u001b[0m\u001b[0mastype\u001b[0m\u001b[1;33m(\u001b[0m\u001b[0mresult_t\u001b[0m\u001b[1;33m,\u001b[0m \u001b[0mcopy\u001b[0m\u001b[1;33m=\u001b[0m\u001b[0mFalse\u001b[0m\u001b[1;33m)\u001b[0m\u001b[1;33m\u001b[0m\u001b[0m\n\u001b[0;32m   1361\u001b[0m         \u001b[0ms\u001b[0m \u001b[1;33m=\u001b[0m \u001b[0ms\u001b[0m\u001b[1;33m.\u001b[0m\u001b[0mastype\u001b[0m\u001b[1;33m(\u001b[0m\u001b[0m_realType\u001b[0m\u001b[1;33m(\u001b[0m\u001b[0mresult_t\u001b[0m\u001b[1;33m)\u001b[0m\u001b[1;33m,\u001b[0m \u001b[0mcopy\u001b[0m\u001b[1;33m=\u001b[0m\u001b[0mFalse\u001b[0m\u001b[1;33m)\u001b[0m\u001b[1;33m\u001b[0m\u001b[0m\n",
      "\u001b[1;32mC:\\Users\\Seon\\Anaconda2\\lib\\site-packages\\numpy\\linalg\\linalg.pyc\u001b[0m in \u001b[0;36m_raise_linalgerror_svd_nonconvergence\u001b[1;34m(err, flag)\u001b[0m\n\u001b[0;32m     97\u001b[0m \u001b[1;33m\u001b[0m\u001b[0m\n\u001b[0;32m     98\u001b[0m \u001b[1;32mdef\u001b[0m \u001b[0m_raise_linalgerror_svd_nonconvergence\u001b[0m\u001b[1;33m(\u001b[0m\u001b[0merr\u001b[0m\u001b[1;33m,\u001b[0m \u001b[0mflag\u001b[0m\u001b[1;33m)\u001b[0m\u001b[1;33m:\u001b[0m\u001b[1;33m\u001b[0m\u001b[0m\n\u001b[1;32m---> 99\u001b[1;33m     \u001b[1;32mraise\u001b[0m \u001b[0mLinAlgError\u001b[0m\u001b[1;33m(\u001b[0m\u001b[1;34m\"SVD did not converge\"\u001b[0m\u001b[1;33m)\u001b[0m\u001b[1;33m\u001b[0m\u001b[0m\n\u001b[0m\u001b[0;32m    100\u001b[0m \u001b[1;33m\u001b[0m\u001b[0m\n\u001b[0;32m    101\u001b[0m \u001b[1;32mdef\u001b[0m \u001b[0mget_linalg_error_extobj\u001b[0m\u001b[1;33m(\u001b[0m\u001b[0mcallback\u001b[0m\u001b[1;33m)\u001b[0m\u001b[1;33m:\u001b[0m\u001b[1;33m\u001b[0m\u001b[0m\n",
      "\u001b[1;31mLinAlgError\u001b[0m: SVD did not converge"
     ]
    }
   ],
   "source": [
    "pca_chr=[]\n",
    "for ichr in range(len(pearson)):\n",
    "    pear_=pearson[ichr]\n",
    "    chr_pca=mlab.PCA(pear_)\n",
    "    print chr_pca[0]\n",
    "    pca_chr.append(chr_pca)"
   ]
  },
  {
   "cell_type": "code",
   "execution_count": 20,
   "metadata": {
    "collapsed": false
   },
   "outputs": [],
   "source": [
    "chr1_pear=file_to_mat(file_='pearson/chr1_pear',sep_str=' ',d_type='float',skip_first=False)"
   ]
  },
  {
   "cell_type": "code",
   "execution_count": 34,
   "metadata": {
    "collapsed": false
   },
   "outputs": [
    {
     "name": "stdout",
     "output_type": "stream",
     "text": [
      "2\n"
     ]
    }
   ],
   "source": [
    "a=(1 if False else 2)\n",
    "print a"
   ]
  },
  {
   "cell_type": "code",
   "execution_count": 15,
   "metadata": {
    "collapsed": false
   },
   "outputs": [],
   "source": [
    "import cPickle as pickle\n",
    "import glob\n",
    "loc='hIMR90/nij/'\n",
    "files_=glob.glob(loc+'*')\n",
    "for num_fl,file_ in enumerate(files_):\n",
    "    chr_=np.array(file_to_mat(file_,sep_str='\\t',d_type='float',skip_first=True))\n",
    "    pickle.dump(chr_,open('IMR90_norm_chr'+str(num_fl+1)+'.pkl','wb'))"
   ]
  },
  {
   "cell_type": "code",
   "execution_count": 6,
   "metadata": {
    "collapsed": false
   },
   "outputs": [],
   "source": [
    "import matplotlib.pyplot as plt\n",
    "raw=file_to_mat('hIMR90/nij/nij.chr5',sep_str='\\t',d_type='float',skip_first=True)\n",
    "plt.imshow(raw,interpolation='nearest')\n",
    "plt.show()"
   ]
  },
  {
   "cell_type": "code",
   "execution_count": 8,
   "metadata": {
    "collapsed": false
   },
   "outputs": [],
   "source": [
    "raw = np.array(raw)"
   ]
  },
  {
   "cell_type": "code",
   "execution_count": 13,
   "metadata": {
    "collapsed": false
   },
   "outputs": [],
   "source": [
    "min_nonzero = np.min(raw[raw!=0])\n",
    "raw_=raw+min_nonzero\n",
    "plt.imshow(np.log(raw_),interpolation='nearest')\n",
    "plt.show()"
   ]
  },
  {
   "cell_type": "code",
   "execution_count": null,
   "metadata": {
    "collapsed": true
   },
   "outputs": [],
   "source": []
  },
  {
   "cell_type": "code",
   "execution_count": 5,
   "metadata": {
    "collapsed": false
   },
   "outputs": [
    {
     "ename": "TypeError",
     "evalue": "int() argument must be a string or a number, not 'list'",
     "output_type": "error",
     "traceback": [
      "\u001b[1;31m---------------------------------------------------------------------------\u001b[0m",
      "\u001b[1;31mTypeError\u001b[0m                                 Traceback (most recent call last)",
      "\u001b[1;32m<ipython-input-5-b9d6b21535ca>\u001b[0m in \u001b[0;36m<module>\u001b[1;34m()\u001b[0m\n\u001b[1;32m----> 1\u001b[1;33m \u001b[0mbinned\u001b[0m\u001b[1;33m=\u001b[0m\u001b[0mbinner\u001b[0m\u001b[1;33m(\u001b[0m\u001b[0mraw\u001b[0m\u001b[1;33m,\u001b[0m\u001b[0mbin_sz\u001b[0m\u001b[1;33m=\u001b[0m\u001b[1;36m50\u001b[0m\u001b[1;33m)\u001b[0m\u001b[1;33m\u001b[0m\u001b[0m\n\u001b[0m\u001b[0;32m      2\u001b[0m \u001b[0mplt\u001b[0m\u001b[1;33m.\u001b[0m\u001b[0mimshow\u001b[0m\u001b[1;33m(\u001b[0m\u001b[0mbinned\u001b[0m\u001b[1;33m,\u001b[0m\u001b[0minterpolation\u001b[0m\u001b[1;33m=\u001b[0m\u001b[1;34m'nearest'\u001b[0m\u001b[1;33m)\u001b[0m\u001b[1;33m\u001b[0m\u001b[0m\n\u001b[0;32m      3\u001b[0m \u001b[0mplt\u001b[0m\u001b[1;33m.\u001b[0m\u001b[0mshow\u001b[0m\u001b[1;33m(\u001b[0m\u001b[1;33m)\u001b[0m\u001b[1;33m\u001b[0m\u001b[0m\n",
      "\u001b[1;32m<ipython-input-2-8161b129052d>\u001b[0m in \u001b[0;36mbinner\u001b[1;34m(raw_data, bin_sz, method, cuts)\u001b[0m\n\u001b[0;32m     83\u001b[0m     \u001b[0mbinned\u001b[0m\u001b[1;33m=\u001b[0m\u001b[1;33m[\u001b[0m\u001b[1;33m]\u001b[0m\u001b[1;33m\u001b[0m\u001b[0m\n\u001b[0;32m     84\u001b[0m     \u001b[1;32mfor\u001b[0m \u001b[0mi\u001b[0m \u001b[1;32min\u001b[0m \u001b[0mrange\u001b[0m\u001b[1;33m(\u001b[0m\u001b[0mnbins\u001b[0m\u001b[1;33m)\u001b[0m\u001b[1;33m:\u001b[0m\u001b[1;33m\u001b[0m\u001b[0m\n\u001b[1;32m---> 85\u001b[1;33m         \u001b[0mrow_ind\u001b[0m\u001b[1;33m=\u001b[0m\u001b[0mrange\u001b[0m\u001b[1;33m(\u001b[0m\u001b[0mint\u001b[0m\u001b[1;33m(\u001b[0m\u001b[0mbins_ind\u001b[0m\u001b[1;33m[\u001b[0m\u001b[0mi\u001b[0m\u001b[1;33m]\u001b[0m\u001b[1;33m)\u001b[0m\u001b[1;33m,\u001b[0m\u001b[0mint\u001b[0m\u001b[1;33m(\u001b[0m\u001b[0mbins_ind\u001b[0m\u001b[1;33m[\u001b[0m\u001b[0mi\u001b[0m\u001b[1;33m+\u001b[0m\u001b[1;36m1\u001b[0m\u001b[1;33m]\u001b[0m\u001b[1;33m)\u001b[0m\u001b[1;33m)\u001b[0m\u001b[1;33m\u001b[0m\u001b[0m\n\u001b[0m\u001b[0;32m     86\u001b[0m         \u001b[0mbinned_row\u001b[0m\u001b[1;33m=\u001b[0m\u001b[0mnp\u001b[0m\u001b[1;33m.\u001b[0m\u001b[0mzeros\u001b[0m\u001b[1;33m(\u001b[0m\u001b[0mnbins\u001b[0m\u001b[1;33m)\u001b[0m\u001b[1;33m\u001b[0m\u001b[0m\n\u001b[0;32m     87\u001b[0m         \u001b[1;32mfor\u001b[0m \u001b[0mj\u001b[0m \u001b[1;32min\u001b[0m \u001b[0mrow_ind\u001b[0m\u001b[1;33m:\u001b[0m\u001b[1;33m\u001b[0m\u001b[0m\n",
      "\u001b[1;31mTypeError\u001b[0m: int() argument must be a string or a number, not 'list'"
     ]
    }
   ],
   "source": [
    "binned=binner(raw,bin_sz=50)\n",
    "plt.imshow(binned,cmap='hot',interpolation='nearest')\n",
    "plt.show()"
   ]
  },
  {
   "cell_type": "code",
   "execution_count": 44,
   "metadata": {
    "collapsed": false
   },
   "outputs": [
    {
     "name": "stdout",
     "output_type": "stream",
     "text": [
      "gtaattcagacattaattgcttttgttttggaattgctcttataagatgaaatatcactttcatgatgagagtcctagagtgcttggtttatatattgta\n",
      "[15414, 23408, 24098, 30791, 31368, 31635, 32506, 37972]\n",
      "[7994, 690, 6693, 577, 267, 871, 5466]\n"
     ]
    }
   ],
   "source": [
    "lines = [ln for ln in open('genome/chr1.fa','r')]\n",
    "seq=''\n",
    "for ln in lines[1200:2000]:\n",
    "    seq+=ln[:-1]\n",
    "seq=seq.lower()\n",
    "index=0\n",
    "cuts=[]\n",
    "while index<len(seq):\n",
    "    index=seq.find('aagctt',index)\n",
    "    if index==-1:\n",
    "        break\n",
    "    cuts.extend([index])\n",
    "    index+=len('aagctt')\n",
    "print seq[:100]\n",
    "print cuts\n",
    "difs=[(cuts[i]-cuts[i-1]) for i in range(1,len(cuts))]\n",
    "print difs"
   ]
  },
  {
   "cell_type": "code",
   "execution_count": null,
   "metadata": {
    "collapsed": true
   },
   "outputs": [],
   "source": []
  }
 ],
 "metadata": {
  "anaconda-cloud": {},
  "kernelspec": {
   "display_name": "Python [Root]",
   "language": "python",
   "name": "Python [Root]"
  },
  "language_info": {
   "codemirror_mode": {
    "name": "ipython",
    "version": 2
   },
   "file_extension": ".py",
   "mimetype": "text/x-python",
   "name": "python",
   "nbconvert_exporter": "python",
   "pygments_lexer": "ipython2",
   "version": "2.7.12"
  }
 },
 "nbformat": 4,
 "nbformat_minor": 1
}
