{
 "cells": [
  {
   "cell_type": "code",
   "execution_count": 2,
   "metadata": {
    "collapsed": false
   },
   "outputs": [],
   "source": [
    "import numpy as np\n",
    "import glob\n",
    "\n",
    "def file_to_mat(file_,sep_str=',',d_type=None,skip_first=False):\n",
    "    \"\"\"\n",
    "    Converts .csv files to a list of its entries\n",
    "    Inputs:\n",
    "    file_ - the location of a .csv file\n",
    "    Returns:\n",
    "    lines - a list of the lines in the file, each of which itself a list of all entries in the line\n",
    "    \"\"\"\n",
    "    lines = [ln for ln in open(file_,'r')]\n",
    "    def refine_line(ln,d_type=None,skip_first=False): ###separates the data into its constituents\n",
    "        splits = ln[:-1].split(sep_str)\n",
    "        start_=(1 if skip_first else 0)\n",
    "        if d_type is None:\n",
    "            return [ln_ for ln_ in splits[start_:]]\n",
    "        if d_type=='int':\n",
    "            return [np.nan if ln_=='' else int(ln_) for ln_ in splits[start_:]]\n",
    "        if d_type=='float':\n",
    "            return [np.nan if ln_=='' else float(ln_) for ln_ in splits[start_:]]\n",
    "    d_type_arr,skip_arr=[],[]\n",
    "    for i in range(len(lines[1:])):\n",
    "        d_type_arr.append(d_type)\n",
    "        skip_arr.append(skip_first)\n",
    "    lines = map(refine_line,lines[1:],d_type_arr,skip_arr)\n",
    "    return lines\n",
    "\n",
    "def data_to_tads(data):\n",
    "    \"\"\"\n",
    "    Takes split data read by file_to_mat and converts it into TAD boundaries\n",
    "    Inputs:\n",
    "    data - the data returned from file_to_mat\n",
    "    Returns:\n",
    "    tads - a list of TADs and their boundaries\n",
    "    \"\"\"\n",
    "    iTAD,prev_chr=0,-1\n",
    "    tads=[]\n",
    "    for chr_,start,end in data:\n",
    "        if chr_[3:]=='X':\n",
    "            ichr=0\n",
    "        else:\n",
    "            ichr=int(chr_[3:])\n",
    "        if ichr!=prev_chr:\n",
    "            iTAD=1\n",
    "        else:\n",
    "            iTAD+=1\n",
    "        prev_chr=ichr\n",
    "        start_=int(start)\n",
    "        end_=int(end)\n",
    "        mid_=int((start_+end_)/2)\n",
    "        tad=[ichr,iTAD,start_,end_,mid_]\n",
    "        tads.append(tad)\n",
    "    return tads\n",
    "\n",
    "def binner(raw_data,bin_sz):\n",
    "    binned=[]\n",
    "    for i in range(len(raw_data)/bin_sz):\n",
    "        row_ind=range(i*bin_sz,(i+1)*bin_sz)\n",
    "        binned_row=[]\n",
    "        for j in row_ind:\n",
    "            row_=[]\n",
    "            for k in range(len(raw_data)/bin_sz): \n",
    "                col_ind=range(k*bin_sz,(k+1)*bin_sz)\n",
    "                bin_=np.array(raw_data[j][col_ind])\n",
    "                sum_=np.sum(bin_)\n",
    "                row_.extend([sum_])\n",
    "            binned_row.append([row_])\n",
    "            binned_row=list(np.sum(binned_row,axis=0))\n",
    "        binned.append(binned_row)\n",
    "    return np.array(binned)"
   ]
  },
  {
   "cell_type": "code",
   "execution_count": 68,
   "metadata": {
    "collapsed": false
   },
   "outputs": [
    {
     "ename": "TypeError",
     "evalue": "file_to_mat() takes at least 2 arguments (1 given)",
     "output_type": "error",
     "traceback": [
      "\u001b[0;31m---------------------------------------------------------------------------\u001b[0m",
      "\u001b[0;31mTypeError\u001b[0m                                 Traceback (most recent call last)",
      "\u001b[0;32m<ipython-input-68-0da22f046da0>\u001b[0m in \u001b[0;36m<module>\u001b[0;34m()\u001b[0m\n\u001b[1;32m      1\u001b[0m \u001b[1;32mimport\u001b[0m \u001b[0mcPickle\u001b[0m \u001b[1;32mas\u001b[0m \u001b[0mpickle\u001b[0m\u001b[1;33m\u001b[0m\u001b[0m\n\u001b[1;32m      2\u001b[0m \u001b[0mfile_\u001b[0m\u001b[1;33m=\u001b[0m\u001b[1;34m'S3_TADs.csv'\u001b[0m\u001b[1;33m\u001b[0m\u001b[0m\n\u001b[0;32m----> 3\u001b[0;31m \u001b[0mmat\u001b[0m\u001b[1;33m=\u001b[0m\u001b[0mfile_to_mat\u001b[0m\u001b[1;33m(\u001b[0m\u001b[0mfile_\u001b[0m\u001b[1;33m)\u001b[0m\u001b[1;33m\u001b[0m\u001b[0m\n\u001b[0m\u001b[1;32m      4\u001b[0m \u001b[0mtad_list\u001b[0m\u001b[1;33m=\u001b[0m\u001b[0mdata_to_tads\u001b[0m\u001b[1;33m(\u001b[0m\u001b[0mmat\u001b[0m\u001b[1;33m)\u001b[0m\u001b[1;33m\u001b[0m\u001b[0m\n\u001b[1;32m      5\u001b[0m \u001b[0mpickle\u001b[0m\u001b[1;33m.\u001b[0m\u001b[0mdump\u001b[0m\u001b[1;33m(\u001b[0m\u001b[0mtad_list\u001b[0m\u001b[1;33m,\u001b[0m\u001b[0mopen\u001b[0m\u001b[1;33m(\u001b[0m\u001b[1;34m'IMR90_TADs.pkl'\u001b[0m\u001b[1;33m,\u001b[0m\u001b[1;34m'wb'\u001b[0m\u001b[1;33m)\u001b[0m\u001b[1;33m)\u001b[0m\u001b[1;33m\u001b[0m\u001b[0m\n",
      "\u001b[0;31mTypeError\u001b[0m: file_to_mat() takes at least 2 arguments (1 given)"
     ]
    }
   ],
   "source": [
    "import cPickle as pickle\n",
    "file_='S3_TADs.csv'\n",
    "mat=file_to_mat(file_)\n",
    "tad_list=data_to_tads(mat)\n",
    "pickle.dump(tad_list,open('IMR90_TADs.pkl','wb'))"
   ]
  },
  {
   "cell_type": "code",
   "execution_count": 6,
   "metadata": {
    "collapsed": false
   },
   "outputs": [
    {
     "ename": "KeyboardInterrupt",
     "evalue": "",
     "output_type": "error",
     "traceback": [
      "\u001b[0;31m---------------------------------------------------------------------------\u001b[0m",
      "\u001b[0;31mKeyboardInterrupt\u001b[0m                         Traceback (most recent call last)",
      "\u001b[0;32m<ipython-input-6-c36fe6746578>\u001b[0m in \u001b[0;36m<module>\u001b[0;34m()\u001b[0m\n\u001b[1;32m      5\u001b[0m \u001b[1;32mfor\u001b[0m \u001b[0mnum_fl\u001b[0m\u001b[1;33m,\u001b[0m\u001b[0mfile_\u001b[0m \u001b[1;32min\u001b[0m \u001b[0menumerate\u001b[0m\u001b[1;33m(\u001b[0m\u001b[0mfiles_\u001b[0m\u001b[1;33m)\u001b[0m\u001b[1;33m:\u001b[0m\u001b[1;33m\u001b[0m\u001b[0m\n\u001b[1;32m      6\u001b[0m     \u001b[0mchr_\u001b[0m\u001b[1;33m=\u001b[0m\u001b[0mnp\u001b[0m\u001b[1;33m.\u001b[0m\u001b[0marray\u001b[0m\u001b[1;33m(\u001b[0m\u001b[0mfile_to_mat\u001b[0m\u001b[1;33m(\u001b[0m\u001b[0mfile_\u001b[0m\u001b[1;33m,\u001b[0m\u001b[0msep_str\u001b[0m\u001b[1;33m=\u001b[0m\u001b[1;34m'\\t'\u001b[0m\u001b[1;33m,\u001b[0m\u001b[0md_type\u001b[0m\u001b[1;33m=\u001b[0m\u001b[1;34m'float'\u001b[0m\u001b[1;33m,\u001b[0m\u001b[0mskip_first\u001b[0m\u001b[1;33m=\u001b[0m\u001b[0mTrue\u001b[0m\u001b[1;33m)\u001b[0m\u001b[1;33m)\u001b[0m\u001b[1;33m\u001b[0m\u001b[0m\n\u001b[0;32m----> 7\u001b[0;31m     \u001b[0mpickle\u001b[0m\u001b[1;33m.\u001b[0m\u001b[0mdump\u001b[0m\u001b[1;33m(\u001b[0m\u001b[0mchr_\u001b[0m\u001b[1;33m,\u001b[0m\u001b[0mopen\u001b[0m\u001b[1;33m(\u001b[0m\u001b[0mloc\u001b[0m\u001b[1;33m+\u001b[0m\u001b[1;34m'IMR90_norm_chr'\u001b[0m\u001b[1;33m+\u001b[0m\u001b[0mstr\u001b[0m\u001b[1;33m(\u001b[0m\u001b[0mnum_fl\u001b[0m\u001b[1;33m)\u001b[0m\u001b[1;33m+\u001b[0m\u001b[1;34m'.pkl'\u001b[0m\u001b[1;33m,\u001b[0m\u001b[1;34m'wb'\u001b[0m\u001b[1;33m)\u001b[0m\u001b[1;33m)\u001b[0m\u001b[1;33m\u001b[0m\u001b[0m\n\u001b[0m",
      "\u001b[0;31mKeyboardInterrupt\u001b[0m: "
     ]
    }
   ],
   "source": [
    "import cPickle as pickle\n",
    "import glob\n",
    "loc='../../../../../Documents/IMR90.norm/hIMR90/nij/'\n",
    "files_=glob.glob(loc+'/*')\n",
    "for num_fl,file_ in enumerate(files_):\n",
    "    chr_=np.array(file_to_mat(file_,sep_str='\\t',d_type='float',skip_first=True))\n",
    "    pickle.dump(chr_,open(loc+'IMR90_norm_chr'+str(num_fl)+'.pkl','wb'))"
   ]
  },
  {
   "cell_type": "code",
   "execution_count": 3,
   "metadata": {
    "collapsed": false
   },
   "outputs": [
    {
     "ename": "NameError",
     "evalue": "name 'chr1' is not defined",
     "output_type": "error",
     "traceback": [
      "\u001b[0;31m---------------------------------------------------------------------------\u001b[0m",
      "\u001b[0;31mNameError\u001b[0m                                 Traceback (most recent call last)",
      "\u001b[0;32m<ipython-input-3-3acde407a5c2>\u001b[0m in \u001b[0;36m<module>\u001b[0;34m()\u001b[0m\n\u001b[1;32m      1\u001b[0m \u001b[1;32mimport\u001b[0m \u001b[0mmatplotlib\u001b[0m\u001b[1;33m.\u001b[0m\u001b[0mpyplot\u001b[0m \u001b[1;32mas\u001b[0m \u001b[0mplt\u001b[0m\u001b[1;33m\u001b[0m\u001b[0m\n\u001b[0;32m----> 2\u001b[0;31m \u001b[0mbinned\u001b[0m\u001b[1;33m=\u001b[0m\u001b[0mbinner\u001b[0m\u001b[1;33m(\u001b[0m\u001b[0mnp\u001b[0m\u001b[1;33m.\u001b[0m\u001b[0marray\u001b[0m\u001b[1;33m(\u001b[0m\u001b[0mchr1\u001b[0m\u001b[1;33m)\u001b[0m\u001b[1;33m,\u001b[0m\u001b[0mbin_sz\u001b[0m\u001b[1;33m=\u001b[0m\u001b[1;36m60\u001b[0m\u001b[1;33m)\u001b[0m\u001b[1;33m\u001b[0m\u001b[0m\n\u001b[0m\u001b[1;32m      3\u001b[0m \u001b[0mbinned\u001b[0m\u001b[1;33m.\u001b[0m\u001b[0mshape\u001b[0m\u001b[1;33m\u001b[0m\u001b[0m\n\u001b[1;32m      4\u001b[0m \u001b[1;31m#plt.imshow(binned,cmap='hot',interpolation='nearest')\u001b[0m\u001b[1;33m\u001b[0m\u001b[1;33m\u001b[0m\u001b[0m\n\u001b[1;32m      5\u001b[0m \u001b[1;31m#plt.show()\u001b[0m\u001b[1;33m\u001b[0m\u001b[1;33m\u001b[0m\u001b[0m\n",
      "\u001b[0;31mNameError\u001b[0m: name 'chr1' is not defined"
     ]
    }
   ],
   "source": [
    "import matplotlib.pyplot as plt\n",
    "binned=binner(np.array(chr1),bin_sz=60)\n",
    "binned.shape\n",
    "#plt.imshow(binned,cmap='hot',interpolation='nearest')\n",
    "#plt.show()"
   ]
  },
  {
   "cell_type": "code",
   "execution_count": 151,
   "metadata": {
    "collapsed": false
   },
   "outputs": [
    {
     "data": {
      "text/plain": [
       "array([[[ 21578.002757,   2105.369668,   1277.571807, ...,    143.515024,\n",
       "            225.319072,    187.064804]],\n",
       "\n",
       "       [[  1794.974587,  23108.665807,   9246.453414, ...,    248.729108,\n",
       "            354.610537,    405.67323 ]],\n",
       "\n",
       "       [[  1245.414632,   8711.726707,  26407.491934, ...,    268.960397,\n",
       "            427.472461,    385.155534]],\n",
       "\n",
       "       ..., \n",
       "       [[   139.347987,    246.83814 ,    266.485907, ...,  22428.875117,\n",
       "           6183.751837,   3526.095448]],\n",
       "\n",
       "       [[   228.283919,    358.938158,    432.431418, ...,   5600.20432 ,\n",
       "          35806.940142,   5329.232168]],\n",
       "\n",
       "       [[   174.691408,    393.594608,    378.657853, ...,   3479.654586,\n",
       "           4725.045093,  22567.214729]]])"
      ]
     },
     "execution_count": 151,
     "metadata": {},
     "output_type": "execute_result"
    }
   ],
   "source": [
    "binned"
   ]
  },
  {
   "cell_type": "code",
   "execution_count": 109,
   "metadata": {
    "collapsed": false
   },
   "outputs": [
    {
     "data": {
      "text/plain": [
       "array([6, 7, 8])"
      ]
     },
     "execution_count": 109,
     "metadata": {},
     "output_type": "execute_result"
    }
   ],
   "source": [
    "arr=np.array([[0,1,2],[3,4,5],[6,7,8]])\n",
    "block_ind=[0,1]\n",
    "arr[1:3]\n",
    "#np.sum(np.array(arr[block_ind][block_ind]))"
   ]
  },
  {
   "cell_type": "code",
   "execution_count": 138,
   "metadata": {
    "collapsed": false
   },
   "outputs": [
    {
     "data": {
      "text/plain": [
       "[10]"
      ]
     },
     "execution_count": 138,
     "metadata": {},
     "output_type": "execute_result"
    }
   ],
   "source": [
    "a=np.array([1,2,3,4])\n",
    "b=np.sum(a)\n",
    "#i.extend(np.array([3,4])\n",
    "c=[]\n",
    "c.extend([b])\n",
    "c"
   ]
  },
  {
   "cell_type": "code",
   "execution_count": null,
   "metadata": {
    "collapsed": true
   },
   "outputs": [],
   "source": []
  }
 ],
 "metadata": {
  "anaconda-cloud": {},
  "kernelspec": {
   "display_name": "Python [conda root]",
   "language": "python",
   "name": "conda-root-py"
  },
  "language_info": {
   "codemirror_mode": {
    "name": "ipython",
    "version": 2
   },
   "file_extension": ".py",
   "mimetype": "text/x-python",
   "name": "python",
   "nbconvert_exporter": "python",
   "pygments_lexer": "ipython2",
   "version": "2.7.12"
  }
 },
 "nbformat": 4,
 "nbformat_minor": 1
}
