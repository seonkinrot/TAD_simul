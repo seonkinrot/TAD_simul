{
 "cells": [
  {
   "cell_type": "code",
   "execution_count": 1,
   "metadata": {
    "collapsed": true,
    "deletable": true,
    "editable": true
   },
   "outputs": [],
   "source": []
  },
  {
   "cell_type": "code",
   "execution_count": 26,
   "metadata": {
    "collapsed": false,
    "deletable": true,
    "editable": true
   },
   "outputs": [],
   "source": [
    "#Dependencies\n",
    "import numpy as np\n",
    "import cPickle as pickle\n",
    "import glob\n",
    "import matplotlib.pyplot as plt\n",
    "from matplotlib.widgets import Slider, Button, RadioButtons\n",
    "#Useful functions\n",
    "def imshow3d(Im, axis=0, **kwargs):\n",
    "    \"\"\"\n",
    "    Display a 3d ndarray with a slider to move along the 0th dimension.\n",
    "    Extra keyword arguments are passed to imshow\n",
    "    \"\"\"\n",
    "    im = np.array(Im)\n",
    "    # generate figure\n",
    "    f, ax = plt.subplots()\n",
    "    f.subplots_adjust(left=0.25, bottom=0.25)\n",
    "    # select first image\n",
    "    s = [slice(0, 1) if i == axis else slice(None) for i in xrange(3)]\n",
    "    im_ = im[s].squeeze()\n",
    "    # display image\n",
    "    l = ax.imshow(im_, **kwargs)\n",
    "    l.set_clim(vmin=np.min(im),vmax=np.max(im))\n",
    "    # define slider\n",
    "    axcolor = 'lightgoldenrodyellow'\n",
    "    ax = f.add_axes([0.25, 0.1, 0.65, 0.03], axisbg=axcolor)\n",
    "    slider = Slider(ax, 'Axis %i index' % axis, 0, im.shape[axis] - 1,\n",
    "                    valinit=0, valfmt='%i')\n",
    "    def update(val):\n",
    "        ind = int(slider.val)\n",
    "        s = [slice(ind, ind + 1) if i == axis else slice(None)\n",
    "                 for i in xrange(3)]\n",
    "        im_ = im[s].squeeze()\n",
    "        l.set_data(im_)\n",
    "        f.canvas.draw()\n",
    "    slider.on_changed(update)\n",
    "    plt.show()\n",
    "\n",
    "def chromosomes(nuc_dia=10000,pixel_sz=100,nchr=46,return_im=False,plt_val=False,cutoff=0.):\n",
    "    \"\"\"\n",
    "    nuc_dia is the nuclear diameter in nm\n",
    "    pixel_sz is in nm\n",
    "    cutoff is the extent of inter-chromosome invasion in nm\n",
    "    This assumes 23 or 46 chromosomes (nchr), including homologues\n",
    "    \n",
    "    Return list of chromosomes and pixels in their territory (x,y,z locations in unit radius)\n",
    "    \"\"\"\n",
    "    #coordinates for 46 sphere centers\n",
    "    #(equal size spheres in a unit sphere)\n",
    "    #see:https://oeis.org/A084827/a084827.txt\n",
    "    if nchr==23:\n",
    "        centers=[[-0.090186232268855, -0.12719258042466, -0.707348165072374],\n",
    "                 [0.38870328320077, 0.123439845780586, -0.598602787948567],\n",
    "                 [-0.309170583212229, 0.37423843622416, -0.537598436535947],\n",
    "                 [0.28371423154274, -0.462489029599172, -0.479857338821224],\n",
    "                 [-0.569458339923172, -0.101071012738899, -0.436067408909527],\n",
    "                 [-0.253827307361331, -0.551289599956929, -0.39535352616894],\n",
    "                 [0.176894201455841, 0.586308932531292, -0.386785745293835],\n",
    "                 [0.669516873175885, -0.164919942120003, -0.22181412232117],\n",
    "                 [0.60918852030665, 0.373364422255918, -0.118917067887175],\n",
    "                 [-0.269000949817199, 0.668540524640236, -0.073109449104701],\n",
    "                 [-0.664012065947263, 0.28441188784869, -0.053392789438103],\n",
    "                 [0.0, 0.0, 0.0],\n",
    "                 [-0.593650302641085, -0.414670407675602, 0.016754307192129],\n",
    "                 [0.434917326049123, -0.576009620033541, 0.060932526357327],\n",
    "                 [-0.09787458412142, -0.709313014594744, 0.109309417466038],\n",
    "                 [0.232664986830043, 0.668063108437104, 0.155600844104138],\n",
    "                 [0.631764146516482, -0.135323377713092, 0.327436378946828],\n",
    "                 [-0.554830942730164, 0.100304097116244, 0.454702813635502],\n",
    "                 [-0.191032319228568, 0.514177446849921, 0.473055076440126],\n",
    "                 [-0.332723553965536, -0.40207224871969, 0.502280677592942],\n",
    "                 [0.216488806207223, -0.4259266153066, 0.544400634457405],\n",
    "                 [0.373183313581025, 0.301461270612607, 0.542686145412344],\n",
    "                 [-0.075730170612561, 0.034661741876543, 0.719525149349393]]\n",
    "    elif nchr==46:\n",
    "        centers=[[-0.127724638717686,0.029283782782012,-0.763670872459570], \n",
    "                [0.302116854275886,0.146601789724809,-0.698281876003332], \n",
    "                [0.050116071438789,-0.375084565347080,-0.676139240788969], \n",
    "                [0.387404648096449,-0.300279722464142,-0.600095035492607],\n",
    "                [-0.221565702064757,0.438003368581342,-0.599521487098418],\n",
    "                [-0.536838502467010,0.121012629438513,-0.545458207564384],\n",
    "                [0.470578557122151,-0.324839673302964,-0.522876020618661],\n",
    "                [0.206821475639773,0.544767478949537,-0.510703040725137],\n",
    "                [0.647737208453552,0.075787428022586,-0.418398254359731],\n",
    "                [0.209291510617636,-0.653452063989750,-0.359946924370349],\n",
    "                [-0.240428762326608,-0.655246890184877,-0.336466711372591],\n",
    "                [0.027563278735129,0.169874066797150,-0.337139524778479],\n",
    "                [-0.531122333361574,0.491550397468556,-0.276860250786947],\n",
    "                [-0.125040038594464,0.718782537235944,-0.260923317520113],\n",
    "                [-0.028222635427186,-0.267579430698296,-0.245896798982907],\n",
    "                [0.559897837805783,0.479367416697336,-0.238925962888257],\n",
    "                [-0.609344934400770,-0.421155893776354,-0.227356083644822],\n",
    "                [-0.755792906627536,0.000918343779410,-0.170705973387576],\n",
    "                [0.709453517788630,-0.276107684781292,-0.144237918782831],\n",
    "                [0.338406350902039,-0.029318746498438,-0.079260341210368],\n",
    "                [0.256184770042010,0.730938689442354,-0.021501641508632],\n",
    "                [-0.268046158037773,0.223179830668424,-0.001615424109930],\n",
    "                [0.463839024087979,-0.620577043697123,0.010090454994701],\n",
    "                [0.761425580114896,0.142996856131315,0.012137124700828],\n",
    "                [0.041055031342583,-0.772687639260906,0.040405708106847],\n",
    "                [-0.343201070932800,-0.214763803705687,0.071596445689072],\n",
    "                [-0.392969757022585,-0.662069840802751,0.087193008193199],\n",
    "                [-0.377886422912343,0.667723934061050,0.108217022567140],\n",
    "                [-0.686352373667351,0.339757482368351,0.117684310970756],\n",
    "                [0.150619047600183,0.321066162828993,0.132327016008240],\n",
    "                [0.137964450619487,-0.350718167453077,0.164313718413543],\n",
    "                [0.559387984377712,0.492787670746059,0.211210130456054],\n",
    "                [-0.717576062734593,-0.078536494382680,0.281568709115817],\n",
    "                [0.643403410008865,-0.310581345960640,0.299892559603968],\n",
    "                [0.002276767510746,0.692083481917933,0.348395549284496],\n",
    "                [-0.069193117297735,-0.000826838519097,0.357871631431749],\n",
    "                [-0.074584688024342,-0.626168415760149,0.450238341469810],\n",
    "                [0.622296753862575,0.114447785021264,0.447227819362128],\n",
    "                [-0.471682318226388,-0.413806749821993,0.454581223971127],\n",
    "                [-0.434951569989064,0.423001400164857,0.481924550044267],\n",
    "                [0.305007962363991,-0.417373667885278,0.577177346197253],\n",
    "                [0.295340191120549,0.432541638100190,0.571004577504622],\n",
    "                [-0.446844519125231,-0.001070128504388,0.633003282191707],\n",
    "                [-0.094303907267779,-0.267030401770297,0.721225250748454],\n",
    "                [0.281485705865138,0.008444506916010,0.721844036069634],\n",
    "                [-0.091709170433872,0.260484226789782,0.723948700091940]]\n",
    "    else:\n",
    "        assert False\n",
    "\n",
    "    centers = np.array(centers)\n",
    "    centers = centers[np.random.permutation(len(centers))]\n",
    "    arr_size = nuc_dia/pixel_sz #division casts as int\n",
    "    x_ = np.linspace(-1,1,arr_size) #pixel locations in unit radius\n",
    "    chrters = [[] for i in range(nchr)]\n",
    "    cutoff_unit_radius = float(cutoff)/(nuc_dia/2.) #convert invasion length to unit radius\n",
    "    for x in x_:\n",
    "        for y in x_:\n",
    "            for z in x_:\n",
    "                #test if in sphere\n",
    "                if x*x+y*y+z*z<=1:\n",
    "                    dists = np.sqrt(np.sum((centers-[[x,y,z]])**2,axis=1)) #distances to all sphere centers\n",
    "                    dif_2dist = dists-np.min(dists) #how much farther than the closest one?\n",
    "                    for ichr,dif_dist in enumerate(dif_2dist):\n",
    "                        if dif_dist<=cutoff_unit_radius:\n",
    "                            chrters[ichr].append([x,y,z]) #assign pixel to closest chr. and to others within cutoff dist.\n",
    "    im = np.zeros([arr_size]*3)\n",
    "    for i,chr_ in enumerate(chrters):\n",
    "        for x,y,z in (np.array(chr_)+1)*(arr_size-1)/2: #convert to pixel number (1...arr_size)\n",
    "            if im[int(np.round(x)),int(np.round(y)),int(np.round(z))]>0:\n",
    "                im[int(np.round(x)),int(np.round(y)),int(np.round(z))]=i+1+len(chrters)\n",
    "            else:\n",
    "                im[int(np.round(x)),int(np.round(y)),int(np.round(z))]=i+1\n",
    "    if plt_val:        \n",
    "        imshow3d(im,interpolation='nearest')\n",
    "    if return_im:\n",
    "        return chrters,im\n",
    "    return chrters\n",
    "\n",
    "def TAD_blur(xyzPos,pix_sz=100,nuc_dia=10000): ###add random 3D Gaussian to pixelized TAD location\n",
    "    perturb=np.random.normal(0,pix_sz/2./(nuc_dia/2.),3)\n",
    "    return perturb+xyzPos\n",
    "\n",
    "def TAD_generator(xyzChr,noTADs=100,udist=-0.44276236166846844,sigmadist=0.57416477624326434,nuc_dia=10000,pix_sz=100):\n",
    "    \"\"\"\n",
    "    xyzChr is a list of positions belonging to a chromosome territory\n",
    "    noTADs is the number of TADs in the chromosome\n",
    "    udist, sigmadist are the lognormal mean and variance of the distance distribution from consecutive TADs, calculated from\n",
    "    actual data on chr 21 and 22 (Steven's published data), in units of log(um)\n",
    "    nuc_dia, pix_sz are the nuclear diamater and pixel size in nm (see above)\n",
    "    Returns an array of dimensions noTADSx3, representing the 3D location of all TADs in a chromosome\n",
    "    \"\"\"\n",
    "    xyzChr_=np.array(xyzChr)\n",
    "    tads=[]\n",
    "    first=xyzChr_[np.random.randint(len(xyzChr))] #randomly choose location of first TAD\n",
    "    first=TAD_blur(first) #blur so effective resolution is better than pixel\n",
    "    tads.append(first)\n",
    "    for i_tad in range(noTADs-1): #sequentially add TADs at distance defined by lognormal distribution\n",
    "        difs=xyzChr_-[tads[i_tad]]#unit radius\n",
    "        dists=np.sqrt(np.sum(difs**2,axis=-1))\n",
    "        dists=np.log(dists*nuc_dia/2000.)#unit log um\n",
    "        weights = np.exp(-(dists-udist)**2/(2*sigmadist**2))\n",
    "        weights = np.cumsum(weights)\n",
    "        weights = weights/float(np.max(weights))\n",
    "        index_pj = np.sum(np.random.rand()-weights>0)\n",
    "        pj=xyzChr_[index_pj]#unit radius\n",
    "        pj=TAD_blur(pj)\n",
    "        tads.append(pj)\n",
    "    return np.array(tads)"
   ]
  },
  {
   "cell_type": "code",
   "execution_count": null,
   "metadata": {
    "collapsed": true,
    "deletable": true,
    "editable": true
   },
   "outputs": [],
   "source": []
  },
  {
   "cell_type": "code",
   "execution_count": null,
   "metadata": {
    "collapsed": true,
    "deletable": true,
    "editable": true
   },
   "outputs": [],
   "source": []
  },
  {
   "cell_type": "code",
   "execution_count": 29,
   "metadata": {
    "collapsed": false,
    "deletable": true,
    "editable": true,
    "scrolled": true
   },
   "outputs": [
    {
     "name": "stdout",
     "output_type": "stream",
     "text": [
      "#Chr:23\n",
      "Cutoff:0.0\n",
      "Cell:0\n",
      "Cell:1\n",
      "Cell:2\n",
      "Cell:3\n",
      "Cell:4\n",
      "Cell:5\n",
      "Cell:6\n",
      "Cell:7\n",
      "Cell:8\n",
      "Cell:9\n",
      "Cell:10\n",
      "Cell:11\n",
      "Cell:12\n",
      "Cell:13\n",
      "Cell:14\n",
      "Cell:15\n",
      "Cell:16\n",
      "Cell:17\n",
      "Cell:18\n",
      "Cell:19\n",
      "Cutoff:100.0\n",
      "Cell:0\n",
      "Cell:1\n",
      "Cell:2\n",
      "Cell:3\n",
      "Cell:4\n",
      "Cell:5\n",
      "Cell:6\n",
      "Cell:7\n",
      "Cell:8\n",
      "Cell:9\n",
      "Cell:10\n",
      "Cell:11\n",
      "Cell:12\n",
      "Cell:13\n",
      "Cell:14\n",
      "Cell:15\n",
      "Cell:16\n",
      "Cell:17\n",
      "Cell:18\n",
      "Cell:19\n",
      "Cutoff:200.0\n",
      "Cell:0\n",
      "Cell:1\n",
      "Cell:2\n",
      "Cell:3\n",
      "Cell:4\n",
      "Cell:5\n",
      "Cell:6\n",
      "Cell:7\n",
      "Cell:8\n",
      "Cell:9\n",
      "Cell:10\n",
      "Cell:11\n",
      "Cell:12\n",
      "Cell:13\n",
      "Cell:14\n",
      "Cell:15\n",
      "Cell:16\n",
      "Cell:17\n",
      "Cell:18\n",
      "Cell:19\n",
      "Cutoff:300.0\n",
      "Cell:0\n",
      "Cell:1\n",
      "Cell:2\n",
      "Cell:3\n",
      "Cell:4\n",
      "Cell:5\n",
      "Cell:6\n",
      "Cell:7\n",
      "Cell:8\n",
      "Cell:9\n",
      "Cell:10\n",
      "Cell:11\n",
      "Cell:12\n",
      "Cell:13\n",
      "Cell:14\n",
      "Cell:15\n",
      "Cell:16\n",
      "Cell:17\n",
      "Cell:18\n",
      "Cell:19\n",
      "Cutoff:400.0\n",
      "Cell:0\n",
      "Cell:1\n",
      "Cell:2\n",
      "Cell:3\n",
      "Cell:4\n",
      "Cell:5\n",
      "Cell:6\n",
      "Cell:7\n",
      "Cell:8\n",
      "Cell:9\n",
      "Cell:10\n",
      "Cell:11\n",
      "Cell:12\n",
      "Cell:13\n",
      "Cell:14\n",
      "Cell:15\n",
      "Cell:16\n",
      "Cell:17\n",
      "Cell:18\n",
      "Cell:19\n",
      "Cutoff:500.0\n",
      "Cell:0\n",
      "Cell:1\n",
      "Cell:2\n",
      "Cell:3\n",
      "Cell:4\n",
      "Cell:5\n",
      "Cell:6\n",
      "Cell:7\n",
      "Cell:8\n",
      "Cell:9\n",
      "Cell:10\n",
      "Cell:11\n",
      "Cell:12\n",
      "Cell:13\n",
      "Cell:14\n",
      "Cell:15\n",
      "Cell:16\n",
      "Cell:17\n",
      "Cell:18\n",
      "Cell:19\n",
      "#Chr:46\n",
      "Cutoff:0.0\n",
      "Cell:0\n",
      "Cell:1\n",
      "Cell:2\n",
      "Cell:3\n",
      "Cell:4\n",
      "Cell:5\n",
      "Cell:6\n",
      "Cell:7\n",
      "Cell:8\n",
      "Cell:9\n",
      "Cell:10\n",
      "Cell:11\n",
      "Cell:12\n",
      "Cell:13\n",
      "Cell:14\n",
      "Cell:15\n",
      "Cell:16\n",
      "Cell:17\n",
      "Cell:18\n",
      "Cell:19\n",
      "Cutoff:100.0\n",
      "Cell:0\n",
      "Cell:1\n",
      "Cell:2\n",
      "Cell:3\n",
      "Cell:4\n",
      "Cell:5\n",
      "Cell:6\n",
      "Cell:7\n",
      "Cell:8\n",
      "Cell:9\n",
      "Cell:10\n",
      "Cell:11\n",
      "Cell:12\n",
      "Cell:13\n",
      "Cell:14\n",
      "Cell:15\n",
      "Cell:16\n",
      "Cell:17\n",
      "Cell:18\n",
      "Cell:19\n",
      "Cutoff:200.0\n",
      "Cell:0\n",
      "Cell:1\n",
      "Cell:2\n",
      "Cell:3\n",
      "Cell:4\n",
      "Cell:5\n",
      "Cell:6\n",
      "Cell:7\n",
      "Cell:8\n",
      "Cell:9\n",
      "Cell:10\n",
      "Cell:11\n",
      "Cell:12\n",
      "Cell:13\n",
      "Cell:14\n",
      "Cell:15\n",
      "Cell:16\n",
      "Cell:17\n",
      "Cell:18\n",
      "Cell:19\n",
      "Cutoff:300.0\n",
      "Cell:0\n",
      "Cell:1\n",
      "Cell:2\n",
      "Cell:3\n",
      "Cell:4\n",
      "Cell:5\n",
      "Cell:6\n",
      "Cell:7\n",
      "Cell:8\n",
      "Cell:9\n",
      "Cell:10\n",
      "Cell:11\n",
      "Cell:12\n",
      "Cell:13\n",
      "Cell:14\n",
      "Cell:15\n",
      "Cell:16\n",
      "Cell:17\n",
      "Cell:18\n",
      "Cell:19\n",
      "Cutoff:400.0\n",
      "Cell:0\n",
      "Cell:1\n",
      "Cell:2\n",
      "Cell:3\n",
      "Cell:4\n",
      "Cell:5\n",
      "Cell:6\n",
      "Cell:7\n",
      "Cell:8\n",
      "Cell:9\n",
      "Cell:10\n",
      "Cell:11\n",
      "Cell:12\n",
      "Cell:13\n",
      "Cell:14\n",
      "Cell:15\n",
      "Cell:16\n",
      "Cell:17\n",
      "Cell:18\n",
      "Cell:19\n",
      "Cutoff:500.0\n",
      "Cell:0\n",
      "Cell:1\n",
      "Cell:2\n",
      "Cell:3\n",
      "Cell:4\n",
      "Cell:5\n",
      "Cell:6\n",
      "Cell:7\n",
      "Cell:8\n",
      "Cell:9\n",
      "Cell:10\n",
      "Cell:11\n",
      "Cell:12\n",
      "Cell:13\n",
      "Cell:14\n",
      "Cell:15\n",
      "Cell:16\n",
      "Cell:17\n",
      "Cell:18\n",
      "Cell:19\n"
     ]
    }
   ],
   "source": [
    "#Simulate multiple single cells and save to file\n",
    "import cPickle as pickle\n",
    "cutoffs=np.linspace(0,500,6)\n",
    "reals=20 #number of realizations\n",
    "tads=100 #number of TADs per chromosome\n",
    "\n",
    "for num_chr_ in (23,46):\n",
    "    print '#Chr:'+str(num_chr_)\n",
    "    for cutoff_ in cutoffs:\n",
    "        chrters=chromosomes(nuc_dia=10000,pixel_sz=100,nchr=num_chr_,plt_val=False,return_im=False,cutoff=cutoff_)\n",
    "        real_matrix=[]\n",
    "        print 'Cutoff:'+str(cutoff_)\n",
    "        for i_rel in range(reals):\n",
    "            single_cell=[]\n",
    "            print 'Cell:'+str(i_rel)\n",
    "            for chrter in chrters:\n",
    "                tads_=TAD_generator(chrter,tads)\n",
    "                single_cell.append(tads_)\n",
    "            real_matrix.append(single_cell)\n",
    "        real_matrix=np.array(real_matrix)\n",
    "        pickle.dump(real_matrix,open('simulatedTads_'+str(num_chr_)+'_cut'+str(int(cutoff_))+'.pkl','wb'))"
   ]
  },
  {
   "cell_type": "code",
   "execution_count": 126,
   "metadata": {
    "collapsed": false,
    "deletable": true,
    "editable": true
   },
   "outputs": [],
   "source": [
    "#Load multiple single cells from file\n",
    "\n",
    "import cPickle as pickle\n",
    "real_matrix = pickle.load(open('simulatedTads23.pkl','r'))\n",
    "real_matrix = real_matrix*5000 #Transform to nm"
   ]
  },
  {
   "cell_type": "code",
   "execution_count": null,
   "metadata": {
    "collapsed": true,
    "deletable": true,
    "editable": true
   },
   "outputs": [],
   "source": []
  },
  {
   "cell_type": "code",
   "execution_count": 233,
   "metadata": {
    "collapsed": false,
    "deletable": true,
    "editable": true
   },
   "outputs": [],
   "source": [
    "#plot the Tads in a few chromosomes\n",
    "\n",
    "import matplotlib.pylab as plt\n",
    "for i,chr_ in enumerate(real_matrix[0]):\n",
    "    x,y,z = chr_.T\n",
    "    #plt.text()\n",
    "    plt.plot(x,y,'wo')\n",
    "for i,chr_ in enumerate(real_matrix[0]):\n",
    "    x,y,z = chr_.T\n",
    "    if i>5:\n",
    "        break\n",
    "    #plt.text()\n",
    "    plt.plot(x,y,'o')\n",
    "plt.axis('equal')\n",
    "plt.show()"
   ]
  },
  {
   "cell_type": "code",
   "execution_count": 106,
   "metadata": {
    "collapsed": false,
    "deletable": true,
    "editable": true
   },
   "outputs": [],
   "source": [
    "#Encoder - construct a matrix hybes of length number of hybes x number of chromosomes \n",
    "#each containing the id of the tad in the hybe (0 means the TAD is missing from that hybe)\n",
    "import itertools\n",
    "import numpy as np\n",
    "def combs_to_code(combs_eq_sp,nchr=None):\n",
    "    \"\"\"Construct from combs list to code binary array\n",
    "    For example changes:\n",
    "    combs_eq_sp = [(0,1,2,3),(0,1,2,4)] to codes = [[1,1,1,1,0],[1,1,1,0,1]]\n",
    "    \"\"\"\n",
    "    if nchr is None:\n",
    "        nchr = np.max(combs_eq_sp)+1\n",
    "    codes = np.zeros([len(combs_eq_sp),nchr],dtype=int)\n",
    "    for i,comb in enumerate(combs_eq_sp):\n",
    "        codes[i][list(comb)] = 1\n",
    "    return codes\n",
    "def test_code(codes):\n",
    "    \"\"\"If chromosme i apears in a subset of hybes. Check to see that no other chromosomes appears in the same set.\"\"\"\n",
    "    nchr = codes.shape[-1]\n",
    "    print \"No. of tads:\"\n",
    "    print np.unique(np.sum(codes,axis=0))\n",
    "    print \"No. of chrms labeled/hybe:\"\n",
    "    print np.unique(np.sum(codes,axis=1)),np.mean(np.sum(codes,axis=1)),np.std(np.sum(codes,axis=1))\n",
    "    unique_encoding = np.prod([np.sum(np.prod(codes[codes[:,ichr]==1,:],axis=0))==1 for ichr in range(nchr)])==1\n",
    "    return unique_encoding\n",
    "def patch_code(codes,target):\n",
    "    nchr = codes.shape[-1]\n",
    "    for ichr in range(nchr):\n",
    "        code = codes[:,ichr]\n",
    "        n1s = np.sum(code)\n",
    "        ndel1s = n1s-target\n",
    "        if ndel1s>0:\n",
    "            pos1s = np.where(code)[0]\n",
    "            del_pos = np.random.choice(pos1s,size=ndel1s,replace=False)\n",
    "            code[del_pos]=0\n",
    "        elif ndel1s<0:\n",
    "            pos0s = np.where(code==0)[0]\n",
    "            del_pos = np.random.choice(pos0s,size=np.abs(ndel1s),replace=False)\n",
    "            code[del_pos]=1\n",
    "    return codes\n",
    "def code_encoder(nchr=23,ntads=100,nlabel_=2,no_hom=1):\n",
    "    \"\"\"Master function for the encoder\n",
    "    nchr is the number of *unique* - i.e. non-homologous - chromosomes\n",
    "    no_hom is the number of homologous chromosomes\n",
    "    nlabel is the numbr of TADs labeled in each hybe\n",
    "    #Interpretation of codes: codes is number of hybe x number of chromosomes and indicates which chr is present in each hybe\n",
    "\n",
    "    #Interpretation of hybes: hybes is number of hybe x number of chromosomes and indicates which TAD is present in each hybe\n",
    "    #                         0 means chromose not appearing and if not 0 then it encodes which TAD from the chr appears\n",
    "    Return hybes\n",
    "    \n",
    "    ###Example use:\n",
    "    hybes = code_encoder(nchr=23,ntads=100,nlabel_=10)\n",
    "    \"\"\"\n",
    "    combs = list(itertools.combinations(range(nchr),nlabel_))\n",
    "    nhybes = int(float(nchr)*ntads/nlabel_)+1\n",
    "    inds = np.array(np.round(np.linspace(0,len(combs)-1,nhybes)),dtype=int)\n",
    "    combs_eq_sp = [combs[ind] for ind in inds]\n",
    "    codes = combs_to_code(combs_eq_sp)\n",
    "    codes = patch_code(codes,target=ntads)\n",
    "    assert test_code(codes)\n",
    "    hybes=np.cumsum(codes,axis=0)*codes\n",
    "    hybes=np.concatenate([hybes.T]*no_hom).T\n",
    "    return hybes"
   ]
  },
  {
   "cell_type": "code",
   "execution_count": 105,
   "metadata": {
    "collapsed": true,
    "deletable": true,
    "editable": true
   },
   "outputs": [],
   "source": [
    "def simulated_imdata(hybes,cell,err_rate=0.032504222398951552):\n",
    "    \"\"\"\n",
    "    Inputs:\n",
    "    hybes is the encoding(see above)\n",
    "    cell is ground truth for single cell (no_of_chr x no_of_TADS x 3)\n",
    "    err_rate is the rate at which a TAD is missed (averaged over 4 chromosomes from Steven's published data)\n",
    "    Returns:\n",
    "    hybes_points\n",
    "    a list of dim no_of_hybes with lists of x,y,z points - the simulated imaging data\n",
    "    tot_ground_truth is the chromosome identity of all imaged points per hybe\n",
    "    \"\"\"\n",
    "    hybes_points,tot_ground_truth=[],[]\n",
    "    for hybe in hybes:\n",
    "        chrs_in_hybe = np.where(hybe>0)[0]\n",
    "        tad_ids_in_hybe = hybe[hybe>0]-1\n",
    "        hybe_points,ground_truth=[],[]\n",
    "        for chr_in_hybe,tad_in_hybe in zip(chrs_in_hybe,tad_ids_in_hybe):\n",
    "            if np.random.rand()>err_rate: #probability of missing a TAD in imaging\n",
    "                hybe_points.append(cell[chr_in_hybe][tad_in_hybe])\n",
    "                ground_truth.append(chr_in_hybe)\n",
    "        hybes_points.append(hybe_points)\n",
    "        tot_ground_truth.append(ground_truth)\n",
    "    hybes_points = map(np.array,hybes_points)\n",
    "    return hybes_points,tot_ground_truth"
   ]
  },
  {
   "cell_type": "code",
   "execution_count": 104,
   "metadata": {
    "collapsed": false,
    "deletable": true,
    "editable": true
   },
   "outputs": [],
   "source": [
    "#Decoder - Given hybes_points and hybes predict chr id\n",
    "def decoder(hybes_points,hybes,tot_ground_truth,no_hom=1,n_chr=23):\n",
    "    #What chromosomes appear in which hybe\n",
    "    possible_chrs_hybes=[]\n",
    "    for hybe in hybes:\n",
    "        possible_chrs_hybes.append(np.where(hybe>0)[0])\n",
    "    ##\n",
    "    goods,bads=0,0\n",
    "    chromosome_ids_all = []\n",
    "    #Iterate through all the points in the hybes. The current hybe I call it ref hybe\n",
    "    for id_ref in range(len(hybes_points)):\n",
    "        ###Given id_ref hybe compute the projection space\n",
    "        hybes_points_ref = hybes_points[id_ref]\n",
    "        \n",
    "        possible_chrs = possible_chrs_hybes[id_ref]#np.where(hybes[id_ref]>0)[0]\n",
    "        \n",
    "        #compute possible projections: possibble chromosome x numbe of hybes - binary\n",
    "        possible_projections = np.zeros([len(possible_chrs),len(possible_chrs_hybes)],dtype=int)\n",
    "        for i,chr_T in enumerate(possible_chrs):\n",
    "            for j,possible_chrs_hybe in enumerate(possible_chrs_hybes):\n",
    "                possible_projections[i,j]=chr_T in possible_chrs_hybe\n",
    "        sum_proj = np.array([np.sum(possible_projections,axis=1)])\n",
    "        #sum_proj[sum_proj==0]=1\n",
    "        possible_projections_ = possible_projections*1./sum_proj.T #the normalized projection space\n",
    "        \n",
    "        ###Compute \n",
    "        projections_point = []\n",
    "        for point in hybes_points_ref:\n",
    "            min_L1_dists=[]#distances to nearest neighbors across hybes for point\n",
    "            for hybe_point in hybes_points:\n",
    "                difs = point - hybe_point\n",
    "                #min_L1_dist = np.min(np.sum(np.abs(difs),axis=-1))\n",
    "                min_L1_dist = np.min(np.sqrt(np.sum(difs**2,axis=-1)))\n",
    "                min_L1_dists.append(min_L1_dist)\n",
    "            min_L1_dists = np.array(min_L1_dists)#nearest neighbour distance across hybes for point in reference hybe\n",
    "\n",
    "            projection = np.dot(possible_projections_,min_L1_dists)\n",
    "            projections_point.append(projection)\n",
    "        ##After computing a no of candidate chromosomes x no of points weight matrix projections_point\n",
    "        ## Decide on best assigment.\n",
    "        def conf_proj(projection):\n",
    "            #given a projection compute the \"confidence\" for it as the difference between the two smalles distance weights.\n",
    "            unk = np.unique(projection)#this also sorts\n",
    "            if len(unk)<2:\n",
    "                return unk[0]\n",
    "            else:\n",
    "                return unk[1]-unk[0]\n",
    "        \n",
    "        projections_point_=np.array(projections_point)\n",
    "        point_ids = np.arange(projections_point_.shape[0])\n",
    "        chr_ids = np.arange(projections_point_.shape[1])\n",
    "\n",
    "        chr_picks=[]\n",
    "        while projections_point_.shape[0]>0:\n",
    "            confs = map(conf_proj,projections_point_)# list of confidence for the remaining points across the remaining chrs.\n",
    "            point_ind = np.argmax(confs)# the id of the point with the highest confidence\n",
    "            chr_ind = np.argmin(projections_point_[point_ind])  # the id ot the chromosome assiged to the most confident point\n",
    "            chr_picks.append((point_ids[point_ind],chr_ids[chr_ind])) #keep above pair\n",
    "\n",
    "            point_ind_keep = np.setdiff1d(np.arange(projections_point_.shape[0]),[point_ind])\n",
    "            chr_ind_keep = np.setdiff1d(np.arange(projections_point_.shape[1]),[chr_ind])\n",
    "            point_ids = point_ids[point_ind_keep]\n",
    "            chr_ids = chr_ids[chr_ind_keep]\n",
    "            projections_point_ = projections_point_[point_ind_keep,:]\n",
    "            projections_point_ = projections_point_[:,chr_ind_keep] #killing rows and columns\n",
    "        \n",
    "        points_identities,chr_identities = zip(*chr_picks)\n",
    "        #chr_identities goes from 0 to number of chromosomes is ref hybe in maximum confidence order\n",
    "        chromosome_ids0 = np.arange(len(points_identities))\n",
    "        chromosome_ids0[np.array(points_identities)]=np.array(chr_identities)\n",
    "        chromosome_ids = possible_chrs[chromosome_ids0]%n_chr\n",
    "        chromosome_ids_all.append(chromosome_ids)\n",
    "        #chromosome_ids is chromosome prediction (0-22) in order of the points in ref hybe.\n",
    "        #Compare to ground truth calculated during simulation of imaging data.\n",
    "        non_deg_poss=np.array(tot_ground_truth[id_ref])%n_chr\n",
    "        good = np.sum(non_deg_poss==chromosome_ids) #up to degeneracy due to homologous chromosomes\n",
    "        bad = np.sum(non_deg_poss!=chromosome_ids)\n",
    "        goods+=good\n",
    "        bads+=bad\n",
    "                      \n",
    "    return goods,bads,chromosome_ids_all"
   ]
  },
  {
   "cell_type": "code",
   "execution_count": null,
   "metadata": {
    "collapsed": true,
    "deletable": true,
    "editable": true
   },
   "outputs": [],
   "source": [
    "import numpy as np\n",
    "\n",
    "\"\"\"\" \n",
    "Tries to tell appart homologous chromosomes based on physical distance\n",
    "\"\"\"\"\n",
    "def separate_homologues(chromosome_ids_all,hybes_points,n_chr=23,no_hom=2):\n",
    "    for chr_ in range(n_chr):\n",
    "        #unassigned_hybes=np.arange(len(hybes_points))\n",
    "        baskets=[] #baskets for each homologous chromosome\n",
    "        for hybe_ in range(len(hybes_points))\n",
    "            indx_=np.where(chromosome_ids_all[hybe_]==chr_)\n",
    "            points_=hybes_points[hybe_][indx_]\n",
    "            num_=len(indx_)\n",
    "            for i,pt in enumerate(indx_):\n",
    "                dists_=\n",
    "            #unassigned_hybes=np.setdiff1d(unassigned_hybes,hybe_)\n",
    "    return chromosome_ids_all"
   ]
  },
  {
   "cell_type": "code",
   "execution_count": null,
   "metadata": {
    "collapsed": true,
    "deletable": true,
    "editable": true
   },
   "outputs": [],
   "source": []
  },
  {
   "cell_type": "code",
   "execution_count": 60,
   "metadata": {
    "collapsed": false,
    "deletable": true,
    "editable": true
   },
   "outputs": [],
   "source": []
  },
  {
   "cell_type": "code",
   "execution_count": null,
   "metadata": {
    "collapsed": true,
    "deletable": true,
    "editable": true
   },
   "outputs": [],
   "source": []
  },
  {
   "cell_type": "code",
   "execution_count": 183,
   "metadata": {
    "collapsed": false,
    "deletable": true,
    "editable": true
   },
   "outputs": [],
   "source": [
    "reload(ts)\n",
    "num_chr =23\n",
    "num_hom=2\n",
    "split_dic ={}\n",
    "for chr_id in range(num_chr):\n",
    "    split_dic[chr_id]=map(list,[[]]*num_hom)\n",
    "im_data_enhanced = map(list,im_data)\n",
    "for ihybe in range(len(im_data_enhanced)):\n",
    "    im_data_enhanced_hybe = im_data_enhanced[ihybe]\n",
    "    for ipoint in range(len(im_data_enhanced_hybe)):\n",
    "        point = im_data_enhanced_hybe[ipoint]\n",
    "        point = list(point)+[ihybe,ipoint]\n",
    "        im_data_enhanced_hybe[ipoint] = point\n",
    "    im_data_enhanced[ihybe] = im_data_enhanced_hybe\n",
    "#iterate through chromosomes.\n",
    "pts_chrs,chr_hybes = [],[]\n",
    "for pts_hybe,chr_hybe in zip(im_data_enhanced,interp):\n",
    "    pts_chr_ = ts.partition_map(pts_hybe,chr_hybe)\n",
    "    chr_hybe_ = np.unique(chr_hybe)\n",
    "    pts_chrs.extend(pts_chr_)\n",
    "    chr_hybes.extend(chr_hybe_)\n",
    "pts_partitioned = ts.partition_map(pts_chrs,chr_hybes)\n",
    "chrs_ids = np.unique(chr_hybes)\n",
    "\n",
    "#iterate through chromosome ids\n",
    "chrs_id = chrs_ids[0]\n",
    "pts_partitioned_ = pts_partitioned[0]\n",
    "\n",
    "id_hybe_start = np.argsort(map(len,pts_partitioned_))[-1]\n",
    "pts_start = pts_partitioned_[id_hybe_start]\n",
    "assert len(pts_start)==num_hom\n",
    "split_chr = split_dic[chrs_id]\n",
    "for ipt,pt in enumerate(pts_start):\n",
    "    split_chr[ipt].append(pt)\n",
    "\n",
    "pts_tobeasigned = list(pts_partitioned_)\n",
    "pts_tobeasigned.pop(id_hybe_start)\n",
    "\n",
    "chr_estim = [[list(val)+[ival]for ival,val in enumerate(pts_partitioned_[id_hybe_start])]]\n",
    "\n",
    "for pts_hybe in pts_tobeasigned:\n",
    "    mean_dists_hybe = []\n",
    "    for pt in pts_hybe:\n",
    "        mean_dists = [np.mean([np.sqrt(np.sum((pt[:3]-pt_t[:3])**2)) for pt_t in split_]) for split_ in split_chr]\n",
    "        #mean_dists has num of homolog dists\n",
    "        mean_dists_hybe.append(mean_dists)\n",
    "    picks = ts.unique_classif(mean_dists_hybe)\n",
    "    chr_estim.append([list(pts_hybe[pick[0]][:])+[pick[1]] for pick in picks])\n",
    "\n",
    "#Return the sames as interp(chromosme_id_all) but dealt with degeneracy\n"
   ]
  },
  {
   "cell_type": "code",
   "execution_count": null,
   "metadata": {
    "collapsed": true,
    "deletable": true,
    "editable": true
   },
   "outputs": [],
   "source": []
  },
  {
   "cell_type": "code",
   "execution_count": 160,
   "metadata": {
    "collapsed": false,
    "deletable": true,
    "editable": true
   },
   "outputs": [],
   "source": [
    "pts_chr0 = np.array(ts.flatten(pts_partitioned_))[:,:3]\n",
    "x,y,z = pts_chr0.T\n",
    "plt.plot(x,z,'o')\n",
    "plt.show()"
   ]
  },
  {
   "cell_type": "code",
   "execution_count": 187,
   "metadata": {
    "collapsed": false,
    "deletable": true,
    "editable": true
   },
   "outputs": [],
   "source": [
    "import matplotlib.pyplot as plt\n",
    "flat_ = np.array(ts.flatten(chr_estim))\n",
    "for i in [0,1]:\n",
    "    x,y,z = flat_[flat_[:,-1]==i,:3].T\n",
    "    plt.plot(x,z,'o')\n",
    "plt.show()"
   ]
  },
  {
   "cell_type": "code",
   "execution_count": null,
   "metadata": {
    "collapsed": true,
    "deletable": true,
    "editable": true
   },
   "outputs": [],
   "source": []
  },
  {
   "cell_type": "code",
   "execution_count": null,
   "metadata": {
    "collapsed": true,
    "deletable": true,
    "editable": true
   },
   "outputs": [],
   "source": []
  },
  {
   "cell_type": "code",
   "execution_count": 181,
   "metadata": {
    "collapsed": false,
    "deletable": true,
    "editable": true
   },
   "outputs": [
    {
     "name": "stdout",
     "output_type": "stream",
     "text": [
      "63\n",
      "100\n"
     ]
    }
   ],
   "source": [
    "#separate points to hom\n",
    "reload(ts)\n",
    "chr_estim_ = list(chr_estim)\n",
    "\n",
    "for i_loop in range(2):\n",
    "    flat_ = np.array(ts.flatten(chr_estim_))\n",
    "    for i in [0,1]:\n",
    "        x,y,z = flat_[flat_[:,-1]==i,:3].T\n",
    "        plt.plot(x,z,'o')\n",
    "    plt.show()\n",
    "    hom_buckets = map(list,[[]]*num_hom)\n",
    "    for pt in ts.flatten(chr_estim_):\n",
    "        hom_buckets[pt[-1]].append(pt[:3])\n",
    "    hom_buckets = map(np.array,hom_buckets)\n",
    "\n",
    "    counter_flip = 0\n",
    "    for ihyb,pick in enumerate(chr_estim_):\n",
    "        \n",
    "        num_pts = len(pick)\n",
    "        possibilities = np.array(list(itertools.combinations(range(num_hom),num_pts)))\n",
    "        current_possib = np.array([elem[-1] for elem in pick])\n",
    "        weight_posib = []\n",
    "        for posib in possibilities:\n",
    "            means_of_means = []\n",
    "            for ipick,ipos in enumerate(posib):\n",
    "                mean_dist = np.mean(np.sqrt(np.sum(([pick[ipick][:3]]-hom_buckets[ipos])**2,axis=-1)))\n",
    "                means_of_means.append(mean_dist)\n",
    "            means_of_means = np.mean(means_of_means)\n",
    "            weight_posib.append(means_of_means)\n",
    "        best_posib = possibilities[np.argmin(weight_posib)]\n",
    "        #compare with current possib\n",
    "        counter_flip+=np.prod(current_possib==best_posib)\n",
    "\n",
    "        #assign best posib\n",
    "        for ipick,ipos in enumerate(best_posib):\n",
    "            pick[ipick][-1]=ipos\n",
    "        chr_estim_[ihyb]=pick\n",
    "\n",
    "    print counter_flip \n",
    "    \n",
    "    "
   ]
  },
  {
   "cell_type": "code",
   "execution_count": null,
   "metadata": {
    "collapsed": true,
    "deletable": true,
    "editable": true
   },
   "outputs": [],
   "source": []
  },
  {
   "cell_type": "code",
   "execution_count": 121,
   "metadata": {
    "collapsed": false,
    "deletable": true,
    "editable": true
   },
   "outputs": [
    {
     "data": {
      "text/plain": [
       "array([[0, 1],\n",
       "       [1, 0]])"
      ]
     },
     "execution_count": 121,
     "metadata": {},
     "output_type": "execute_result"
    }
   ],
   "source": [
    "import itertools\n"
   ]
  },
  {
   "cell_type": "code",
   "execution_count": null,
   "metadata": {
    "collapsed": true,
    "deletable": true,
    "editable": true
   },
   "outputs": [],
   "source": []
  },
  {
   "cell_type": "code",
   "execution_count": 104,
   "metadata": {
    "collapsed": true,
    "deletable": true,
    "editable": true
   },
   "outputs": [],
   "source": []
  },
  {
   "cell_type": "code",
   "execution_count": 89,
   "metadata": {
    "collapsed": false,
    "deletable": true,
    "editable": true
   },
   "outputs": [
    {
     "data": {
      "text/plain": [
       "[1, 2, 3]"
      ]
     },
     "execution_count": 89,
     "metadata": {},
     "output_type": "execute_result"
    }
   ],
   "source": [
    "arr_ = [1,2,3,4]\n",
    "arr_[:3]"
   ]
  },
  {
   "cell_type": "code",
   "execution_count": null,
   "metadata": {
    "collapsed": true,
    "deletable": true,
    "editable": true
   },
   "outputs": [],
   "source": []
  },
  {
   "cell_type": "code",
   "execution_count": 76,
   "metadata": {
    "collapsed": false,
    "deletable": true,
    "editable": true
   },
   "outputs": [
    {
     "data": {
      "text/plain": [
       "[array([0.015508228453001233, -0.48560677606662095, -0.85686744358991784,\n",
       "        99, 12], dtype=object),\n",
       " array([0.012061786974621725, -0.48278758745713457, 0.64646944012208563, 99,\n",
       "        23], dtype=object)]"
      ]
     },
     "execution_count": 76,
     "metadata": {},
     "output_type": "execute_result"
    }
   ],
   "source": [
    "def conf(pair,list_split):\n",
    "    for "
   ]
  },
  {
   "cell_type": "code",
   "execution_count": null,
   "metadata": {
    "collapsed": true,
    "deletable": true,
    "editable": true
   },
   "outputs": [],
   "source": []
  },
  {
   "cell_type": "code",
   "execution_count": 69,
   "metadata": {
    "collapsed": false,
    "deletable": true,
    "editable": true
   },
   "outputs": [
    {
     "data": {
      "text/plain": [
       "array([62, 97, 76, 46, 80,  9, 36, 70, 69, 68, 67, 66, 65, 64,  0, 71, 61,\n",
       "       60, 59, 58, 57, 56, 55, 54, 53, 63, 72, 74, 52, 96, 95, 94, 93, 92,\n",
       "       91, 90, 89, 88, 73, 87, 85, 84, 83, 82, 81, 79, 78, 77, 75, 86, 51,\n",
       "       49, 98, 21, 20, 19, 18, 17, 16, 15, 14, 13, 22, 12, 10,  8,  7,  6,\n",
       "        5,  4,  3,  2,  1, 11, 23, 24, 25, 48, 47, 45, 44, 43, 42, 41, 40,\n",
       "       39, 38, 37, 35, 34, 33, 32, 31, 30, 29, 28, 27, 26, 50, 99], dtype=int64)"
      ]
     },
     "execution_count": 69,
     "metadata": {},
     "output_type": "execute_result"
    }
   ],
   "source": []
  },
  {
   "cell_type": "code",
   "execution_count": null,
   "metadata": {
    "collapsed": true,
    "deletable": true,
    "editable": true
   },
   "outputs": [],
   "source": []
  },
  {
   "cell_type": "code",
   "execution_count": null,
   "metadata": {
    "collapsed": true,
    "deletable": true,
    "editable": true
   },
   "outputs": [],
   "source": []
  },
  {
   "cell_type": "code",
   "execution_count": null,
   "metadata": {
    "collapsed": true,
    "deletable": true,
    "editable": true
   },
   "outputs": [],
   "source": [
    "#iterate through hybes\n",
    "pts_hybe = im_data[0]\n",
    "chr_hybe = interp[0]\n",
    "#ts.partition_map()\n",
    "pts_chr_ = ts.partition_map(pts_hybe,chr_hybe)\n",
    "chr_hybe_ = np.unique(chr_hybe)\n",
    "#iterate through pairs of points\n",
    "pts_pair = pts_chr_[0]\n",
    "chr_id = chr_hybe_[0]\n",
    "\n",
    "buckets = split_dic[chr_id]\n",
    "pts_pair,chr_id,buckets\n",
    "if len(buckets)"
   ]
  },
  {
   "cell_type": "code",
   "execution_count": 26,
   "metadata": {
    "collapsed": false,
    "deletable": true,
    "editable": true
   },
   "outputs": [
    {
     "ename": "AttributeError",
     "evalue": "'tuple' object has no attribute 'size'",
     "output_type": "error",
     "traceback": [
      "\u001b[1;31m---------------------------------------------------------------------------\u001b[0m",
      "\u001b[1;31mAttributeError\u001b[0m                            Traceback (most recent call last)",
      "\u001b[1;32m<ipython-input-26-bdabdf93bd05>\u001b[0m in \u001b[0;36m<module>\u001b[1;34m()\u001b[0m\n\u001b[0;32m      2\u001b[0m \u001b[0ma\u001b[0m\u001b[1;33m=\u001b[0m\u001b[0mnp\u001b[0m\u001b[1;33m.\u001b[0m\u001b[0marange\u001b[0m\u001b[1;33m(\u001b[0m\u001b[1;36m3\u001b[0m\u001b[1;33m)\u001b[0m\u001b[1;33m\u001b[0m\u001b[0m\n\u001b[0;32m      3\u001b[0m \u001b[0mb\u001b[0m\u001b[1;33m=\u001b[0m\u001b[0mnp\u001b[0m\u001b[1;33m.\u001b[0m\u001b[0mwhere\u001b[0m\u001b[1;33m(\u001b[0m\u001b[0ma\u001b[0m\u001b[1;33m==\u001b[0m\u001b[1;36m3\u001b[0m\u001b[1;33m)\u001b[0m\u001b[1;33m\u001b[0m\u001b[0m\n\u001b[1;32m----> 4\u001b[1;33m \u001b[0mb\u001b[0m\u001b[1;33m.\u001b[0m\u001b[0msize\u001b[0m\u001b[1;33m\u001b[0m\u001b[0m\n\u001b[0m",
      "\u001b[1;31mAttributeError\u001b[0m: 'tuple' object has no attribute 'size'"
     ]
    }
   ],
   "source": [
    "\n",
    "#unassigned_hybes=np.arange(len(hybes_points))\n",
    "baskets=[] #baskets for each homologous chromosome\n",
    "for hybe_ in range(len(hybes_points))\n",
    "    indx_=np.where(chromosome_ids_all[hybe_]==chr_)\n",
    "    points_=hybes_points[hybe_][indx_]\n",
    "    num_=len(indx_)\n",
    "    for i,pt in enumerate(indx_):\n",
    "        dists_=\n",
    "    #unassigned_hybes=np.setdiff1d(unassigned_hybes,hybe_)"
   ]
  },
  {
   "cell_type": "code",
   "execution_count": 29,
   "metadata": {
    "collapsed": true,
    "deletable": true,
    "editable": true
   },
   "outputs": [],
   "source": [
    "import TAD_SIM as ts"
   ]
  },
  {
   "cell_type": "code",
   "execution_count": 176,
   "metadata": {
    "collapsed": false,
    "deletable": true,
    "editable": true
   },
   "outputs": [
    {
     "name": "stdout",
     "output_type": "stream",
     "text": [
      "No. of tads:\n",
      "[100]\n",
      "No. of chrms labeled/hybe:\n",
      "[14 15 16 17 18] 15.9722222222 0.600282855138\n"
     ]
    }
   ],
   "source": [
    "reload(ts)\n",
    "hybes=ts.code_encoder(nchr=23,ntads=100,nlabel_=16,no_hom=2)\n",
    "chrters=ts.chromosomes(nuc_dia=10000,pixel_sz=100,nchr=46,plt_val=False,return_im=False,cutoff=0.)\n",
    "cell=[]\n",
    "for chrter in chrters:\n",
    "    tads_=ts.TAD_generator(chrter,noTADs=100)\n",
    "    cell.append(tads_)\n",
    "cell=np.array(cell)\n",
    "im_data,truth=ts.simulated_imdata(hybes,cell)\n",
    "corr,incorr,interp=ts.decoder(im_data,hybes,truth,no_hom=2,n_chr=23)"
   ]
  },
  {
   "cell_type": "code",
   "execution_count": 37,
   "metadata": {
    "collapsed": false,
    "deletable": true,
    "editable": true
   },
   "outputs": [
    {
     "data": {
      "text/plain": [
       "(array([ 0,  1,  2,  3,  4,  6,  7,  8,  9, 10, 11, 12, 13, 14, 15], dtype=int64),\n",
       " array([2, 2, 2, 2, 2, 2, 2, 2, 2, 2, 2, 1, 2, 2, 2], dtype=int64))"
      ]
     },
     "execution_count": 37,
     "metadata": {},
     "output_type": "execute_result"
    }
   ],
   "source": [
    "np.unique(interp[0],return_counts=True)"
   ]
  },
  {
   "cell_type": "code",
   "execution_count": null,
   "metadata": {
    "collapsed": true,
    "deletable": true,
    "editable": true
   },
   "outputs": [],
   "source": []
  },
  {
   "cell_type": "code",
   "execution_count": 108,
   "metadata": {
    "collapsed": true,
    "deletable": true,
    "editable": true
   },
   "outputs": [],
   "source": [
    "import cPickle as pickle\n",
    "pickle.dump([corr,incorr,interp,hybes,cell,im_data,truth],open('trial_for_separator.pkl','wb'))"
   ]
  },
  {
   "cell_type": "code",
   "execution_count": 272,
   "metadata": {
    "collapsed": false,
    "deletable": true,
    "editable": true,
    "scrolled": true
   },
   "outputs": [
    {
     "name": "stdout",
     "output_type": "stream",
     "text": [
      "Label: 10\n",
      "No. of tads:\n",
      "[100]\n",
      "No. of chrms labeled/hybe:\n",
      "[ 8  9 10 11 12] 9.95670995671 0.636437254628\n",
      "Cell:0\n",
      "Cell:1\n"
     ]
    },
    {
     "ename": "KeyboardInterrupt",
     "evalue": "",
     "output_type": "error",
     "traceback": [
      "\u001b[1;31m---------------------------------------------------------------------------\u001b[0m",
      "\u001b[1;31mKeyboardInterrupt\u001b[0m                         Traceback (most recent call last)",
      "\u001b[1;32m<ipython-input-272-5e3f53af2fee>\u001b[0m in \u001b[0;36m<module>\u001b[1;34m()\u001b[0m\n\u001b[0;32m     10\u001b[0m         \u001b[1;32mprint\u001b[0m \u001b[1;34m\"Cell:\"\u001b[0m\u001b[1;33m+\u001b[0m\u001b[0mstr\u001b[0m\u001b[1;33m(\u001b[0m\u001b[0micell\u001b[0m\u001b[1;33m)\u001b[0m\u001b[1;33m\u001b[0m\u001b[0m\n\u001b[0;32m     11\u001b[0m         \u001b[0mhybes_points\u001b[0m \u001b[1;33m=\u001b[0m \u001b[0msimulated_imdata\u001b[0m\u001b[1;33m(\u001b[0m\u001b[0mhybes\u001b[0m\u001b[1;33m,\u001b[0m\u001b[0mcell\u001b[0m\u001b[1;33m)\u001b[0m\u001b[1;33m\u001b[0m\u001b[0m\n\u001b[1;32m---> 12\u001b[1;33m         \u001b[0mgoods\u001b[0m\u001b[1;33m,\u001b[0m\u001b[0mbads\u001b[0m\u001b[1;33m,\u001b[0m\u001b[0mchromosome_ids_all\u001b[0m \u001b[1;33m=\u001b[0m \u001b[0mdecoder\u001b[0m\u001b[1;33m(\u001b[0m\u001b[0mhybes_points\u001b[0m\u001b[1;33m,\u001b[0m\u001b[0mhybes\u001b[0m\u001b[1;33m)\u001b[0m\u001b[1;33m\u001b[0m\u001b[0m\n\u001b[0m\u001b[0;32m     13\u001b[0m         \u001b[0mgoods_real\u001b[0m\u001b[1;33m.\u001b[0m\u001b[0mappend\u001b[0m\u001b[1;33m(\u001b[0m\u001b[0mgoods\u001b[0m\u001b[1;33m)\u001b[0m\u001b[1;33m\u001b[0m\u001b[0m\n\u001b[0;32m     14\u001b[0m         \u001b[0mbads_real\u001b[0m\u001b[1;33m.\u001b[0m\u001b[0mappend\u001b[0m\u001b[1;33m(\u001b[0m\u001b[0mbads\u001b[0m\u001b[1;33m)\u001b[0m\u001b[1;33m\u001b[0m\u001b[0m\n",
      "\u001b[1;32m<ipython-input-271-188102191521>\u001b[0m in \u001b[0;36mdecoder\u001b[1;34m(hybes_points, hybes)\u001b[0m\n\u001b[0;32m     31\u001b[0m                 \u001b[0mdifs\u001b[0m \u001b[1;33m=\u001b[0m \u001b[0mpoint\u001b[0m \u001b[1;33m-\u001b[0m \u001b[0mhybe_point\u001b[0m\u001b[1;33m\u001b[0m\u001b[0m\n\u001b[0;32m     32\u001b[0m                 \u001b[1;31m#min_L1_dist = np.min(np.sum(np.abs(difs),axis=-1))\u001b[0m\u001b[1;33m\u001b[0m\u001b[1;33m\u001b[0m\u001b[0m\n\u001b[1;32m---> 33\u001b[1;33m                 \u001b[0mmin_L1_dist\u001b[0m \u001b[1;33m=\u001b[0m \u001b[0mnp\u001b[0m\u001b[1;33m.\u001b[0m\u001b[0mmin\u001b[0m\u001b[1;33m(\u001b[0m\u001b[0mnp\u001b[0m\u001b[1;33m.\u001b[0m\u001b[0msqrt\u001b[0m\u001b[1;33m(\u001b[0m\u001b[0mnp\u001b[0m\u001b[1;33m.\u001b[0m\u001b[0msum\u001b[0m\u001b[1;33m(\u001b[0m\u001b[0mdifs\u001b[0m\u001b[1;33m**\u001b[0m\u001b[1;36m2\u001b[0m\u001b[1;33m,\u001b[0m\u001b[0maxis\u001b[0m\u001b[1;33m=\u001b[0m\u001b[1;33m-\u001b[0m\u001b[1;36m1\u001b[0m\u001b[1;33m)\u001b[0m\u001b[1;33m)\u001b[0m\u001b[1;33m)\u001b[0m\u001b[1;33m\u001b[0m\u001b[0m\n\u001b[0m\u001b[0;32m     34\u001b[0m                 \u001b[0mmin_L1_dists\u001b[0m\u001b[1;33m.\u001b[0m\u001b[0mappend\u001b[0m\u001b[1;33m(\u001b[0m\u001b[0mmin_L1_dist\u001b[0m\u001b[1;33m)\u001b[0m\u001b[1;33m\u001b[0m\u001b[0m\n\u001b[0;32m     35\u001b[0m             \u001b[0mmin_L1_dists\u001b[0m \u001b[1;33m=\u001b[0m \u001b[0mnp\u001b[0m\u001b[1;33m.\u001b[0m\u001b[0marray\u001b[0m\u001b[1;33m(\u001b[0m\u001b[0mmin_L1_dists\u001b[0m\u001b[1;33m)\u001b[0m\u001b[1;31m#nearest neighbour distance across hybes for point in reference hybe\u001b[0m\u001b[1;33m\u001b[0m\u001b[0m\n",
      "\u001b[1;32mC:\\Users\\Bogdan\\AppData\\Local\\Continuum\\Anaconda\\lib\\site-packages\\numpy\\core\\fromnumeric.pyc\u001b[0m in \u001b[0;36mamin\u001b[1;34m(a, axis, out, keepdims)\u001b[0m\n\u001b[0;32m   2350\u001b[0m \u001b[1;33m\u001b[0m\u001b[0m\n\u001b[0;32m   2351\u001b[0m     return _methods._amin(a, axis=axis,\n\u001b[1;32m-> 2352\u001b[1;33m                           out=out, **kwargs)\n\u001b[0m\u001b[0;32m   2353\u001b[0m \u001b[1;33m\u001b[0m\u001b[0m\n\u001b[0;32m   2354\u001b[0m \u001b[1;33m\u001b[0m\u001b[0m\n",
      "\u001b[1;32mC:\\Users\\Bogdan\\AppData\\Local\\Continuum\\Anaconda\\lib\\site-packages\\numpy\\core\\_methods.pyc\u001b[0m in \u001b[0;36m_amin\u001b[1;34m(a, axis, out, keepdims)\u001b[0m\n\u001b[0;32m     27\u001b[0m \u001b[1;33m\u001b[0m\u001b[0m\n\u001b[0;32m     28\u001b[0m \u001b[1;32mdef\u001b[0m \u001b[0m_amin\u001b[0m\u001b[1;33m(\u001b[0m\u001b[0ma\u001b[0m\u001b[1;33m,\u001b[0m \u001b[0maxis\u001b[0m\u001b[1;33m=\u001b[0m\u001b[0mNone\u001b[0m\u001b[1;33m,\u001b[0m \u001b[0mout\u001b[0m\u001b[1;33m=\u001b[0m\u001b[0mNone\u001b[0m\u001b[1;33m,\u001b[0m \u001b[0mkeepdims\u001b[0m\u001b[1;33m=\u001b[0m\u001b[0mFalse\u001b[0m\u001b[1;33m)\u001b[0m\u001b[1;33m:\u001b[0m\u001b[1;33m\u001b[0m\u001b[0m\n\u001b[1;32m---> 29\u001b[1;33m     \u001b[1;32mreturn\u001b[0m \u001b[0mumr_minimum\u001b[0m\u001b[1;33m(\u001b[0m\u001b[0ma\u001b[0m\u001b[1;33m,\u001b[0m \u001b[0maxis\u001b[0m\u001b[1;33m,\u001b[0m \u001b[0mNone\u001b[0m\u001b[1;33m,\u001b[0m \u001b[0mout\u001b[0m\u001b[1;33m,\u001b[0m \u001b[0mkeepdims\u001b[0m\u001b[1;33m)\u001b[0m\u001b[1;33m\u001b[0m\u001b[0m\n\u001b[0m\u001b[0;32m     30\u001b[0m \u001b[1;33m\u001b[0m\u001b[0m\n\u001b[0;32m     31\u001b[0m \u001b[1;32mdef\u001b[0m \u001b[0m_sum\u001b[0m\u001b[1;33m(\u001b[0m\u001b[0ma\u001b[0m\u001b[1;33m,\u001b[0m \u001b[0maxis\u001b[0m\u001b[1;33m=\u001b[0m\u001b[0mNone\u001b[0m\u001b[1;33m,\u001b[0m \u001b[0mdtype\u001b[0m\u001b[1;33m=\u001b[0m\u001b[0mNone\u001b[0m\u001b[1;33m,\u001b[0m \u001b[0mout\u001b[0m\u001b[1;33m=\u001b[0m\u001b[0mNone\u001b[0m\u001b[1;33m,\u001b[0m \u001b[0mkeepdims\u001b[0m\u001b[1;33m=\u001b[0m\u001b[0mFalse\u001b[0m\u001b[1;33m)\u001b[0m\u001b[1;33m:\u001b[0m\u001b[1;33m\u001b[0m\u001b[0m\n",
      "\u001b[1;31mKeyboardInterrupt\u001b[0m: "
     ]
    }
   ],
   "source": [
    "#Given hybes(encoder matrix) and cell(truth positions for single cell) simulate hybe data\n",
    "import time\n",
    "for nlabel_ in [10,12,14,16,18,20]:\n",
    "    start=time.time()\n",
    "    print \"Label: \"+str(nlabel_)\n",
    "    hybes = code_encoder(nchr=23,ntads=100,nlabel_=nlabel_)\n",
    "    \n",
    "    goods_real,bads_real=[],[]\n",
    "    for icell,cell in enumerate(real_matrix[:10]):\n",
    "        print \"Cell:\"+str(icell)\n",
    "        hybes_points = simulated_imdata(hybes,cell)\n",
    "        goods,bads,chromosome_ids_all = decoder(hybes_points,hybes)\n",
    "        goods_real.append(goods)\n",
    "        bads_real.append(bads)\n",
    "    #pickle.dump([goods_real,bads_real],open('decoded_'+str(nlabel_)+'.pkl','wb'))\n",
    "    print \"Elapsed time: \"+str(time.time()-start)"
   ]
  },
  {
   "cell_type": "code",
   "execution_count": 152,
   "metadata": {
    "collapsed": false,
    "deletable": true,
    "editable": true
   },
   "outputs": [
    {
     "data": {
      "text/plain": [
       "0.82173913043478253"
      ]
     },
     "execution_count": 152,
     "metadata": {},
     "output_type": "execute_result"
    }
   ],
   "source": [
    "goods,bads = pickle.load(open('decoded_16.pkl','rb'))\n",
    "np.mean(bads)/2300.*100."
   ]
  },
  {
   "cell_type": "code",
   "execution_count": 162,
   "metadata": {
    "collapsed": false,
    "deletable": true,
    "editable": true
   },
   "outputs": [],
   "source": [
    "import glob\n",
    "files = glob.glob('decoded*.pkl')\n",
    "erros_mean,erros_std=[],[]\n",
    "nlabels=[]\n",
    "for file_ in files:\n",
    "    goods,bads = pickle.load(open(file_,'rb'))\n",
    "    goods = np.array(goods,dtype=float)\n",
    "    bads = np.array(bads,dtype=float)\n",
    "    ratios = bads/(goods+bads)\n",
    "    nlabels.append(int(file_.split('_')[-1].replace('.pkl','')))\n",
    "    erros_mean.append(np.mean(ratios))\n",
    "    erros_std.append(np.std(ratios))"
   ]
  },
  {
   "cell_type": "code",
   "execution_count": 175,
   "metadata": {
    "collapsed": false,
    "deletable": true,
    "editable": true
   },
   "outputs": [
    {
     "data": {
      "text/plain": [
       "(6.6878810599782703, -1.9817292501066128)"
      ]
     },
     "execution_count": 175,
     "metadata": {},
     "output_type": "execute_result"
    }
   ],
   "source": [
    "x,y=np.log(np.array(nlabels)/23.),np.log(erros_mean)\n",
    "A = np.vstack([x, np.ones(len(x))]).T\n",
    "m, c = np.linalg.lstsq(A, y)[0]\n",
    "#error=exp(c)*n^m\n",
    "m,c"
   ]
  },
  {
   "cell_type": "code",
   "execution_count": 178,
   "metadata": {
    "collapsed": false,
    "deletable": true,
    "editable": true
   },
   "outputs": [],
   "source": [
    "plt.errorbar(nlabels, erros_mean, yerr=erros_std, fmt='-o')\n",
    "plt.show()"
   ]
  },
  {
   "cell_type": "code",
   "execution_count": null,
   "metadata": {
    "collapsed": true,
    "deletable": true,
    "editable": true
   },
   "outputs": [],
   "source": []
  },
  {
   "cell_type": "code",
   "execution_count": 142,
   "metadata": {
    "collapsed": false,
    "deletable": true,
    "editable": true
   },
   "outputs": [],
   "source": [
    "#Distances between points and how close they are on average to tads of same chromosome\n",
    "cell = real_matrix[9]\n",
    "wrong = []\n",
    "for cell in real_matrix:\n",
    "    chr_id = 10\n",
    "    ref_chr = cell[chr_id]\n",
    "    estimator = []\n",
    "    for ref_point in ref_chr:\n",
    "        dist_ref = np.sqrt(np.sum((ref_chr - [ref_point])**2,axis=-1))\n",
    "        chr_dists=[]\n",
    "        for chr_ in cell:\n",
    "            dist = np.sqrt(np.sum((chr_ - [ref_point])**2,axis=-1))\n",
    "            chr_dists.append(np.mean(dist))\n",
    "        estimator.append(np.argmin(chr_dists))\n",
    "    wrong.append(np.sum(np.array(estimator) != chr_id))"
   ]
  },
  {
   "cell_type": "code",
   "execution_count": 143,
   "metadata": {
    "collapsed": false,
    "deletable": true,
    "editable": true
   },
   "outputs": [
    {
     "data": {
      "text/plain": [
       "8.3300000000000001"
      ]
     },
     "execution_count": 143,
     "metadata": {},
     "output_type": "execute_result"
    }
   ],
   "source": [
    "np.mean(wrong)"
   ]
  },
  {
   "cell_type": "code",
   "execution_count": 114,
   "metadata": {
    "collapsed": false,
    "deletable": true,
    "editable": true
   },
   "outputs": [
    {
     "data": {
      "text/plain": [
       "151.5151515151515"
      ]
     },
     "execution_count": 114,
     "metadata": {},
     "output_type": "execute_result"
    }
   ],
   "source": [
    "ntads/0.66"
   ]
  },
  {
   "cell_type": "code",
   "execution_count": null,
   "metadata": {
    "collapsed": true,
    "deletable": true,
    "editable": true
   },
   "outputs": [],
   "source": []
  },
  {
   "cell_type": "code",
   "execution_count": null,
   "metadata": {
    "collapsed": true,
    "deletable": true,
    "editable": true
   },
   "outputs": [],
   "source": []
  },
  {
   "cell_type": "code",
   "execution_count": 60,
   "metadata": {
    "collapsed": false,
    "deletable": true,
    "editable": true
   },
   "outputs": [
    {
     "name": "stdout",
     "output_type": "stream",
     "text": [
      "3330\n",
      "4080\n",
      "4077\n",
      "3800\n"
     ]
    }
   ],
   "source": [
    "import glob\n",
    "import numpy as np\n",
    "files = glob.glob('*.csv')\n",
    "#files= ['chr21.csv', 'chr22.csv']\n",
    "#file_ =files[0]\n",
    "def file_to_mat(file_):\n",
    "    lines = [ln for ln in open(file_,'r')]\n",
    "    def refine_line(ln):\n",
    "        splits = ln[:-1].split(',')\n",
    "        return [np.nan if ln_=='' else float(ln_)for ln_ in splits]\n",
    "    lines = map(refine_line,lines[1:])\n",
    "    return np.array(lines)\n",
    "def data_to_dists(data):\n",
    "    icell_prev=np.nan\n",
    "    iTAD_prev=np.nan\n",
    "    dists = []\n",
    "    for icell,iTAD,x,y,z in data:\n",
    "        if icell_prev==icell:\n",
    "            xyz = np.array([x,y,z])\n",
    "            dist = np.sqrt(np.sum((xyz-xyz_prev)**2))\n",
    "            dists.append(dist)\n",
    "        icell_prev=icell\n",
    "        xyz_prev = np.array([x,y,z])\n",
    "    dists = np.array(dists)\n",
    "    dists = dists[np.isnan(dists)==False]\n",
    "    return dists\n",
    "def count_missed(data):\n",
    "    counter=0\n",
    "    z=data[:,-1]\n",
    "    print len(z)\n",
    "    for i in range(len(z)):\n",
    "        if np.isnan(z[i])==True:\n",
    "            counter=counter+1\n",
    "    return float(float(counter)/float(len(z)))\n",
    "\n",
    "missed_per=[]\n",
    "for j in range(len(files)):\n",
    "    missed_per.append(count_missed(file_to_mat(files[j])))\n",
    "#dists0 = data_to_dists(file_to_mat(files[0]))\n",
    "#dists1 = data_to_dists(file_to_mat(files[1]))\n",
    "#dists = np.concatenate([dists0,dists1])\n"
   ]
  },
  {
   "cell_type": "code",
   "execution_count": 66,
   "metadata": {
    "collapsed": false,
    "deletable": true,
    "editable": true
   },
   "outputs": [
    {
     "data": {
      "text/plain": [
       "0.032504222398951552"
      ]
     },
     "execution_count": 66,
     "metadata": {},
     "output_type": "execute_result"
    }
   ],
   "source": [
    "np.mean(missed_per)"
   ]
  },
  {
   "cell_type": "code",
   "execution_count": 43,
   "metadata": {
    "collapsed": false,
    "deletable": true,
    "editable": true
   },
   "outputs": [],
   "source": [
    "import matplotlib.pylab as plt\n",
    "#plt.hist(np.log(dists0),bins=30,alpha=0.7)\n",
    "#plt.hist(np.log(dists1),bins=30,alpha=0.7)\n",
    "#plt.hist(dists0,bins=30,alpha=0.7)\n",
    "#plt.hist(dists1,bins=30,alpha=0.7)\n",
    "plt.hist(dists,bins=40)\n",
    "plt.show()"
   ]
  },
  {
   "cell_type": "code",
   "execution_count": 49,
   "metadata": {
    "collapsed": false,
    "deletable": true,
    "editable": true
   },
   "outputs": [
    {
     "data": {
      "text/plain": [
       "0.45172828742659688"
      ]
     },
     "execution_count": 49,
     "metadata": {},
     "output_type": "execute_result"
    }
   ],
   "source": [
    "np.std(dists)"
   ]
  },
  {
   "cell_type": "code",
   "execution_count": 48,
   "metadata": {
    "collapsed": false,
    "deletable": true,
    "editable": true
   },
   "outputs": [
    {
     "data": {
      "text/plain": [
       "0.75397658663865952"
      ]
     },
     "execution_count": 48,
     "metadata": {},
     "output_type": "execute_result"
    }
   ],
   "source": [
    "np.mean(dists)"
   ]
  },
  {
   "cell_type": "code",
   "execution_count": null,
   "metadata": {
    "collapsed": true,
    "deletable": true,
    "editable": true
   },
   "outputs": [],
   "source": []
  }
 ],
 "metadata": {
  "anaconda-cloud": {},
  "kernelspec": {
   "display_name": "Python 2",
   "language": "python",
   "name": "python2"
  },
  "language_info": {
   "codemirror_mode": {
    "name": "ipython",
    "version": 2
   },
   "file_extension": ".py",
   "mimetype": "text/x-python",
   "name": "python",
   "nbconvert_exporter": "python",
   "pygments_lexer": "ipython2",
   "version": "2.7.13"
  }
 },
 "nbformat": 4,
 "nbformat_minor": 0
}
