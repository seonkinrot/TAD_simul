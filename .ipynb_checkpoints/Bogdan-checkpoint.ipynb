{
 "cells": [
  {
   "cell_type": "code",
   "execution_count": 1,
   "metadata": {
    "collapsed": true
   },
   "outputs": [],
   "source": []
  },
  {
   "cell_type": "code",
   "execution_count": 3,
   "metadata": {
    "collapsed": false
   },
   "outputs": [],
   "source": [
    "#Dependencies\n",
    "import numpy as np\n",
    "import cPickle as pickle\n",
    "import glob\n",
    "import matplotlib.pyplot as plt\n",
    "from matplotlib.widgets import Slider, Button, RadioButtons\n",
    "#Useful functions\n",
    "def imshow3d(Im, axis=0, **kwargs):\n",
    "    \"\"\"\n",
    "    Display a 3d ndarray with a slider to move along the 0th dimension.\n",
    "    Extra keyword arguments are passed to imshow\n",
    "    \"\"\"\n",
    "    im = np.array(Im)\n",
    "    # generate figure\n",
    "    f, ax = plt.subplots()\n",
    "    f.subplots_adjust(left=0.25, bottom=0.25)\n",
    "    # select first image\n",
    "    s = [slice(0, 1) if i == axis else slice(None) for i in xrange(3)]\n",
    "    im_ = im[s].squeeze()\n",
    "    # display image\n",
    "    l = ax.imshow(im_, **kwargs)\n",
    "    l.set_clim(vmin=np.min(im),vmax=np.max(im))\n",
    "    # define slider\n",
    "    axcolor = 'lightgoldenrodyellow'\n",
    "    ax = f.add_axes([0.25, 0.1, 0.65, 0.03], axisbg=axcolor)\n",
    "    slider = Slider(ax, 'Axis %i index' % axis, 0, im.shape[axis] - 1,\n",
    "                    valinit=0, valfmt='%i')\n",
    "    def update(val):\n",
    "        ind = int(slider.val)\n",
    "        s = [slice(ind, ind + 1) if i == axis else slice(None)\n",
    "                 for i in xrange(3)]\n",
    "        im_ = im[s].squeeze()\n",
    "        l.set_data(im_)\n",
    "        f.canvas.draw()\n",
    "    slider.on_changed(update)\n",
    "    plt.show()\n",
    "\n",
    "def chromosomes(nuc_dia=10000,pixel_sz=100,plt_val=False):\n",
    "    \"\"\"\n",
    "    nuc_dia is the nuclear diameter in nm\n",
    "    pixel_sz is in nm\n",
    "    This assumes 46 chromosomes\n",
    "    \n",
    "    Return list of chromosomes and pixels in their territory\n",
    "    \"\"\"\n",
    "    #coordinates for 46 sphere centers\n",
    "    #(equal size spheres in a unit sphere)\n",
    "    #see:https://oeis.org/A084827/a084827.txt\n",
    "    centers=[[-0.127724638717686,0.029283782782012,-0.763670872459570], \n",
    "            [0.302116854275886,0.146601789724809,-0.698281876003332], \n",
    "            [0.050116071438789,-0.375084565347080,-0.676139240788969], \n",
    "            [0.387404648096449,-0.300279722464142,-0.600095035492607],\n",
    "            [-0.221565702064757,0.438003368581342,-0.599521487098418],\n",
    "            [-0.536838502467010,0.121012629438513,-0.545458207564384],\n",
    "            [0.470578557122151,-0.324839673302964,-0.522876020618661],\n",
    "            [0.206821475639773,0.544767478949537,-0.510703040725137],\n",
    "            [0.647737208453552,0.075787428022586,-0.418398254359731],\n",
    "            [0.209291510617636,-0.653452063989750,-0.359946924370349],\n",
    "            [-0.240428762326608,-0.655246890184877,-0.336466711372591],\n",
    "            [0.027563278735129,0.169874066797150,-0.337139524778479],\n",
    "            [-0.531122333361574,0.491550397468556,-0.276860250786947],\n",
    "            [-0.125040038594464,0.718782537235944,-0.260923317520113],\n",
    "            [-0.028222635427186,-0.267579430698296,-0.245896798982907],\n",
    "            [0.559897837805783,0.479367416697336,-0.238925962888257],\n",
    "            [-0.609344934400770,-0.421155893776354,-0.227356083644822],\n",
    "            [-0.755792906627536,0.000918343779410,-0.170705973387576],\n",
    "            [0.709453517788630,-0.276107684781292,-0.144237918782831],\n",
    "            [0.338406350902039,-0.029318746498438,-0.079260341210368],\n",
    "            [0.256184770042010,0.730938689442354,-0.021501641508632],\n",
    "            [-0.268046158037773,0.223179830668424,-0.001615424109930],\n",
    "            [0.463839024087979,-0.620577043697123,0.010090454994701],\n",
    "            [0.761425580114896,0.142996856131315,0.012137124700828],\n",
    "            [0.041055031342583,-0.772687639260906,0.040405708106847],\n",
    "            [-0.343201070932800,-0.214763803705687,0.071596445689072],\n",
    "            [-0.392969757022585,-0.662069840802751,0.087193008193199],\n",
    "            [-0.377886422912343,0.667723934061050,0.108217022567140],\n",
    "            [-0.686352373667351,0.339757482368351,0.117684310970756],\n",
    "            [0.150619047600183,0.321066162828993,0.132327016008240],\n",
    "            [0.137964450619487,-0.350718167453077,0.164313718413543],\n",
    "            [0.559387984377712,0.492787670746059,0.211210130456054],\n",
    "            [-0.717576062734593,-0.078536494382680,0.281568709115817],\n",
    "            [0.643403410008865,-0.310581345960640,0.299892559603968],\n",
    "            [0.002276767510746,0.692083481917933,0.348395549284496],\n",
    "            [-0.069193117297735,-0.000826838519097,0.357871631431749],\n",
    "            [-0.074584688024342,-0.626168415760149,0.450238341469810],\n",
    "            [0.622296753862575,0.114447785021264,0.447227819362128],\n",
    "            [-0.471682318226388,-0.413806749821993,0.454581223971127],\n",
    "            [-0.434951569989064,0.423001400164857,0.481924550044267],\n",
    "            [0.305007962363991,-0.417373667885278,0.577177346197253],\n",
    "            [0.295340191120549,0.432541638100190,0.571004577504622],\n",
    "            [-0.446844519125231,-0.001070128504388,0.633003282191707],\n",
    "            [-0.094303907267779,-0.267030401770297,0.721225250748454],\n",
    "            [0.281485705865138,0.008444506916010,0.721844036069634],\n",
    "            [-0.091709170433872,0.260484226789782,0.723948700091940]]\n",
    "\n",
    "    centers = np.array(centers)\n",
    "    \n",
    "    arr_size = nuc_dia/pixel_sz #division casts as int\n",
    "    x_ = np.linspace(-1,1,arr_size)\n",
    "    chrters = [[] for i in range(len(centers))]\n",
    "\n",
    "    for x in x_:\n",
    "        for y in x_:\n",
    "            for z in x_:\n",
    "                #test if in sphere\n",
    "                if x*x+y*y+z*z<=1:\n",
    "                    chr_index = np.argmin(np.sum((centers-[[x,y,z]])**2,axis=1))#compute the closest index to current xyz point\n",
    "                    chrters[chr_index].append([x,y,z])\n",
    "    if plt_val:\n",
    "        im = np.zeros([arr_size]*3)\n",
    "        for i,chr_ in enumerate(chrters):\n",
    "            for x,y,z in (np.array(chr_)+1)*(arr_size-1)/2:\n",
    "                im[int(np.round(x)),int(np.round(y)),int(np.round(z))]=i+1\n",
    "        imshow3d(im,interpolation='nearest')\n",
    "    return chrters\n",
    "\n",
    "def TAD_blur(xyzPos,pix_sz=100,nuc_dia=10000):\n",
    "    perturb=np.random.normal(0,pix_sz/2./(nuc_dia/2.),3)\n",
    "    return perturb+xyzPos\n",
    "\n",
    "def TAD_generator(xyzChr,noTADs=100,udist=-0.44276236166846844,sigmadist=0.57416477624326434,nuc_dia=10000,pix_sz=100):\n",
    "    \"\"\"\n",
    "    xyzChr is a list of positions belonging to a chromosome territory\n",
    "    Returns an array of dimensions noTADSx3\n",
    "    \"\"\"\n",
    "    xyzChr_=np.array(xyzChr)\n",
    "    tads=[]\n",
    "    first=xyzChr_[np.random.randint(1,len(xyzChr))] #randomly choose location of first TAD\n",
    "    first=TAD_blur(first)\n",
    "    tads.append(first)\n",
    "    for i_tad in range(noTADs-1):\n",
    "        difs=xyzChr_-[tads[i_tad]]#unit radius\n",
    "        dists=np.sqrt(np.sum(difs**2,axis=-1))\n",
    "        dists=np.log(dists*nuc_dia/2000.)#unit log um\n",
    "        weights = np.exp(-(dists-udist)**2/(2*sigmadist**2))\n",
    "        weights = np.cumsum(weights)\n",
    "        weights = weights/float(np.max(weights))\n",
    "        index_pj = np.sum(np.random.rand()-weights>0)\n",
    "        pj=xyzChr_[index_pj]#unit radius\n",
    "        pj=TAD_blur(pj)\n",
    "        tads.append(pj)\n",
    "    return np.array(tads)"
   ]
  },
  {
   "cell_type": "code",
   "execution_count": 57,
   "metadata": {
    "collapsed": true
   },
   "outputs": [],
   "source": [
    "chrters=chromosomes()"
   ]
  },
  {
   "cell_type": "code",
   "execution_count": 80,
   "metadata": {
    "collapsed": false
   },
   "outputs": [],
   "source": [
    "\n",
    "arr_size=100\n",
    "im = np.zeros([arr_size]*3)\n",
    "for i,chr_ in enumerate(chrters):\n",
    "    for x,y,z in (np.array(chr_)+1)*(arr_size-1)/2:\n",
    "        im[int(np.round(x)),int(np.round(y)),int(np.round(z))]=i+1\n",
    "x,y,z = TAD_generator(chrters[0]).T\n",
    "plt.imshow(np.max(im==1,axis=-1))\n",
    "plt.plot((y+1)*(arr_size-1)/2,(x+1)*(arr_size-1)/2,'-o')\n",
    "\n",
    "plt.show()"
   ]
  },
  {
   "cell_type": "code",
   "execution_count": null,
   "metadata": {
    "collapsed": true
   },
   "outputs": [],
   "source": []
  },
  {
   "cell_type": "code",
   "execution_count": 89,
   "metadata": {
    "collapsed": false
   },
   "outputs": [],
   "source": [
    "reals=100 #number of realizations\n",
    "tads=100 #number of TADs per chromosome\n",
    "real_matrix=[]\n",
    "for i_rel in range(reals):\n",
    "    single_cell=[]\n",
    "    for chrter in chrters:\n",
    "        tads_=TAD_generator(chrter,tads)\n",
    "        single_cell.append(tads_)\n",
    "    real_matrix.append(single_cell)\n",
    "real_matrix=np.array(real_matrix)\n",
    "import cPickle as pickle\n",
    "pickle.dump(real_matrix,open('simulatedTads.pkl','wb'))"
   ]
  },
  {
   "cell_type": "code",
   "execution_count": 5,
   "metadata": {
    "collapsed": false
   },
   "outputs": [],
   "source": [
    "real_matrix = pickle.load(open('simulatedTads.pkl','r'))"
   ]
  },
  {
   "cell_type": "code",
   "execution_count": 32,
   "metadata": {
    "collapsed": true
   },
   "outputs": [],
   "source": [
    "real_matrix = real_matrix*5000"
   ]
  },
  {
   "cell_type": "code",
   "execution_count": null,
   "metadata": {
    "collapsed": true
   },
   "outputs": [],
   "source": []
  },
  {
   "cell_type": "code",
   "execution_count": 26,
   "metadata": {
    "collapsed": false
   },
   "outputs": [],
   "source": [
    "for i,chr_ in enumerate(real_matrix[0]):\n",
    "    x,y,z = chr_.T\n",
    "    #plt.text()\n",
    "    plt.plot(x,y,'wo')\n",
    "for i,chr_ in enumerate(real_matrix[0]):\n",
    "    x,y,z = chr_.T\n",
    "    if i>5:\n",
    "        break\n",
    "    #plt.text()\n",
    "    plt.plot(x,y,'o')\n",
    "plt.axis('equal')\n",
    "plt.show()"
   ]
  },
  {
   "cell_type": "code",
   "execution_count": 149,
   "metadata": {
    "collapsed": false
   },
   "outputs": [],
   "source": [
    "#Encoder - construct a matrix hybes of length number of hybes x number of chromosomes \n",
    "#each containing the id of the tad in the hybe (0 means the TAD is missing from that hybe)\n",
    "nreal,nchr,ntads,ndim = real_matrix.shape\n",
    "tad_buckets = [range(ntads) for i in range(nchr)]\n",
    "perc_label = 0.5\n",
    "chr_labeled =int(perc_label*nchr)\n",
    "hybes=[]\n",
    "while np.sum(map(len,tad_buckets))>0:\n",
    "    lens = map(len,tad_buckets)\n",
    "    inds = np.argsort(lens)[::-1]\n",
    "    ind_select = inds[:chr_labeled]\n",
    "    ind_select = [ind for ind in ind_select if lens[ind]>0]\n",
    "    \n",
    "    hybe = np.zeros(nchr)\n",
    "    for ind in ind_select:\n",
    "        hybe[ind]=tad_buckets[ind][0]+1\n",
    "        tad_buckets[ind].pop(0)\n",
    "    hybes.append(hybe)\n",
    "hybes=np.array(hybes,dtype=int)"
   ]
  },
  {
   "cell_type": "code",
   "execution_count": 172,
   "metadata": {
    "collapsed": false
   },
   "outputs": [],
   "source": [
    "#Given hybes(encoder matrix) and cell(truth positions for single cell) simulate hybe data\n",
    "cell = real_matrix[0]\n",
    "\n",
    "hybes_points=[]\n",
    "for hybe in hybes:\n",
    "    chrs_in_hybe = np.where(hybe>0)[0]\n",
    "    tad_ids_in_hybe = hybe[hybe>0]-1\n",
    "    hybe_points=[]\n",
    "    for chr_in_hybe,tad_in_hybe in zip(chrs_in_hybe,tad_ids_in_hybe):\n",
    "        hybe_points.append(cell[chr_in_hybe][tad_in_hybe])\n",
    "    hybes_points.append(hybe_points)\n",
    "hybes_points = np.array(hybes_points)"
   ]
  },
  {
   "cell_type": "code",
   "execution_count": 173,
   "metadata": {
    "collapsed": false
   },
   "outputs": [
    {
     "data": {
      "text/plain": [
       "(200L, 23L, 3L)"
      ]
     },
     "execution_count": 173,
     "metadata": {},
     "output_type": "execute_result"
    }
   ],
   "source": [
    "#Decoder - Given hybes_points, predict their tad id and \n",
    "hybes_points.shape"
   ]
  },
  {
   "cell_type": "code",
   "execution_count": 187,
   "metadata": {
    "collapsed": false
   },
   "outputs": [],
   "source": [
    "id_ref = 0\n",
    "hybes_points_ref = hybes_points[id_ref]\n",
    "point = hybes_points_ref[10]\n",
    "min_L1_dists=[]\n",
    "for hybe_point in hybes_points:\n",
    "    difs = point - hybe_point\n",
    "    min_L1_dist = np.min(np.sum(np.abs(difs),axis=-1))\n",
    "    min_L1_dists.append(min_L1_dist)\n"
   ]
  },
  {
   "cell_type": "code",
   "execution_count": null,
   "metadata": {
    "collapsed": true
   },
   "outputs": [],
   "source": [
    "possible_projections = "
   ]
  },
  {
   "cell_type": "code",
   "execution_count": 194,
   "metadata": {
    "collapsed": false
   },
   "outputs": [],
   "source": [
    "\n",
    "possible_chrs_hybes=[]\n",
    "for hybe in hybes:\n",
    "    possible_chrs_hybes.append(np.where(hybe>0)[0])\n",
    "possible_chrs = np.where(hybes[id_ref]>0)[0]\n",
    "possible_projections = np.zeros([len(possible_chrs),len(possible_chrs_hybes)],dtype=int)\n",
    "for i,chr_T in enumerate(possible_chrs):\n",
    "    for j,possible_chrs_hybe in enumerate(possible_chrs_hybes):\n",
    "        possible_projections[i,j]=chr_T in possible_chrs_hybe"
   ]
  },
  {
   "cell_type": "code",
   "execution_count": 195,
   "metadata": {
    "collapsed": false
   },
   "outputs": [
    {
     "data": {
      "text/plain": [
       "array([[1, 0, 1, ..., 0, 1, 0],\n",
       "       [1, 0, 1, ..., 0, 1, 0],\n",
       "       [1, 0, 1, ..., 0, 1, 0],\n",
       "       ..., \n",
       "       [1, 0, 1, ..., 0, 1, 0],\n",
       "       [1, 0, 1, ..., 0, 1, 0],\n",
       "       [1, 0, 1, ..., 0, 1, 0]])"
      ]
     },
     "execution_count": 195,
     "metadata": {},
     "output_type": "execute_result"
    }
   ],
   "source": [
    "plt.imshow(possible_projections)\n",
    "plt.show()"
   ]
  },
  {
   "cell_type": "code",
   "execution_count": null,
   "metadata": {
    "collapsed": true
   },
   "outputs": [],
   "source": []
  },
  {
   "cell_type": "code",
   "execution_count": 142,
   "metadata": {
    "collapsed": false
   },
   "outputs": [],
   "source": [
    "cell = real_matrix[9]\n",
    "wrong = []\n",
    "for cell in real_matrix:\n",
    "    chr_id = 10\n",
    "    ref_chr = cell[chr_id]\n",
    "    estimator = []\n",
    "    for ref_point in ref_chr:\n",
    "        dist_ref = np.sqrt(np.sum((ref_chr - [ref_point])**2,axis=-1))\n",
    "        chr_dists=[]\n",
    "        for chr_ in cell:\n",
    "            dist = np.sqrt(np.sum((chr_ - [ref_point])**2,axis=-1))\n",
    "            chr_dists.append(np.mean(dist))\n",
    "        estimator.append(np.argmin(chr_dists))\n",
    "    wrong.append(np.sum(np.array(estimator) != chr_id))"
   ]
  },
  {
   "cell_type": "code",
   "execution_count": 143,
   "metadata": {
    "collapsed": false
   },
   "outputs": [
    {
     "data": {
      "text/plain": [
       "8.3300000000000001"
      ]
     },
     "execution_count": 143,
     "metadata": {},
     "output_type": "execute_result"
    }
   ],
   "source": [
    "np.mean(wrong)"
   ]
  },
  {
   "cell_type": "code",
   "execution_count": 114,
   "metadata": {
    "collapsed": false
   },
   "outputs": [
    {
     "data": {
      "text/plain": [
       "151.5151515151515"
      ]
     },
     "execution_count": 114,
     "metadata": {},
     "output_type": "execute_result"
    }
   ],
   "source": [
    "ntads/0.66"
   ]
  },
  {
   "cell_type": "code",
   "execution_count": 110,
   "metadata": {
    "collapsed": false
   },
   "outputs": [
    {
     "data": {
      "text/plain": [
       "(46L, 100L)"
      ]
     },
     "execution_count": 110,
     "metadata": {},
     "output_type": "execute_result"
    }
   ],
   "source": [
    "tad_buckets = [range(ntads) for i in range(nchr)]\n",
    "np.array(tad_buckets).shape"
   ]
  },
  {
   "cell_type": "code",
   "execution_count": 94,
   "metadata": {
    "collapsed": false
   },
   "outputs": [],
   "source": [
    "for ind in ind_select:\n",
    "    hybe[ind]=tad_buckets[ind][0]"
   ]
  },
  {
   "cell_type": "code",
   "execution_count": 95,
   "metadata": {
    "collapsed": false
   },
   "outputs": [
    {
     "data": {
      "text/plain": [
       "array([ 0.,  1.,  1.,  1.,  1.,  1.,  1.,  1.,  1.,  1.,  1.,  1.,  1.,\n",
       "        1.,  1.,  1.,  1.,  1.,  1.,  1.,  1.,  1.,  1.,  1.,  1.,  0.,\n",
       "        0.,  0.,  0.,  0.,  0.,  0.,  0.,  0.,  0.,  0.,  0.,  0.,  0.,\n",
       "        0.,  1.,  1.,  1.,  1.,  1.,  1.])"
      ]
     },
     "execution_count": 95,
     "metadata": {},
     "output_type": "execute_result"
    }
   ],
   "source": [
    "hybe"
   ]
  },
  {
   "cell_type": "code",
   "execution_count": null,
   "metadata": {
    "collapsed": true
   },
   "outputs": [],
   "source": []
  },
  {
   "cell_type": "code",
   "execution_count": 67,
   "metadata": {
    "collapsed": false
   },
   "outputs": [
    {
     "data": {
      "text/plain": [
       "[100,\n",
       " 100,\n",
       " 100,\n",
       " 100,\n",
       " 100,\n",
       " 100,\n",
       " 100,\n",
       " 100,\n",
       " 100,\n",
       " 100,\n",
       " 100,\n",
       " 100,\n",
       " 100,\n",
       " 100,\n",
       " 100,\n",
       " 100,\n",
       " 100,\n",
       " 100,\n",
       " 100,\n",
       " 100,\n",
       " 100,\n",
       " 100,\n",
       " 100,\n",
       " 100,\n",
       " 100,\n",
       " 100,\n",
       " 100,\n",
       " 100,\n",
       " 100,\n",
       " 100,\n",
       " 100,\n",
       " 100,\n",
       " 100,\n",
       " 100,\n",
       " 100,\n",
       " 100,\n",
       " 100,\n",
       " 100,\n",
       " 100,\n",
       " 100,\n",
       " 100,\n",
       " 100,\n",
       " 100,\n",
       " 100,\n",
       " 100,\n",
       " 100]"
      ]
     },
     "execution_count": 67,
     "metadata": {},
     "output_type": "execute_result"
    }
   ],
   "source": [
    "nreal,nchr,ntads,ndim = real_matrix.shape\n",
    "tad_buckets = [range(ntads)for i in range(nchr)]\n",
    "lens = map(len,tad_buckets)\n",
    "lens"
   ]
  },
  {
   "cell_type": "code",
   "execution_count": null,
   "metadata": {
    "collapsed": true
   },
   "outputs": [],
   "source": []
  },
  {
   "cell_type": "code",
   "execution_count": null,
   "metadata": {
    "collapsed": true
   },
   "outputs": [],
   "source": []
  },
  {
   "cell_type": "code",
   "execution_count": 55,
   "metadata": {
    "collapsed": false
   },
   "outputs": [],
   "source": [
    "from scipy.spatial.distance import pdist\n",
    "plt.hist(pdist(real_matrix[0][0]),normed=True)\n",
    "plt.hist(np.sqrt(np.sum(np.diff(real_matrix[0][0],axis=0)**2,axis=-1)),normed=True)\n",
    "plt.show()"
   ]
  },
  {
   "cell_type": "code",
   "execution_count": 54,
   "metadata": {
    "collapsed": false
   },
   "outputs": [
    {
     "data": {
      "text/plain": [
       "array([  496.23233286,  1631.3781668 ,  1258.90280477,   529.43926965,\n",
       "         478.6365907 ,  1224.65537685,  1113.29715536,  1249.77961976,\n",
       "         369.20484667,   542.05902796,   863.32262967,   858.66085439,\n",
       "        1198.17897431,   715.25088767,   945.35524174,   315.81670009,\n",
       "         752.38953997,   679.51192949,  1181.50050014,  1692.37798226,\n",
       "        1044.30639416,  2590.14482932,  1670.49205492,   766.00304014,\n",
       "         714.80749687,  1729.93944056,   949.0988148 ,   505.02013097,\n",
       "         715.94803174,  1781.85020538,  1232.47749631,   597.67278328,\n",
       "        1647.11208878,   765.92950609,  1268.03832704,  1396.19222885,\n",
       "        1069.17597861,  1514.1645303 ,  1401.42728274,  1477.05059185,\n",
       "         819.33151993,   523.76969171,   899.90149512,   837.78076201,\n",
       "        1355.0347288 ,   947.27669953,   982.64566123,  1985.73240087,\n",
       "        1702.32779502,  1837.26929096,  1136.65578241,  1169.85686579,\n",
       "        1108.40533374,  1281.81020626,  1088.8933316 ,   930.00565464,\n",
       "        1302.33337148,  2058.39906113,   799.29292874,  1055.56925361,\n",
       "        1276.46129593,  1614.1651668 ,  1021.47244514,   395.73415871,\n",
       "         485.08475294,   756.54581921,  1476.62165254,  2247.22095699,\n",
       "        1389.17569112,   534.18492106,   809.54403747,  1114.53287729,\n",
       "        1883.77789904,   863.46221633,   789.98082374,   783.80803216,\n",
       "        1772.15638372,  1491.6153357 ,   532.55457533,  1094.17641715,\n",
       "        1119.93412952,  1096.32504913,   678.68699504,   428.30476059,\n",
       "         492.25977114,   559.06719421,  1059.21758891,  1010.93830148,\n",
       "         455.44625012,   892.70633945,  1614.38782237,  1225.5255143 ,\n",
       "        1471.59793956,  1960.33755861,   833.2772782 ,   801.91303167,\n",
       "        1986.98446836,  1716.09219937,  2293.94622344])"
      ]
     },
     "execution_count": 54,
     "metadata": {},
     "output_type": "execute_result"
    }
   ],
   "source": [
    "np.sqrt(np.sum(np.diff(real_matrix[0][0],axis=0)**2,axis=-1))"
   ]
  },
  {
   "cell_type": "code",
   "execution_count": null,
   "metadata": {
    "collapsed": true
   },
   "outputs": [],
   "source": []
  },
  {
   "cell_type": "code",
   "execution_count": 44,
   "metadata": {
    "collapsed": false
   },
   "outputs": [],
   "source": [
    "import glob\n",
    "import numpy as np\n",
    "#files = glob.glob('*.csv')\n",
    "files= ['chr21.csv', 'chr22.csv']\n",
    "file_ =files[0]\n",
    "def file_to_mat(file_):\n",
    "    lines = [ln for ln in open(file_,'r')]\n",
    "    def refine_line(ln):\n",
    "        splits = ln[:-1].split(',')\n",
    "        return [np.nan if ln_=='' else float(ln_)for ln_ in splits]\n",
    "    lines = map(refine_line,lines[1:])\n",
    "    return np.array(lines)\n",
    "def data_to_dists(data):\n",
    "    icell_prev=np.nan\n",
    "    iTAD_prev=np.nan\n",
    "    dists = []\n",
    "    for icell,iTAD,x,y,z in data:\n",
    "        if icell_prev==icell:\n",
    "            xyz = np.array([x,y,z])\n",
    "            dist = np.sqrt(np.sum((xyz-xyz_prev)**2))\n",
    "            dists.append(dist)\n",
    "        icell_prev=icell\n",
    "        xyz_prev = np.array([x,y,z])\n",
    "    dists = np.array(dists)\n",
    "    dists = dists[np.isnan(dists)==False]\n",
    "    return dists\n",
    "\n",
    "dists0 = data_to_dists(file_to_mat(files[0]))\n",
    "dists1 = data_to_dists(file_to_mat(files[1]))\n",
    "dists = np.concatenate([dists0,dists1])\n"
   ]
  },
  {
   "cell_type": "code",
   "execution_count": 43,
   "metadata": {
    "collapsed": false
   },
   "outputs": [],
   "source": [
    "import matplotlib.pylab as plt\n",
    "#plt.hist(np.log(dists0),bins=30,alpha=0.7)\n",
    "#plt.hist(np.log(dists1),bins=30,alpha=0.7)\n",
    "#plt.hist(dists0,bins=30,alpha=0.7)\n",
    "#plt.hist(dists1,bins=30,alpha=0.7)\n",
    "plt.hist(dists,bins=40)\n",
    "plt.show()"
   ]
  },
  {
   "cell_type": "code",
   "execution_count": 49,
   "metadata": {
    "collapsed": false
   },
   "outputs": [
    {
     "data": {
      "text/plain": [
       "0.45172828742659688"
      ]
     },
     "execution_count": 49,
     "metadata": {},
     "output_type": "execute_result"
    }
   ],
   "source": [
    "np.std(dists)"
   ]
  },
  {
   "cell_type": "code",
   "execution_count": 48,
   "metadata": {
    "collapsed": false
   },
   "outputs": [
    {
     "data": {
      "text/plain": [
       "0.75397658663865952"
      ]
     },
     "execution_count": 48,
     "metadata": {},
     "output_type": "execute_result"
    }
   ],
   "source": [
    "np.mean(dists)"
   ]
  },
  {
   "cell_type": "code",
   "execution_count": null,
   "metadata": {
    "collapsed": true
   },
   "outputs": [],
   "source": []
  }
 ],
 "metadata": {
  "kernelspec": {
   "display_name": "Python [Root]",
   "language": "python",
   "name": "Python [Root]"
  },
  "language_info": {
   "codemirror_mode": {
    "name": "ipython",
    "version": 2
   },
   "file_extension": ".py",
   "mimetype": "text/x-python",
   "name": "python",
   "nbconvert_exporter": "python",
   "pygments_lexer": "ipython2",
   "version": "2.7.12"
  }
 },
 "nbformat": 4,
 "nbformat_minor": 0
}
