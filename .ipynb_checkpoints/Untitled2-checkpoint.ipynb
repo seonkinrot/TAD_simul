{
 "cells": [
  {
   "cell_type": "code",
   "execution_count": 3,
   "metadata": {
    "collapsed": false
   },
   "outputs": [
    {
     "name": "stdout",
     "output_type": "stream",
     "text": [
      "No. of tads:\n",
      "[100]\n",
      "No. of chrms labeled/hybe:\n",
      "[15 16 17 18] 15.9722222222 0.611742098487\n"
     ]
    }
   ],
   "source": [
    "import TAD_SIM as ts\n",
    "import numpy as np\n",
    "reload(ts)\n",
    "hybes=ts.code_encoder(nchr=23,ntads=100,nlabel_=16,no_hom=2)\n",
    "chrters=ts.chromosomes(nuc_dia=10000,pixel_sz=100,nchr=46,plt_val=False,return_im=False,cutoff=0.)\n",
    "cell=[]\n",
    "for chrter in chrters:\n",
    "    tads_=ts.TAD_generator(chrter,noTADs=100)\n",
    "    cell.append(tads_)\n",
    "cell=np.array(cell)\n",
    "im_data,truth=ts.simulated_imdata(hybes,cell)\n",
    "corr,incorr,interp=ts.decoder(im_data,hybes,truth,no_hom=2,n_chr=23)"
   ]
  },
  {
   "cell_type": "code",
   "execution_count": 43,
   "metadata": {
    "collapsed": false
   },
   "outputs": [],
   "source": [
    "reload(ts)\n",
    "for iter\n",
    "ts.refine_decoder(im_data,hybes,interp,truth,no_hom=1,n_chr=23,noTads=100,fr_nn=0.8)\n"
   ]
  },
  {
   "cell_type": "code",
   "execution_count": 45,
   "metadata": {
    "collapsed": false
   },
   "outputs": [],
   "source": [
    "point_col = ts.flatten(im_data)\n",
    "chr_col = ts.flatten(interp)\n",
    "point_part = ts.partition_map(point_col,chr_col)\n",
    "\n",
    "chr0pts = np.array(point_part[0])\n",
    "import matplotlib.pyplot as plt\n",
    "plt.plot(chr0pts[:,0],chr0pts[:,1],'o')\n",
    "\n",
    "\n",
    "point_col = ts.flatten(im_data)\n",
    "chr_col = ts.flatten(interp2)\n",
    "point_part = ts.partition_map(point_col,chr_col)\n",
    "\n",
    "chr0pts = np.array(point_part[0])\n",
    "import matplotlib.pyplot as plt\n",
    "plt.plot(chr0pts[:,0],chr0pts[:,1],'o')\n",
    "plt.show()"
   ]
  },
  {
   "cell_type": "code",
   "execution_count": 52,
   "metadata": {
    "collapsed": false
   },
   "outputs": [
    {
     "data": {
      "text/plain": [
       "(4259, 4388, 4389, 4392)"
      ]
     },
     "execution_count": 52,
     "metadata": {},
     "output_type": "execute_result"
    }
   ],
   "source": [
    "corr,corr2,corr3,corr4"
   ]
  },
  {
   "cell_type": "code",
   "execution_count": 50,
   "metadata": {
    "collapsed": false
   },
   "outputs": [
    {
     "data": {
      "text/plain": [
       "(4439, 4439)"
      ]
     },
     "execution_count": 50,
     "metadata": {},
     "output_type": "execute_result"
    }
   ],
   "source": [
    "corr+incorr,corr2+incorr2"
   ]
  },
  {
   "cell_type": "code",
   "execution_count": 36,
   "metadata": {
    "collapsed": true
   },
   "outputs": [],
   "source": [
    "possible_chrs_hybes=[]\n",
    "for hybe in hybes:\n",
    "    possible_chrs_hybes.append(np.where(hybe>0)[0])"
   ]
  },
  {
   "cell_type": "code",
   "execution_count": 37,
   "metadata": {
    "collapsed": false
   },
   "outputs": [
    {
     "data": {
      "text/plain": [
       "[array([ 0,  1,  2,  3,  4,  5,  6,  7,  8,  9, 10, 11, 12, 13, 14, 15, 23,\n",
       "        24, 25, 26, 27, 28, 29, 30, 31, 32, 33, 34, 35, 36, 37, 38], dtype=int64),\n",
       " array([ 0,  1,  2,  3,  4,  5,  6,  7,  8,  9, 11, 13, 16, 18, 19, 20, 21,\n",
       "        22, 23, 24, 25, 26, 27, 28, 29, 30, 31, 32, 34, 36, 39, 41, 42, 43,\n",
       "        44, 45], dtype=int64),\n",
       " array([ 0,  1,  2,  3,  4,  5,  6,  7,  8, 15, 16, 18, 19, 20, 21, 22, 23,\n",
       "        24, 25, 26, 27, 28, 29, 30, 31, 38, 39, 41, 42, 43, 44, 45], dtype=int64),\n",
       " array([ 0,  1,  2,  3,  4,  5,  6,  7,  9, 15, 16, 17, 18, 20, 21, 22, 23,\n",
       "        24, 25, 26, 27, 28, 29, 30, 32, 38, 39, 40, 41, 43, 44, 45], dtype=int64),\n",
       " array([ 0,  1,  2,  3,  4,  5,  6,  8,  9, 10, 11, 15, 16, 20, 22, 23, 24,\n",
       "        25, 26, 27, 28, 29, 31, 32, 33, 34, 38, 39, 43, 45], dtype=int64),\n",
       " array([ 0,  1,  2,  3,  4,  5,  6,  8, 10, 11, 14, 16, 17, 19, 21, 22, 23,\n",
       "        24, 25, 26, 27, 28, 29, 31, 33, 34, 37, 39, 40, 42, 44, 45], dtype=int64),\n",
       " array([ 0,  1,  2,  3,  4,  5,  6,  9, 11, 12, 13, 14, 17, 18, 19, 21, 23,\n",
       "        24, 25, 26, 27, 28, 29, 32, 34, 35, 36, 37, 40, 41, 42, 44], dtype=int64),\n",
       " array([ 0,  1,  2,  3,  4,  5,  7,  8,  9, 10, 12, 13, 16, 17, 20, 22, 23,\n",
       "        24, 25, 26, 27, 28, 30, 31, 32, 33, 35, 36, 39, 40, 43, 45], dtype=int64),\n",
       " array([ 0,  1,  2,  3,  4,  5,  7,  8, 10, 12, 13, 15, 17, 19, 20, 22, 23,\n",
       "        24, 25, 26, 27, 28, 30, 31, 33, 35, 36, 38, 40, 42, 43, 45], dtype=int64),\n",
       " array([ 0,  1,  2,  3,  4,  5,  6,  7,  9, 11, 12, 15, 16, 18, 19, 21, 22,\n",
       "        23, 24, 25, 26, 27, 28, 29, 30, 32, 34, 35, 38, 39, 41, 42, 44, 45], dtype=int64),\n",
       " array([ 0,  1,  2,  3,  4,  5,  7,  8,  9, 10, 13, 14, 15, 17, 19, 20, 22,\n",
       "        23, 24, 25, 26, 27, 28, 30, 31, 32, 33, 36, 37, 38, 40, 42, 43, 45], dtype=int64),\n",
       " array([ 0,  1,  2,  3,  4,  5,  9, 10, 12, 13, 16, 17, 19, 20, 21, 22, 23,\n",
       "        24, 25, 26, 27, 28, 32, 33, 35, 36, 39, 40, 42, 43, 44, 45], dtype=int64),\n",
       " array([ 0,  1,  2,  3,  4,  6,  7,  8,  9, 11, 12, 13, 15, 16, 17, 19, 21,\n",
       "        23, 24, 25, 26, 27, 29, 30, 31, 32, 34, 35, 36, 38, 39, 40, 42, 44], dtype=int64),\n",
       " array([ 0,  1,  2,  3,  4,  6,  7,  8, 12, 13, 14, 15, 16, 17, 18, 20, 23,\n",
       "        24, 25, 26, 27, 29, 30, 31, 35, 36, 37, 38, 39, 40, 41, 43], dtype=int64),\n",
       " array([ 0,  1,  2,  3,  4,  6,  7, 10, 11, 13, 14, 17, 18, 20, 21, 22, 23,\n",
       "        24, 25, 26, 27, 29, 30, 33, 34, 36, 37, 40, 41, 43, 44, 45], dtype=int64),\n",
       " array([ 0,  1,  3,  4,  6,  8,  9, 13, 14, 16, 17, 18, 19, 20, 21, 23, 24,\n",
       "        26, 27, 29, 31, 32, 36, 37, 39, 40, 41, 42, 43, 44], dtype=int64),\n",
       " array([ 0,  1,  2,  3,  4,  6, 11, 12, 14, 15, 16, 17, 19, 20, 22, 23, 24,\n",
       "        25, 26, 27, 29, 34, 35, 37, 38, 39, 40, 42, 43, 45], dtype=int64),\n",
       " array([ 0,  1,  2,  3,  4,  6,  7,  8, 10, 12, 13, 14, 15, 17, 18, 19, 20,\n",
       "        21, 23, 24, 25, 26, 27, 29, 30, 31, 33, 35, 36, 37, 38, 40, 41, 42,\n",
       "        43, 44], dtype=int64),\n",
       " array([ 0,  1,  2,  3,  4,  8,  9, 10, 12, 13, 15, 16, 19, 20, 21, 22, 23,\n",
       "        24, 25, 26, 27, 31, 32, 33, 35, 36, 38, 39, 42, 43, 44, 45], dtype=int64),\n",
       " array([ 0,  1,  2,  3,  5,  6,  7,  8,  9, 10, 13, 14, 16, 17, 18, 19, 23,\n",
       "        24, 25, 26, 28, 29, 30, 31, 32, 33, 36, 37, 39, 40, 41, 42], dtype=int64),\n",
       " array([ 0,  1,  2,  3,  5,  6,  7,  8, 10, 13, 15, 18, 19, 20, 21, 22, 23,\n",
       "        24, 25, 26, 28, 29, 30, 31, 33, 36, 38, 41, 42, 43, 44, 45], dtype=int64),\n",
       " array([ 0,  1,  2,  3,  5,  6,  7, 12, 13, 14, 17, 18, 20, 21, 22, 23, 24,\n",
       "        25, 26, 28, 29, 30, 35, 36, 37, 40, 41, 43, 44, 45], dtype=int64),\n",
       " array([ 0,  1,  2,  3,  5,  6,  8,  9, 11, 12, 13, 15, 17, 18, 21, 22, 23,\n",
       "        24, 25, 26, 28, 29, 31, 32, 34, 35, 36, 38, 40, 41, 44, 45], dtype=int64),\n",
       " array([ 0,  1,  2,  3,  5,  6,  7,  9, 11, 12, 14, 16, 17, 18, 19, 20, 21,\n",
       "        23, 24, 25, 26, 28, 29, 30, 32, 34, 35, 37, 39, 40, 41, 42, 43, 44], dtype=int64),\n",
       " array([ 0,  1,  2,  3,  5,  7,  8, 10, 11, 12, 13, 14, 15, 18, 19, 21, 23,\n",
       "        24, 25, 26, 28, 30, 31, 33, 34, 35, 36, 37, 38, 41, 42, 44], dtype=int64),\n",
       " array([ 0,  1,  2,  3,  5,  8,  9, 10, 11, 13, 14, 15, 17, 21, 22, 23, 24,\n",
       "        25, 26, 28, 31, 32, 33, 34, 36, 37, 38, 40, 44, 45], dtype=int64),\n",
       " array([ 0,  1,  2,  3,  6,  7,  8,  9, 10, 11, 13, 17, 18, 19, 21, 22, 23,\n",
       "        24, 25, 26, 29, 30, 31, 32, 33, 34, 36, 40, 41, 42, 44, 45], dtype=int64),\n",
       " array([ 0,  1,  2,  3,  6,  7,  9, 10, 11, 12, 13, 15, 16, 19, 20, 21, 23,\n",
       "        24, 25, 26, 29, 30, 32, 33, 34, 35, 36, 38, 39, 42, 43, 44], dtype=int64),\n",
       " array([ 0,  1,  2,  3,  5,  6, 10, 11, 12, 14, 15, 16, 17, 18, 19, 21, 23,\n",
       "        24, 25, 26, 28, 29, 33, 34, 35, 37, 38, 39, 40, 41, 42, 44], dtype=int64),\n",
       " array([ 0,  1,  2,  3,  7,  9, 10, 11, 13, 15, 16, 17, 18, 19, 20, 21, 23,\n",
       "        24, 25, 26, 30, 32, 33, 34, 36, 38, 39, 40, 41, 42, 43, 44], dtype=int64),\n",
       " array([ 0,  1,  2,  4,  5,  6,  7,  8,  9, 11, 12, 13, 17, 19, 21, 22, 23,\n",
       "        24, 25, 27, 28, 29, 30, 31, 32, 34, 35, 36, 40, 42, 44, 45], dtype=int64),\n",
       " array([ 0,  1,  2,  4,  5,  6,  7,  8, 11, 13, 14, 16, 17, 18, 21, 22, 23,\n",
       "        24, 25, 27, 28, 29, 30, 31, 34, 36, 37, 39, 40, 41, 44, 45], dtype=int64),\n",
       " array([ 0,  1,  2,  4,  5,  6,  7, 10, 11, 15, 16, 17, 18, 19, 20, 23, 24,\n",
       "        25, 27, 28, 29, 30, 33, 34, 38, 39, 40, 41, 42, 43], dtype=int64),\n",
       " array([ 0,  1,  2,  4,  5,  6,  8,  9, 12, 13, 15, 16, 17, 18, 20, 21, 23,\n",
       "        24, 25, 27, 28, 29, 31, 32, 35, 36, 38, 39, 40, 41, 43, 44], dtype=int64),\n",
       " array([ 0,  1,  2,  4,  5,  6, 10, 12, 13, 14, 15, 16, 19, 20, 21, 22, 23,\n",
       "        24, 25, 27, 28, 29, 33, 35, 36, 37, 38, 39, 42, 43, 44, 45], dtype=int64),\n",
       " array([ 0,  1,  2,  4,  5,  7,  8, 10, 11, 14, 16, 18, 19, 20, 21, 22, 23,\n",
       "        24, 25, 27, 28, 30, 31, 33, 34, 37, 39, 41, 42, 43, 44, 45], dtype=int64),\n",
       " array([ 0,  1,  2,  4,  5,  6,  8,  9, 10, 11, 14, 16, 17, 19, 20, 21, 22,\n",
       "        23, 24, 25, 27, 28, 29, 31, 32, 33, 34, 37, 39, 40, 42, 43, 44, 45], dtype=int64),\n",
       " array([ 0,  1,  2,  4,  6,  7,  8,  9, 10, 12, 13, 16, 17, 18, 20, 21, 22,\n",
       "        23, 24, 25, 27, 29, 30, 31, 32, 33, 35, 36, 39, 40, 41, 43, 44, 45], dtype=int64),\n",
       " array([ 0,  1,  2,  4,  6,  7, 10, 12, 13, 14, 17, 18, 19, 20, 21, 23, 24,\n",
       "        25, 27, 29, 30, 33, 35, 36, 37, 40, 41, 42, 43, 44], dtype=int64),\n",
       " array([ 0,  1,  2,  4,  6,  9, 10, 11, 12, 14, 15, 16, 17, 20, 21, 22, 23,\n",
       "        24, 25, 27, 29, 32, 33, 34, 35, 37, 38, 39, 40, 43, 44, 45], dtype=int64),\n",
       " array([ 0,  1,  2,  4,  7,  8,  9, 10, 11, 12, 13, 16, 17, 18, 19, 20, 22,\n",
       "        23, 24, 25, 27, 30, 31, 32, 33, 34, 35, 36, 39, 40, 41, 42, 43, 45], dtype=int64),\n",
       " array([ 0,  1,  2,  5,  6,  7,  8, 10, 11, 12, 13, 14, 16, 18, 21, 22, 23,\n",
       "        24, 25, 28, 29, 30, 31, 33, 34, 35, 36, 37, 39, 41, 44, 45], dtype=int64),\n",
       " array([ 0,  1,  2,  5,  6,  8,  9, 10, 11, 12, 13, 14, 16, 18, 20, 22, 23,\n",
       "        24, 25, 28, 29, 31, 32, 33, 34, 35, 36, 37, 39, 41, 43, 45], dtype=int64),\n",
       " array([ 0,  1,  2,  5,  7,  8, 10, 12, 13, 15, 16, 18, 19, 21, 22, 23, 24,\n",
       "        25, 28, 30, 31, 33, 35, 36, 38, 39, 41, 42, 44, 45], dtype=int64),\n",
       " array([ 0,  1,  2,  6,  7,  8,  9, 10, 11, 13, 17, 18, 19, 20, 21, 22, 23,\n",
       "        24, 25, 29, 30, 31, 32, 33, 34, 36, 40, 41, 42, 43, 44, 45], dtype=int64),\n",
       " array([ 0,  1,  2,  7,  8,  9, 10, 11, 12, 13, 14, 16, 17, 18, 19, 20, 22,\n",
       "        23, 24, 25, 30, 31, 32, 33, 34, 35, 36, 37, 39, 40, 41, 42, 43, 45], dtype=int64),\n",
       " array([ 0,  1,  3,  4,  5,  6,  7,  8, 11, 14, 16, 17, 18, 20, 22, 23, 24,\n",
       "        26, 27, 28, 29, 30, 31, 34, 37, 39, 40, 41, 43, 45], dtype=int64),\n",
       " array([ 0,  1,  3,  4,  5,  6,  7,  9, 10, 11, 12, 13, 14, 15, 20, 22, 23,\n",
       "        24, 26, 27, 28, 29, 30, 32, 33, 34, 35, 36, 37, 38, 43, 45], dtype=int64),\n",
       " array([ 0,  1,  3,  4,  5,  6,  7, 10, 13, 15, 16, 17, 18, 19, 21, 22, 23,\n",
       "        24, 26, 27, 28, 29, 30, 33, 36, 38, 39, 40, 41, 42, 44, 45], dtype=int64),\n",
       " array([ 0,  1,  3,  4,  5,  6,  8, 10, 11, 12, 15, 16, 17, 18, 19, 20, 22,\n",
       "        23, 24, 26, 27, 28, 29, 31, 33, 34, 35, 38, 39, 40, 41, 42, 43, 45], dtype=int64),\n",
       " array([ 0,  1,  3,  4,  5,  7,  8,  9, 10, 11, 12, 14, 18, 20, 21, 23, 24,\n",
       "        26, 27, 28, 30, 31, 32, 33, 34, 35, 37, 41, 43, 44], dtype=int64),\n",
       " array([ 0,  1,  3,  4,  5,  7,  8, 11, 13, 14, 15, 16, 17, 18, 20, 21, 23,\n",
       "        24, 26, 27, 28, 30, 31, 34, 36, 37, 38, 39, 40, 41, 43, 44], dtype=int64),\n",
       " array([ 0,  1,  3,  4,  5,  8,  9, 11, 13, 14, 15, 16, 17, 18, 19, 22, 23,\n",
       "        24, 26, 27, 28, 31, 32, 34, 36, 37, 38, 39, 40, 41, 42, 45], dtype=int64),\n",
       " array([ 0,  1,  3,  4,  6,  7,  8,  9, 11, 12, 14, 16, 18, 20, 21, 22, 23,\n",
       "        24, 26, 27, 29, 30, 31, 32, 34, 35, 37, 39, 41, 43, 44, 45], dtype=int64),\n",
       " array([ 0,  1,  3,  4,  6,  7,  9, 12, 13, 14, 15, 17, 18, 20, 21, 22, 23,\n",
       "        24, 26, 27, 29, 30, 32, 35, 36, 37, 38, 40, 41, 43, 44, 45], dtype=int64),\n",
       " array([ 0,  1,  3,  4,  7,  8, 10, 11, 12, 13, 14, 15, 18, 19, 22, 23, 24,\n",
       "        26, 27, 30, 31, 33, 34, 35, 36, 37, 38, 41, 42, 45], dtype=int64),\n",
       " array([ 0,  1,  3,  4,  6,  9, 10, 11, 12, 13, 14, 15, 16, 18, 19, 21, 22,\n",
       "        23, 24, 26, 27, 29, 32, 33, 34, 35, 36, 37, 38, 39, 41, 42, 44, 45], dtype=int64),\n",
       " array([ 0,  1,  3,  5,  6,  7, 10, 12, 13, 14, 15, 16, 20, 21, 22, 23, 24,\n",
       "        26, 28, 29, 30, 33, 35, 36, 37, 38, 39, 43, 44, 45], dtype=int64),\n",
       " array([ 0,  1,  3,  5,  6,  7,  8,  9, 10, 12, 13, 14, 15, 16, 19, 20, 22,\n",
       "        23, 24, 26, 28, 29, 30, 31, 32, 33, 35, 36, 37, 38, 39, 42, 43, 45], dtype=int64),\n",
       " array([ 0,  1,  3,  5,  7,  8,  9, 12, 14, 15, 16, 17, 18, 19, 20, 21, 23,\n",
       "        24, 26, 28, 30, 31, 32, 35, 37, 38, 39, 40, 41, 42, 43, 44], dtype=int64),\n",
       " array([ 0,  1,  3,  6,  7,  8, 11, 12, 14, 15, 16, 18, 19, 21, 22, 23, 24,\n",
       "        26, 29, 30, 31, 34, 35, 37, 38, 39, 41, 42, 44, 45], dtype=int64),\n",
       " array([ 0,  1,  3,  5,  8,  9, 10, 11, 12, 13, 15, 16, 17, 18, 19, 21, 22,\n",
       "        23, 24, 26, 28, 31, 32, 33, 34, 35, 36, 38, 39, 40, 41, 42, 44, 45], dtype=int64),\n",
       " array([ 0,  1,  4,  5,  6,  7,  8, 10, 12, 13, 14, 15, 17, 18, 22, 23, 24,\n",
       "        27, 28, 29, 30, 31, 33, 35, 36, 37, 38, 40, 41, 45], dtype=int64),\n",
       " array([ 0,  1,  4,  5,  6,  8,  9, 10, 12, 13, 14, 15, 17, 18, 19, 21, 23,\n",
       "        24, 27, 28, 29, 31, 32, 33, 35, 36, 37, 38, 40, 41, 42, 44], dtype=int64),\n",
       " array([ 0,  1,  4,  5,  7,  8,  9, 12, 14, 15, 16, 17, 19, 20, 21, 22, 23,\n",
       "        24, 27, 28, 30, 31, 32, 35, 37, 38, 39, 40, 42, 43, 44, 45], dtype=int64),\n",
       " array([ 0,  1,  4,  6,  7,  8,  9, 11, 12, 14, 15, 17, 18, 19, 20, 22, 23,\n",
       "        24, 27, 29, 30, 31, 32, 34, 35, 37, 38, 40, 41, 42, 43, 45], dtype=int64),\n",
       " array([ 0,  1,  4,  8,  9, 10, 11, 12, 13, 15, 17, 18, 19, 20, 21, 22, 23,\n",
       "        24, 27, 31, 32, 33, 34, 35, 36, 38, 40, 41, 42, 43, 44, 45], dtype=int64),\n",
       " array([ 0,  1,  5,  6,  8,  9, 12, 13, 14, 15, 16, 17, 18, 20, 21, 22, 23,\n",
       "        24, 28, 29, 31, 32, 35, 36, 37, 38, 39, 40, 41, 43, 44, 45], dtype=int64),\n",
       " array([ 0,  2,  3,  4,  5,  6,  7,  8,  9, 10, 11, 13, 15, 19, 20, 22, 23,\n",
       "        25, 26, 27, 28, 29, 30, 31, 32, 33, 34, 36, 38, 42, 43, 45], dtype=int64),\n",
       " array([ 0,  2,  3,  4,  5,  6,  7,  8, 10, 11, 13, 14, 16, 17, 21, 22, 23,\n",
       "        25, 26, 27, 28, 29, 30, 31, 33, 34, 36, 37, 39, 40, 44, 45], dtype=int64),\n",
       " array([ 0,  2,  3,  4,  5,  6,  7,  9, 10, 13, 14, 17, 18, 19, 20, 22, 23,\n",
       "        25, 26, 27, 28, 29, 30, 32, 33, 36, 37, 40, 41, 42, 43, 45], dtype=int64),\n",
       " array([ 0,  2,  3,  4,  5,  6,  8,  9, 10, 11, 15, 16, 17, 18, 22, 23, 25,\n",
       "        26, 27, 28, 29, 31, 32, 33, 34, 38, 39, 40, 41, 45], dtype=int64),\n",
       " array([ 0,  2,  3,  4,  5,  6,  9, 10, 11, 14, 15, 17, 18, 19, 22, 23, 25,\n",
       "        26, 27, 28, 29, 32, 33, 34, 37, 38, 40, 41, 42, 45], dtype=int64),\n",
       " array([ 0,  2,  3,  4,  5,  7,  8,  9, 11, 12, 13, 14, 15, 16, 17, 18, 19,\n",
       "        23, 25, 26, 27, 28, 30, 31, 32, 34, 35, 36, 37, 38, 39, 40, 41, 42], dtype=int64),\n",
       " array([ 0,  2,  3,  4,  5,  7,  9, 11, 12, 13, 16, 17, 18, 19, 21, 22, 23,\n",
       "        25, 26, 27, 28, 30, 32, 34, 35, 36, 39, 40, 41, 42, 44, 45], dtype=int64),\n",
       " array([ 0,  2,  3,  4,  5,  6, 10, 11, 12, 13, 14, 15, 16, 17, 18, 19, 20,\n",
       "        23, 25, 26, 27, 28, 29, 33, 34, 35, 36, 37, 38, 39, 40, 41, 42, 43], dtype=int64),\n",
       " array([ 0,  2,  3,  4,  6,  7,  8, 10, 12, 13, 14, 15, 17, 18, 19, 20, 23,\n",
       "        25, 26, 27, 29, 30, 31, 33, 35, 36, 37, 38, 40, 41, 42, 43], dtype=int64),\n",
       " array([ 0,  2,  3,  4,  6,  9, 10, 12, 13, 14, 15, 16, 19, 21, 22, 23, 25,\n",
       "        26, 27, 29, 32, 33, 35, 36, 37, 38, 39, 42, 44, 45], dtype=int64),\n",
       " array([ 0,  2,  3,  4,  7,  8,  9, 12, 14, 15, 16, 17, 18, 19, 20, 22, 23,\n",
       "        25, 26, 27, 30, 31, 32, 35, 37, 38, 39, 40, 41, 42, 43, 45], dtype=int64),\n",
       " array([ 0,  2,  3,  5,  6,  7,  8,  9, 10, 12, 14, 15, 16, 17, 19, 20, 23,\n",
       "        25, 26, 28, 29, 30, 31, 32, 33, 35, 37, 38, 39, 40, 42, 43], dtype=int64),\n",
       " array([ 0,  2,  3,  5,  6,  7,  9, 10, 11, 14, 15, 16, 18, 19, 20, 21, 23,\n",
       "        25, 26, 28, 29, 30, 32, 33, 34, 37, 38, 39, 41, 42, 43, 44], dtype=int64),\n",
       " array([ 0,  2,  3,  5,  6,  9, 10, 11, 12, 13, 14, 15, 16, 19, 20, 22, 23,\n",
       "        25, 26, 28, 29, 32, 33, 34, 35, 36, 37, 38, 39, 42, 43, 45], dtype=int64),\n",
       " array([ 0,  2,  3,  5,  8,  9, 10, 11, 12, 13, 14, 15, 16, 17, 18, 21, 23,\n",
       "        25, 26, 28, 31, 32, 33, 34, 35, 36, 37, 38, 39, 40, 41, 44], dtype=int64),\n",
       " array([ 0,  2,  3,  6,  7,  9, 11, 12, 13, 14, 15, 16, 17, 19, 20, 21, 22,\n",
       "        23, 25, 26, 29, 30, 32, 34, 35, 36, 37, 38, 39, 40, 42, 43, 44, 45], dtype=int64),\n",
       " array([ 0,  2,  4,  5,  6,  7,  8,  9, 10, 12, 14, 15, 16, 17, 20, 22, 23,\n",
       "        25, 27, 28, 29, 30, 31, 32, 33, 35, 37, 38, 39, 40, 43, 45], dtype=int64),\n",
       " array([ 0,  2,  4,  5,  6,  7,  9, 10, 11, 14, 15, 16, 19, 20, 21, 22, 23,\n",
       "        25, 27, 28, 29, 30, 32, 33, 34, 37, 38, 39, 42, 43, 44, 45], dtype=int64),\n",
       " array([ 0,  2,  4,  5,  6,  7,  9, 10, 11, 12, 13, 14, 15, 17, 18, 19, 20,\n",
       "        23, 25, 27, 28, 29, 30, 32, 33, 34, 35, 36, 37, 38, 40, 41, 42, 43], dtype=int64),\n",
       " array([ 0,  2,  4,  5,  8,  9, 10, 11, 12, 13, 14, 15, 16, 17, 22, 23, 25,\n",
       "        27, 28, 31, 32, 33, 34, 35, 36, 37, 38, 39, 40, 45], dtype=int64),\n",
       " array([ 0,  2,  4,  6,  7,  9, 11, 12, 15, 16, 17, 18, 19, 21, 22, 23, 25,\n",
       "        27, 29, 30, 32, 34, 35, 38, 39, 40, 41, 42, 44, 45], dtype=int64),\n",
       " array([ 0,  2,  5,  6,  7,  8,  9, 11, 12, 14, 16, 17, 18, 19, 20, 21, 23,\n",
       "        25, 28, 29, 30, 31, 32, 34, 35, 37, 39, 40, 41, 42, 43, 44], dtype=int64),\n",
       " array([ 0,  2,  5,  8,  9, 10, 11, 12, 14, 15, 16, 17, 18, 20, 21, 22, 23,\n",
       "        25, 28, 31, 32, 33, 34, 35, 37, 38, 39, 40, 41, 43, 44, 45], dtype=int64),\n",
       " array([ 0,  3,  4,  5,  6,  7,  8,  9, 11, 12, 14, 17, 18, 19, 20, 21, 23,\n",
       "        26, 27, 28, 29, 30, 31, 32, 34, 35, 37, 40, 41, 42, 43, 44], dtype=int64),\n",
       " array([ 0,  3,  4,  5,  6,  7,  9, 12, 13, 14, 16, 17, 18, 19, 20, 21, 23,\n",
       "        26, 27, 28, 29, 30, 32, 35, 36, 37, 39, 40, 41, 42, 43, 44], dtype=int64),\n",
       " array([ 0,  3,  4,  5,  7,  9, 10, 11, 12, 13, 14, 15, 18, 20, 22, 23, 26,\n",
       "        27, 28, 30, 32, 33, 34, 35, 36, 37, 38, 41, 43, 45], dtype=int64),\n",
       " array([ 0,  3,  4,  5,  9, 10, 11, 12, 13, 14, 15, 16, 20, 21, 22, 23, 26,\n",
       "        27, 28, 32, 33, 34, 35, 36, 37, 38, 39, 43, 44, 45], dtype=int64),\n",
       " array([ 0,  3,  4,  6,  8,  9, 11, 13, 15, 16, 17, 18, 19, 20, 21, 22, 23,\n",
       "        26, 27, 29, 31, 32, 34, 36, 38, 39, 40, 41, 42, 43, 44, 45], dtype=int64),\n",
       " array([ 0,  3,  5,  6,  7,  8, 11, 12, 14, 15, 16, 17, 18, 19, 20, 22, 23,\n",
       "        26, 28, 29, 30, 31, 34, 35, 37, 38, 39, 40, 41, 42, 43, 45], dtype=int64),\n",
       " array([ 0,  3,  6,  7,  8, 10, 11, 12, 13, 14, 16, 17, 18, 19, 20, 21, 23,\n",
       "        26, 29, 30, 31, 33, 34, 35, 36, 37, 39, 40, 41, 42, 43, 44], dtype=int64),\n",
       " array([ 0,  3,  4,  5,  6,  7, 10, 11, 14, 15, 16, 17, 18, 19, 20, 21, 22,\n",
       "        23, 26, 27, 28, 29, 30, 33, 34, 37, 38, 39, 40, 41, 42, 43, 44, 45], dtype=int64),\n",
       " array([ 0,  4,  8,  9, 10, 11, 13, 14, 15, 16, 17, 18, 19, 20, 21, 22, 23,\n",
       "        27, 31, 32, 33, 34, 36, 37, 38, 39, 40, 41, 42, 43, 44, 45], dtype=int64),\n",
       " array([ 1,  2,  3,  4,  5,  6,  7,  8,  9, 10, 13, 14, 17, 19, 20, 21, 22,\n",
       "        24, 25, 26, 27, 28, 29, 30, 31, 32, 33, 36, 37, 40, 42, 43, 44, 45], dtype=int64),\n",
       " array([ 1,  2,  3,  4,  5,  6,  7,  8, 11, 12, 13, 15, 18, 19, 20, 21, 24,\n",
       "        25, 26, 27, 28, 29, 30, 31, 34, 35, 36, 38, 41, 42, 43, 44], dtype=int64),\n",
       " array([ 1,  2,  3,  4,  5,  6,  7, 10, 11, 12, 13, 14, 15, 19, 21, 22, 24,\n",
       "        25, 26, 27, 28, 29, 30, 33, 34, 35, 36, 37, 38, 42, 44, 45], dtype=int64),\n",
       " array([ 1,  2,  3,  4,  5,  6,  8,  9, 11, 13, 14, 15, 18, 19, 20, 21, 24,\n",
       "        25, 26, 27, 28, 29, 31, 32, 34, 36, 37, 38, 41, 42, 43, 44], dtype=int64),\n",
       " array([ 1,  2,  3,  4,  5,  6, 10, 11, 12, 13, 14, 15, 17, 20, 21, 22, 24,\n",
       "        25, 26, 27, 28, 29, 33, 34, 35, 36, 37, 38, 40, 43, 44, 45], dtype=int64),\n",
       " array([ 1,  2,  3,  4,  5,  7,  8, 10, 11, 12, 14, 16, 18, 19, 20, 21, 24,\n",
       "        25, 26, 27, 28, 30, 31, 33, 34, 35, 37, 39, 41, 42, 43, 44], dtype=int64),\n",
       " array([ 1,  2,  3,  4,  5,  8,  9, 10, 11, 12, 14, 16, 17, 19, 21, 22, 24,\n",
       "        25, 26, 27, 28, 31, 32, 33, 34, 35, 37, 39, 40, 42, 44, 45], dtype=int64),\n",
       " array([ 1,  2,  3,  4,  6,  7,  8,  9, 10, 12, 13, 14, 17, 18, 19, 21, 24,\n",
       "        25, 26, 27, 29, 30, 31, 32, 33, 35, 36, 37, 40, 41, 42, 44], dtype=int64),\n",
       " array([ 1,  2,  3,  4,  6,  7,  9, 10, 11, 13, 14, 15, 17, 18, 21, 24, 25,\n",
       "        26, 27, 29, 30, 32, 33, 34, 36, 37, 38, 40, 41, 44], dtype=int64),\n",
       " array([ 1,  2,  3,  4,  6,  8, 11, 12, 13, 14, 15, 16, 17, 20, 21, 22, 24,\n",
       "        25, 26, 27, 29, 31, 34, 35, 36, 37, 38, 39, 40, 43, 44, 45], dtype=int64),\n",
       " array([ 1,  2,  3,  4,  7, 10, 11, 12, 13, 14, 15, 16, 17, 19, 20, 22, 24,\n",
       "        25, 26, 27, 30, 33, 34, 35, 36, 37, 38, 39, 40, 42, 43, 45], dtype=int64),\n",
       " array([ 1,  2,  3,  5,  6,  7,  8,  9, 12, 13, 15, 18, 19, 20, 21, 24, 25,\n",
       "        26, 28, 29, 30, 31, 32, 35, 36, 38, 41, 42, 43, 44], dtype=int64),\n",
       " array([ 1,  2,  3,  5,  6,  7, 10, 12, 13, 14, 15, 18, 19, 20, 21, 22, 24,\n",
       "        25, 26, 28, 29, 30, 33, 35, 36, 37, 38, 41, 42, 43, 44, 45], dtype=int64),\n",
       " array([ 1,  2,  3,  5,  7,  8,  9, 10, 11, 13, 14, 16, 17, 18, 20, 22, 24,\n",
       "        25, 26, 28, 30, 31, 32, 33, 34, 36, 37, 39, 40, 41, 43, 45], dtype=int64),\n",
       " array([ 1,  2,  3,  6,  7,  8,  9, 10, 11, 12, 14, 15, 16, 19, 20, 22, 24,\n",
       "        25, 26, 29, 30, 31, 32, 33, 34, 35, 37, 38, 39, 42, 43, 45], dtype=int64),\n",
       " array([ 1,  2,  3,  7,  8,  9, 10, 11, 12, 13, 14, 16, 17, 18, 19, 22, 24,\n",
       "        25, 26, 30, 31, 32, 33, 34, 35, 36, 37, 39, 40, 41, 42, 45], dtype=int64),\n",
       " array([ 1,  2,  4,  5,  6,  7,  8,  9, 12, 13, 15, 16, 19, 20, 21, 22, 24,\n",
       "        25, 27, 28, 29, 30, 31, 32, 35, 36, 38, 39, 42, 43, 44, 45], dtype=int64),\n",
       " array([ 1,  2,  4,  5,  6,  7, 10, 12, 13, 14, 16, 17, 18, 20, 21, 22, 24,\n",
       "        25, 27, 28, 29, 30, 33, 35, 36, 37, 39, 40, 41, 43, 44, 45], dtype=int64),\n",
       " array([ 1,  2,  4,  5,  7,  8,  9, 10, 11, 13, 14, 16, 17, 19, 21, 22, 24,\n",
       "        25, 27, 28, 30, 31, 32, 33, 34, 36, 37, 39, 40, 42, 44, 45], dtype=int64),\n",
       " array([ 1,  2,  4,  6,  7,  8,  9, 10, 11, 12, 14, 15, 17, 18, 19, 24, 25,\n",
       "        27, 29, 30, 31, 32, 33, 34, 35, 37, 38, 40, 41, 42], dtype=int64),\n",
       " array([ 1,  2,  4,  7,  8,  9, 10, 11, 12, 13, 14, 16, 17, 19, 20, 21, 24,\n",
       "        25, 27, 30, 31, 32, 33, 34, 35, 36, 37, 39, 40, 42, 43, 44], dtype=int64),\n",
       " array([ 1,  2,  5,  6,  7,  9, 10, 12, 13, 15, 16, 17, 18, 19, 21, 22, 24,\n",
       "        25, 28, 29, 30, 32, 33, 35, 36, 38, 39, 40, 41, 42, 44, 45], dtype=int64),\n",
       " array([ 1,  2,  6,  8,  9, 11, 12, 14, 15, 16, 17, 18, 19, 20, 21, 22, 24,\n",
       "        25, 29, 31, 32, 34, 35, 37, 38, 39, 40, 41, 42, 43, 44, 45], dtype=int64),\n",
       " array([ 1,  3,  4,  5,  6,  7,  8, 10, 11, 13, 15, 16, 18, 19, 20, 22, 24,\n",
       "        26, 27, 28, 29, 30, 31, 33, 34, 36, 38, 39, 41, 42, 43, 45], dtype=int64),\n",
       " array([ 1,  3,  4,  5,  6,  8,  9, 10, 11, 13, 15, 16, 18, 19, 20, 21, 24,\n",
       "        26, 27, 28, 29, 31, 32, 33, 34, 36, 38, 39, 41, 42, 43, 44], dtype=int64),\n",
       " array([ 1,  3,  4,  5,  7,  8,  9, 11, 13, 14, 15, 16, 18, 19, 20, 21, 24,\n",
       "        26, 27, 28, 30, 31, 32, 34, 36, 37, 38, 39, 41, 42, 43, 44], dtype=int64),\n",
       " array([ 1,  3,  4,  5,  6,  7,  8,  9, 11, 12, 13, 14, 15, 17, 18, 21, 22,\n",
       "        24, 26, 27, 28, 29, 30, 31, 32, 34, 35, 36, 37, 38, 40, 41, 44, 45], dtype=int64),\n",
       " array([ 1,  3,  4,  7,  9, 10, 11, 13, 14, 15, 16, 18, 19, 20, 21, 22, 24,\n",
       "        26, 27, 30, 32, 33, 34, 36, 37, 38, 39, 41, 42, 43, 44, 45], dtype=int64),\n",
       " array([ 1,  3,  5,  6,  8,  9, 10, 12, 14, 15, 16, 17, 18, 21, 22, 24, 26,\n",
       "        28, 29, 31, 32, 33, 35, 37, 38, 39, 40, 41, 44, 45], dtype=int64),\n",
       " array([ 1,  4,  5,  6,  7,  8,  9, 10, 11, 13, 14, 15, 16, 18, 20, 21, 24,\n",
       "        27, 28, 29, 30, 31, 32, 33, 34, 36, 37, 38, 39, 41, 43, 44], dtype=int64),\n",
       " array([ 1,  4,  5,  7,  8,  9, 10, 11, 12, 15, 16, 18, 20, 21, 22, 24, 27,\n",
       "        28, 30, 31, 32, 33, 34, 35, 38, 39, 41, 43, 44, 45], dtype=int64),\n",
       " array([ 1,  5,  7,  8,  9, 10, 11, 12, 13, 15, 16, 17, 18, 20, 21, 22, 24,\n",
       "        28, 30, 31, 32, 33, 34, 35, 36, 38, 39, 40, 41, 43, 44, 45], dtype=int64),\n",
       " array([ 2,  3,  4,  5,  6,  7,  8, 10, 11, 12, 16, 17, 18, 19, 20, 21, 25,\n",
       "        26, 27, 28, 29, 30, 31, 33, 34, 35, 39, 40, 41, 42, 43, 44], dtype=int64),\n",
       " array([ 2,  3,  4,  5,  6,  8,  9, 10, 11, 12, 15, 17, 19, 20, 21, 22, 25,\n",
       "        26, 27, 28, 29, 31, 32, 33, 34, 35, 38, 40, 42, 43, 44, 45], dtype=int64),\n",
       " array([ 2,  3,  4,  5,  7,  8,  9, 11, 12, 13, 15, 16, 17, 18, 19, 20, 25,\n",
       "        26, 27, 28, 30, 31, 32, 34, 35, 36, 38, 39, 40, 41, 42, 43], dtype=int64),\n",
       " array([ 2,  3,  4,  6,  7,  8,  9, 10, 12, 15, 16, 17, 18, 20, 21, 22, 25,\n",
       "        26, 27, 29, 30, 31, 32, 33, 35, 38, 39, 40, 41, 43, 44, 45], dtype=int64),\n",
       " array([ 2,  3,  4,  7, 10, 11, 13, 14, 15, 16, 17, 18, 19, 20, 21, 22, 25,\n",
       "        26, 27, 30, 33, 34, 36, 37, 38, 39, 40, 41, 42, 43, 44, 45], dtype=int64),\n",
       " array([ 2,  3,  5,  6,  8,  9, 10, 11, 13, 14, 15, 16, 17, 20, 21, 22, 25,\n",
       "        26, 28, 29, 31, 32, 33, 34, 36, 37, 38, 39, 40, 43, 44, 45], dtype=int64),\n",
       " array([ 2,  4,  5,  6,  7,  8,  9, 10, 11, 12, 14, 15, 17, 18, 19, 22, 25,\n",
       "        27, 28, 29, 30, 31, 32, 33, 34, 35, 37, 38, 40, 41, 42, 45], dtype=int64),\n",
       " array([ 2,  4,  5,  7,  8,  9, 10, 11, 12, 13, 14, 16, 17, 19, 20, 22, 25,\n",
       "        27, 28, 30, 31, 32, 33, 34, 35, 36, 37, 39, 40, 42, 43, 45], dtype=int64),\n",
       " array([ 2,  5,  6,  8,  9, 10, 12, 13, 14, 16, 17, 18, 19, 20, 21, 22, 25,\n",
       "        28, 29, 31, 32, 33, 35, 36, 37, 39, 40, 41, 42, 43, 44, 45], dtype=int64),\n",
       " array([ 3,  4,  5,  6,  8, 10, 11, 12, 13, 14, 15, 17, 18, 19, 20, 21, 26,\n",
       "        27, 28, 29, 31, 33, 34, 35, 36, 37, 38, 40, 41, 42, 43, 44], dtype=int64),\n",
       " array([ 3,  5,  6,  7,  8,  9, 10, 11, 12, 13, 15, 16, 19, 20, 21, 22, 26,\n",
       "        28, 29, 30, 31, 32, 33, 34, 35, 36, 38, 39, 42, 43, 44, 45], dtype=int64),\n",
       " array([ 7,  8,  9, 10, 11, 12, 13, 14, 15, 16, 17, 18, 19, 21, 22, 30, 31,\n",
       "        32, 33, 34, 35, 36, 37, 38, 39, 40, 41, 42, 44, 45], dtype=int64)]"
      ]
     },
     "execution_count": 37,
     "metadata": {},
     "output_type": "execute_result"
    }
   ],
   "source": []
  },
  {
   "cell_type": "code",
   "execution_count": null,
   "metadata": {
    "collapsed": true
   },
   "outputs": [],
   "source": []
  },
  {
   "cell_type": "code",
   "execution_count": 41,
   "metadata": {
    "collapsed": false
   },
   "outputs": [],
   "source": [
    "corr2,incorr2,interp2=refine_decoder(im_data,hybes,interp,truth,no_hom=1,n_chr=23)"
   ]
  },
  {
   "cell_type": "code",
   "execution_count": 47,
   "metadata": {
    "collapsed": true
   },
   "outputs": [],
   "source": [
    "corr3,incorr3,interp3=refine_decoder(im_data,hybes,interp2,truth,no_hom=1,n_chr=23)"
   ]
  },
  {
   "cell_type": "code",
   "execution_count": 51,
   "metadata": {
    "collapsed": true
   },
   "outputs": [],
   "source": [
    "corr4,incorr4,interp4=refine_decoder(im_data,hybes,interp3,truth,no_hom=1,n_chr=23)"
   ]
  },
  {
   "cell_type": "code",
   "execution_count": 28,
   "metadata": {
    "collapsed": false
   },
   "outputs": [
    {
     "data": {
      "text/plain": [
       "0.7881313314689633"
      ]
     },
     "execution_count": 28,
     "metadata": {},
     "output_type": "execute_result"
    }
   ],
   "source": [
    "difs_test\n",
    "np.median(np.sqrt(np.sum(np.array(difs_test,dtype=float)**2,axis=-1)))"
   ]
  },
  {
   "cell_type": "code",
   "execution_count": null,
   "metadata": {
    "collapsed": true
   },
   "outputs": [],
   "source": []
  },
  {
   "cell_type": "code",
   "execution_count": 40,
   "metadata": {
    "collapsed": true
   },
   "outputs": [],
   "source": [
    "def refine_decoder(hybes_points,hybes,prev_decoder_output,tot_ground_truth,no_hom=1,n_chr=23,noTads=100,fr_nn=0.8):\n",
    "    point_col = ts.flatten(im_data)\n",
    "    chr_col = ts.flatten(prev_decoder_output)\n",
    "    point_part = ts.partition_map(point_col,chr_col)\n",
    "    #What chromosomes appear in which hybe\n",
    "    possible_chrs_hybes=[]\n",
    "    for hybe in hybes:\n",
    "        possible_chrs_hybes.append(np.where(hybe>0)[0]%n_chr)\n",
    "    ##\n",
    "    goods,bads=0,0\n",
    "    chromosome_ids_all = []\n",
    "    #Iterate through all the points in the hybes. The current hybe I call it ref hybe\n",
    "    for id_ref in range(len(hybes_points)):\n",
    "        ###Given id_ref hybe compute the projection space\n",
    "        hybes_points_ref = hybes_points[id_ref]\n",
    "        \n",
    "        possible_chrs = possible_chrs_hybes[id_ref]#np.where(hybes[id_ref]>0)[0]\n",
    "        weight_chr = []\n",
    "        for point in hybes_points_ref:\n",
    "            min_L1_dists=[]#distances to nearest neighbors across hybes for point\n",
    "            for pos_chr in possible_chrs:\n",
    "                difs = [point] - np.array(point_part[pos_chr],dtype=float)\n",
    "                dists = np.sqrt(np.sum(difs**2,axis=-1))\n",
    "                dists = np.sort(dists)[:int(noTads*fr_nn)]\n",
    "                #min_L1_dist = np.min(np.sum(np.abs(difs),axis=-1))\n",
    "                min_L1_dist = np.median(dists)\n",
    "                min_L1_dists.append(min_L1_dist)\n",
    "            min_L1_dists = np.array(min_L1_dists)#nearest neighbour distance across hybes for point in reference hybe\n",
    "            weight_chr.append(min_L1_dists)\n",
    "        ##After computing a no of candidate chromosomes x no of points weight matrix projections_point\n",
    "        ## Decide on best assigment.\n",
    "        chr_picks = ts.unique_classif(weight_chr,conf=None)\n",
    "        \n",
    "        \n",
    "        points_identities,chr_identities = zip(*chr_picks)\n",
    "        #chr_identities goes from 0 to number of chromosomes is ref hybe in maximum confidence order\n",
    "        chromosome_ids0 = np.arange(len(points_identities))\n",
    "        chromosome_ids0[np.array(points_identities)]=np.array(chr_identities)\n",
    "        chromosome_ids = possible_chrs[chromosome_ids0]%n_chr\n",
    "        chromosome_ids_all.append(chromosome_ids)\n",
    "        #chromosome_ids is chromosome prediction (0-22) in order of the points in ref hybe.\n",
    "        #Compare to ground truth calculated during simulation of imaging data.\n",
    "        non_deg_poss=np.array(tot_ground_truth[id_ref])%n_chr\n",
    "        good = np.sum(non_deg_poss==chromosome_ids) #up to degeneracy due to homologous chromosomes\n",
    "        bad = np.sum(non_deg_poss!=chromosome_ids)\n",
    "        goods+=good\n",
    "        bads+=bad     \n",
    "    return goods,bads,chromosome_ids_all"
   ]
  },
  {
   "cell_type": "code",
   "execution_count": null,
   "metadata": {
    "collapsed": true
   },
   "outputs": [],
   "source": []
  },
  {
   "cell_type": "code",
   "execution_count": null,
   "metadata": {
    "collapsed": true
   },
   "outputs": [],
   "source": []
  },
  {
   "cell_type": "code",
   "execution_count": null,
   "metadata": {
    "collapsed": true
   },
   "outputs": [],
   "source": []
  },
  {
   "cell_type": "code",
   "execution_count": null,
   "metadata": {
    "collapsed": true
   },
   "outputs": [],
   "source": [
    "reload(ts)\n",
    "num_chr =23\n",
    "num_hom=2\n",
    "split_dic ={}\n",
    "for chr_id in range(num_chr):\n",
    "    split_dic[chr_id]=map(list,[[]]*num_hom)\n",
    "im_data_enhanced = map(list,im_data)\n",
    "for ihybe in range(len(im_data_enhanced)):\n",
    "    im_data_enhanced_hybe = im_data_enhanced[ihybe]\n",
    "    for ipoint in range(len(im_data_enhanced_hybe)):\n",
    "        point = im_data_enhanced_hybe[ipoint]\n",
    "        point = list(point)+[ihybe,ipoint]\n",
    "        im_data_enhanced_hybe[ipoint] = point\n",
    "    im_data_enhanced[ihybe] = im_data_enhanced_hybe\n",
    "#iterate through chromosomes.\n",
    "pts_chrs,chr_hybes = [],[]\n",
    "for pts_hybe,chr_hybe in zip(im_data_enhanced,interp):\n",
    "    pts_chr_ = ts.partition_map(pts_hybe,chr_hybe)\n",
    "    chr_hybe_ = np.unique(chr_hybe)\n",
    "    pts_chrs.extend(pts_chr_)\n",
    "    chr_hybes.extend(chr_hybe_)\n",
    "pts_partitioned = ts.partition_map(pts_chrs,chr_hybes)\n",
    "chrs_ids = np.unique(chr_hybes)\n",
    "\n",
    "#iterate through chromosome ids\n",
    "chrs_id = chrs_ids[0]\n",
    "pts_partitioned_ = pts_partitioned[0]\n",
    "\n",
    "id_hybe_start = np.argsort(map(len,pts_partitioned_))[-1]\n",
    "pts_start = pts_partitioned_[id_hybe_start]\n",
    "assert len(pts_start)==num_hom\n",
    "split_chr = split_dic[chrs_id]\n",
    "for ipt,pt in enumerate(pts_start):\n",
    "    split_chr[ipt].append(pt)\n",
    "\n",
    "pts_tobeasigned = list(pts_partitioned_)\n",
    "pts_tobeasigned.pop(id_hybe_start)\n",
    "\n",
    "chr_estim = [[list(val)+[ival]for ival,val in enumerate(pts_partitioned_[id_hybe_start])]]\n",
    "\n",
    "for pts_hybe in pts_tobeasigned:\n",
    "    mean_dists_hybe = []\n",
    "    for pt in pts_hybe:\n",
    "        mean_dists = [np.mean([np.sqrt(np.sum((pt[:3]-pt_t[:3])**2)) for pt_t in split_]) for split_ in split_chr]\n",
    "        #mean_dists has num of homolog dists\n",
    "        mean_dists_hybe.append(mean_dists)\n",
    "    picks = ts.unique_classif(mean_dists_hybe)\n",
    "    chr_estim.append([list(pts_hybe[pick[0]][:])+[pick[1]] for pick in picks])\n",
    "\n",
    "#Return the sames as interp(chromosme_id_all) but dealt with degeneracy\n"
   ]
  }
 ],
 "metadata": {
  "kernelspec": {
   "display_name": "Python 2",
   "language": "python",
   "name": "python2"
  },
  "language_info": {
   "codemirror_mode": {
    "name": "ipython",
    "version": 2
   },
   "file_extension": ".py",
   "mimetype": "text/x-python",
   "name": "python",
   "nbconvert_exporter": "python",
   "pygments_lexer": "ipython2",
   "version": "2.7.13"
  }
 },
 "nbformat": 4,
 "nbformat_minor": 2
}
