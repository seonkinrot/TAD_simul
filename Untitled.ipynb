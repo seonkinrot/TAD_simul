{
 "cells": [
  {
   "cell_type": "code",
   "execution_count": 1,
   "metadata": {
    "collapsed": true
   },
   "outputs": [],
   "source": []
  },
  {
   "cell_type": "code",
   "execution_count": 78,
   "metadata": {
    "collapsed": false
   },
   "outputs": [],
   "source": [
    "#Dependencies\n",
    "import numpy as np\n",
    "import matplotlib.pyplot as plt\n",
    "from matplotlib.widgets import Slider, Button, RadioButtons\n",
    "#Useful functions\n",
    "def imshow3d(Im, axis=0, **kwargs):\n",
    "\n",
    "    \"\"\"\n",
    "\n",
    "    Display a 3d ndarray with a slider to move along the 0th dimension.\n",
    "\n",
    "    Extra keyword arguments are passed to imshow\n",
    "\n",
    "    \"\"\"\n",
    "\n",
    "\n",
    "\n",
    "    im = np.array(Im)\n",
    "\n",
    "\n",
    "\n",
    "    # generate figure\n",
    "\n",
    "    f, ax = plt.subplots()\n",
    "\n",
    "\n",
    "\n",
    "    f.subplots_adjust(left=0.25, bottom=0.25)\n",
    "\n",
    "\n",
    "\n",
    "    # select first image\n",
    "\n",
    "    s = [slice(0, 1) if i == axis else slice(None) for i in xrange(3)]\n",
    "    im_ = im[s].squeeze()\n",
    "\n",
    "    # display image\n",
    "\n",
    "    l = ax.imshow(im_, **kwargs)\n",
    "\n",
    "    l.set_clim(vmin=np.min(im),vmax=np.max(im))\n",
    "\n",
    "    # define slider\n",
    "\n",
    "    axcolor = 'lightgoldenrodyellow'\n",
    "\n",
    "    ax = f.add_axes([0.25, 0.1, 0.65, 0.03], axisbg=axcolor)\n",
    "\n",
    "\n",
    "\n",
    "    slider = Slider(ax, 'Axis %i index' % axis, 0, im.shape[axis] - 1,\n",
    "\n",
    "                    valinit=0, valfmt='%i')\n",
    "\n",
    "\n",
    "\n",
    "    def update(val):\n",
    "\n",
    "        ind = int(slider.val)\n",
    "\n",
    "        s = [slice(ind, ind + 1) if i == axis else slice(None)\n",
    "\n",
    "                 for i in xrange(3)]\n",
    "\n",
    "        im_ = im[s].squeeze()\n",
    "\n",
    "        l.set_data(im_)\n",
    "\n",
    "        f.canvas.draw()\n",
    "\n",
    "\n",
    "\n",
    "    slider.on_changed(update)\n",
    "\n",
    "\n",
    "\n",
    "    plt.show()\n",
    "\n",
    "def chromosomes(nuc_dia=10000,pixel_sz=100,plt_val=False):\n",
    "    \"\"\"\n",
    "    nuc_dia is the nuclear diameter in nm\n",
    "    pixel_sz is in nm\n",
    "    This assumes 46 chromosomes\n",
    "    \n",
    "    Return list of chromosomes and pixels in their territory\n",
    "    \"\"\"\n",
    "    #coordinates for 46 sphere centers\n",
    "    #(equal size spheres in a unit sphere)\n",
    "    #see:https://oeis.org/A084827/a084827.txt\n",
    "    centers=[[-0.127724638717686,0.029283782782012,-0.763670872459570], \n",
    "            [0.302116854275886,0.146601789724809,-0.698281876003332], \n",
    "            [0.050116071438789,-0.375084565347080,-0.676139240788969], \n",
    "            [0.387404648096449,-0.300279722464142,-0.600095035492607],\n",
    "            [-0.221565702064757,0.438003368581342,-0.599521487098418],\n",
    "            [-0.536838502467010,0.121012629438513,-0.545458207564384],\n",
    "            [0.470578557122151,-0.324839673302964,-0.522876020618661],\n",
    "            [0.206821475639773,0.544767478949537,-0.510703040725137],\n",
    "            [0.647737208453552,0.075787428022586,-0.418398254359731],\n",
    "            [0.209291510617636,-0.653452063989750,-0.359946924370349],\n",
    "            [-0.240428762326608,-0.655246890184877,-0.336466711372591],\n",
    "            [0.027563278735129,0.169874066797150,-0.337139524778479],\n",
    "            [-0.531122333361574,0.491550397468556,-0.276860250786947],\n",
    "            [-0.125040038594464,0.718782537235944,-0.260923317520113],\n",
    "            [-0.028222635427186,-0.267579430698296,-0.245896798982907],\n",
    "            [0.559897837805783,0.479367416697336,-0.238925962888257],\n",
    "            [-0.609344934400770,-0.421155893776354,-0.227356083644822],\n",
    "            [-0.755792906627536,0.000918343779410,-0.170705973387576],\n",
    "            [0.709453517788630,-0.276107684781292,-0.144237918782831],\n",
    "            [0.338406350902039,-0.029318746498438,-0.079260341210368],\n",
    "            [0.256184770042010,0.730938689442354,-0.021501641508632],\n",
    "            [-0.268046158037773,0.223179830668424,-0.001615424109930],\n",
    "            [0.463839024087979,-0.620577043697123,0.010090454994701],\n",
    "            [0.761425580114896,0.142996856131315,0.012137124700828],\n",
    "            [0.041055031342583,-0.772687639260906,0.040405708106847],\n",
    "            [-0.343201070932800,-0.214763803705687,0.071596445689072],\n",
    "            [-0.392969757022585,-0.662069840802751,0.087193008193199],\n",
    "            [-0.377886422912343,0.667723934061050,0.108217022567140],\n",
    "            [-0.686352373667351,0.339757482368351,0.117684310970756],\n",
    "            [0.150619047600183,0.321066162828993,0.132327016008240],\n",
    "            [0.137964450619487,-0.350718167453077,0.164313718413543],\n",
    "            [0.559387984377712,0.492787670746059,0.211210130456054],\n",
    "            [-0.717576062734593,-0.078536494382680,0.281568709115817],\n",
    "            [0.643403410008865,-0.310581345960640,0.299892559603968],\n",
    "            [0.002276767510746,0.692083481917933,0.348395549284496],\n",
    "            [-0.069193117297735,-0.000826838519097,0.357871631431749],\n",
    "            [-0.074584688024342,-0.626168415760149,0.450238341469810],\n",
    "            [0.622296753862575,0.114447785021264,0.447227819362128],\n",
    "            [-0.471682318226388,-0.413806749821993,0.454581223971127],\n",
    "            [-0.434951569989064,0.423001400164857,0.481924550044267],\n",
    "            [0.305007962363991,-0.417373667885278,0.577177346197253],\n",
    "            [0.295340191120549,0.432541638100190,0.571004577504622],\n",
    "            [-0.446844519125231,-0.001070128504388,0.633003282191707],\n",
    "            [-0.094303907267779,-0.267030401770297,0.721225250748454],\n",
    "            [0.281485705865138,0.008444506916010,0.721844036069634],\n",
    "            [-0.091709170433872,0.260484226789782,0.723948700091940]]\n",
    "\n",
    "    centers = np.array(centers)\n",
    "    \n",
    "    arr_size = nuc_dia/pixel_sz #division casts as int\n",
    "    x_ = np.linspace(-1,1,arr_size)\n",
    "    chrters = [[] for i in range(len(centers))]\n",
    "\n",
    "    for x in x_:\n",
    "        for y in x_:\n",
    "            for z in x_:\n",
    "                #test if in sphere\n",
    "                if x*x+y*y+z*z<=1:\n",
    "                    chr_index = np.argmin(np.sum((centers-[[x,y,z]])**2,axis=1))#compute the closest index to current xyz point\n",
    "                    chrters[chr_index].append([x,y,z])\n",
    "    if plt_val:\n",
    "        im = np.zeros([arr_size]*3)\n",
    "        for i,chr_ in enumerate(chrters):\n",
    "            for x,y,z in (np.array(chr_)+1)*(arr_size-1)/2:\n",
    "                im[int(np.round(x)),int(np.round(y)),int(np.round(z))]=i+1\n",
    "        imshow3d(im,interpolation='nearest')\n",
    "    return chrters\n",
    "\n",
    "def TAD_blur(xyzPos,pix_sz=100,nuc_dia=10000):\n",
    "    perturb=np.random.normal(0,pix_sz/2./(nuc_dia/2.),3)\n",
    "    return perturb+xyzPos\n",
    "\n",
    "def TAD_generator(xyzChr,noTADs=100,udist=-0.44276236166846844,sigmadist=0.57416477624326434,nuc_dia=10000,pix_sz=100):\n",
    "    \"\"\"\n",
    "    xyzChr is a list of positions belonging to a chromosome territory\n",
    "    Returns an array of dimensions noTADSx3\n",
    "    \"\"\"\n",
    "    xyzChr_=np.array(xyzChr)\n",
    "    tads=[]\n",
    "    first=xyzChr_[np.random.randint(1,len(xyzChr))] #randomly choose location of first TAD\n",
    "    first=TAD_blur(first)\n",
    "    tads.append(first)\n",
    "    for i_tad in range(noTADs-1):\n",
    "        difs=xyzChr_-[tads[i_tad]]#unit radius\n",
    "        dists=np.sqrt(np.sum(difs**2,axis=-1))\n",
    "        dists=np.log(dists*nuc_dia/2000.)#unit log um\n",
    "        weights = np.exp(-(dists-udist)**2/(2*sigmadist**2))\n",
    "        weights = np.cumsum(weights)\n",
    "        weights = weights/float(np.max(weights))\n",
    "        index_pj = np.sum(np.random.rand()-weights>0)\n",
    "        pj=xyzChr_[index_pj]#unit radius\n",
    "        pj=TAD_blur(pj)\n",
    "        tads.append(pj)\n",
    "    return np.array(tads)"
   ]
  },
  {
   "cell_type": "code",
   "execution_count": 57,
   "metadata": {
    "collapsed": true
   },
   "outputs": [],
   "source": [
    "chrters=chromosomes()"
   ]
  },
  {
   "cell_type": "code",
   "execution_count": 80,
   "metadata": {
    "collapsed": false
   },
   "outputs": [],
   "source": [
    "\n",
    "arr_size=100\n",
    "im = np.zeros([arr_size]*3)\n",
    "for i,chr_ in enumerate(chrters):\n",
    "    for x,y,z in (np.array(chr_)+1)*(arr_size-1)/2:\n",
    "        im[int(np.round(x)),int(np.round(y)),int(np.round(z))]=i+1\n",
    "x,y,z = TAD_generator(chrters[0]).T\n",
    "plt.imshow(np.max(im==1,axis=-1))\n",
    "plt.plot((y+1)*(arr_size-1)/2,(x+1)*(arr_size-1)/2,'-o')\n",
    "\n",
    "plt.show()"
   ]
  },
  {
   "cell_type": "code",
   "execution_count": null,
   "metadata": {
    "collapsed": true
   },
   "outputs": [],
   "source": []
  },
  {
   "cell_type": "code",
   "execution_count": 89,
   "metadata": {
    "collapsed": false
   },
   "outputs": [],
   "source": [
    "reals=100 #number of realizations\n",
    "tads=100 #number of TADs per chromosome\n",
    "real_matrix=[]\n",
    "for i_rel in range(reals):\n",
    "    single_cell=[]\n",
    "    for chrter in chrters:\n",
    "        tads_=TAD_generator(chrter,tads)\n",
    "        single_cell.append(tads_)\n",
    "    real_matrix.append(single_cell)\n",
    "real_matrix=np.array(real_matrix)\n",
    "import cPickle as pickle\n",
    "pickle.dump(real_matrix,open('simulatedTads.pkl','wb'))"
   ]
  },
  {
   "cell_type": "code",
   "execution_count": null,
   "metadata": {
    "collapsed": true
   },
   "outputs": [],
   "source": []
  },
  {
   "cell_type": "code",
   "execution_count": 90,
   "metadata": {
    "collapsed": true
   },
   "outputs": [],
   "source": [
    "real_matrix = pickle.load(open('simulatedTads.pkl','rb'))"
   ]
  },
  {
   "cell_type": "code",
   "execution_count": 92,
   "metadata": {
    "collapsed": false
   },
   "outputs": [],
   "source": [
    "for i,chr_ in enumerate(real_matrix[0]):\n",
    "    x,y,z = chr_.T\n",
    "    if i>5:\n",
    "        break\n",
    "    plt.plot(x,y,'-o')\n",
    "plt.show()"
   ]
  },
  {
   "cell_type": "code",
   "execution_count": 85,
   "metadata": {
    "collapsed": false
   },
   "outputs": [
    {
     "data": {
      "text/plain": [
       "array([[ -2.60485395e-01,   4.45057923e-01,   6.66435619e-01],\n",
       "       [ -2.85846974e-01,   2.35437111e-01,   6.92857530e-01],\n",
       "       [ -2.19245380e-01,   3.32166951e-01,   6.12440404e-01],\n",
       "       [ -1.47459193e-01,   3.74039565e-01,   4.69206394e-01],\n",
       "       [ -3.50350039e-01,   3.77141451e-01,   8.15050441e-01],\n",
       "       [  1.00904304e-01,   3.14148933e-01,   6.61485386e-01],\n",
       "       [  3.03243923e-02,   3.75955003e-01,   7.55287036e-01],\n",
       "       [ -1.39236766e-01,   1.31095028e-01,   7.19327637e-01],\n",
       "       [  2.43363442e-02,   4.84112581e-01,   6.42653164e-01],\n",
       "       [ -1.78864010e-01,   1.93868345e-01,   7.12881178e-01],\n",
       "       [ -1.52103764e-01,   4.02911360e-01,   6.80603357e-01],\n",
       "       [ -1.35346498e-01,   3.44894124e-01,   6.51682242e-01],\n",
       "       [  2.93737584e-02,   2.63490375e-01,   7.04091363e-01],\n",
       "       [ -2.23454932e-01,   3.31427586e-01,   6.38331657e-01],\n",
       "       [ -8.90331552e-02,   1.18154590e-01,   7.47092776e-01],\n",
       "       [ -8.34476185e-04,   3.33326188e-01,   4.71341811e-01],\n",
       "       [  9.25100947e-03,   1.16443777e-01,   6.67802111e-01],\n",
       "       [ -1.30206457e-01,   2.24357377e-01,   8.07168037e-01],\n",
       "       [ -2.42310253e-01,   2.03334329e-01,   9.22997189e-01],\n",
       "       [ -9.71212091e-03,   2.06472578e-01,   7.26982474e-01],\n",
       "       [ -3.44539265e-01,   1.92964382e-01,   7.38231997e-01],\n",
       "       [  2.92776687e-02,   4.19681379e-01,   8.57406425e-01],\n",
       "       [  1.25451673e-01,   2.92912423e-01,   9.05983048e-01],\n",
       "       [  1.23906756e-01,   1.76793240e-01,   9.05745382e-01],\n",
       "       [  1.30435138e-02,   3.06682914e-01,   6.53837465e-01],\n",
       "       [ -1.33037287e-01,   2.59119677e-01,   6.79360177e-01],\n",
       "       [  8.37724666e-03,   2.31148414e-01,   5.96527326e-01],\n",
       "       [ -8.05572528e-02,   3.10090141e-01,   6.49163244e-01],\n",
       "       [ -2.53744106e-03,   3.50986515e-01,   9.10702668e-01],\n",
       "       [  6.97482800e-02,   4.27973244e-01,   8.81972060e-01],\n",
       "       [ -2.74336027e-02,   3.87627969e-01,   8.93316111e-01],\n",
       "       [ -7.90633729e-02,   5.69192774e-01,   7.66652880e-01],\n",
       "       [  1.22096216e-01,   3.51874193e-01,   9.18355567e-01],\n",
       "       [ -8.34687561e-02,   1.28756975e-01,   9.74076142e-01],\n",
       "       [ -1.30198024e-02,   5.93545534e-02,   6.34388111e-01],\n",
       "       [  6.60179707e-04,   7.64492467e-02,   7.11844830e-01],\n",
       "       [ -1.37968694e-01,   2.29836199e-01,   4.89711306e-01],\n",
       "       [ -2.67859124e-01,   2.14177615e-01,   5.77883893e-01],\n",
       "       [ -4.29935162e-02,   4.15611757e-01,   5.22041548e-01],\n",
       "       [ -9.10667677e-02,   2.50174689e-01,   8.15389513e-01],\n",
       "       [ -8.39582880e-02,   3.64519234e-01,   8.15027581e-01],\n",
       "       [ -1.22676179e-01,   3.23407029e-01,   7.74854512e-01],\n",
       "       [ -2.72011995e-01,   2.66103557e-01,   8.31047836e-01],\n",
       "       [ -2.01500723e-01,   1.75496065e-01,   5.26436443e-01],\n",
       "       [ -1.93868308e-01,   1.46712518e-01,   6.29881390e-01],\n",
       "       [ -1.13170157e-01,   2.32911265e-01,   7.80716569e-01],\n",
       "       [ -4.81336633e-02,   1.42452272e-01,   9.87238151e-01],\n",
       "       [ -4.33929541e-02,   2.70787486e-01,   8.45825438e-01],\n",
       "       [ -2.75974593e-01,   2.67426215e-01,   7.35820123e-01],\n",
       "       [ -5.29187035e-02,   2.82990924e-01,   5.28465773e-01],\n",
       "       [ -1.34097676e-01,   4.54344259e-01,   7.98755837e-01],\n",
       "       [ -7.00228112e-02,   2.60022480e-01,   6.47733496e-01],\n",
       "       [ -1.81416062e-01,   2.01347779e-01,   5.87680289e-01],\n",
       "       [ -1.14831120e-01,   1.41958082e-01,   5.39412563e-01],\n",
       "       [ -2.33612594e-02,   1.64564712e-01,   5.63676162e-01],\n",
       "       [ -1.43146208e-01,   5.57197876e-02,   6.13558583e-01],\n",
       "       [ -8.27319583e-02,   2.63155608e-01,   6.20464972e-01],\n",
       "       [  8.77808731e-02,   2.54325536e-01,   8.03504421e-01],\n",
       "       [ -1.89152245e-01,   2.43818310e-02,   6.15876318e-01],\n",
       "       [ -5.52987461e-02,   1.38869363e-01,   8.58240434e-01],\n",
       "       [ -1.59318329e-01,   6.27729618e-02,   7.98634895e-01],\n",
       "       [ -2.64137062e-01,   1.58120150e-01,   7.07016067e-01],\n",
       "       [ -3.30462045e-01,   3.86092407e-01,   8.14501560e-01],\n",
       "       [ -2.65182126e-01,   3.20219400e-01,   6.25927824e-01],\n",
       "       [ -1.70162044e-01,   4.48428228e-01,   7.92013776e-01],\n",
       "       [ -3.45043449e-01,   4.29408520e-01,   7.99804069e-01],\n",
       "       [ -2.61534879e-01,   3.05788817e-01,   6.81550044e-01],\n",
       "       [ -1.63569570e-01,   4.03245988e-01,   8.24166574e-01],\n",
       "       [  1.81227879e-02,   2.61911703e-01,   9.60069968e-01],\n",
       "       [  1.18734134e-01,   4.25910074e-01,   8.72484348e-01],\n",
       "       [  4.51937924e-02,   5.10695708e-02,   8.64520237e-01],\n",
       "       [ -1.88796631e-02,   1.52769902e-01,   9.12613997e-01],\n",
       "       [  9.47876654e-02,   3.34758333e-01,   8.94019192e-01],\n",
       "       [ -1.50413258e-01,   3.57205123e-01,   8.77016279e-01],\n",
       "       [ -2.50388478e-02,   4.17080541e-01,   5.23874139e-01],\n",
       "       [ -3.11162439e-01,   3.80911551e-01,   7.74239168e-01],\n",
       "       [ -1.81356537e-01,   3.74825235e-01,   6.09828520e-01],\n",
       "       [ -9.46860026e-03,   3.37495263e-01,   5.67472274e-01],\n",
       "       [ -1.12446353e-01,   2.26042914e-01,   4.74712058e-01],\n",
       "       [ -2.32884555e-01,   2.12089069e-01,   5.56276218e-01],\n",
       "       [ -1.06721459e-01,   2.59107608e-01,   4.50013977e-01],\n",
       "       [ -1.51349738e-01,   1.80572463e-01,   5.34079241e-01],\n",
       "       [ -3.23933076e-01,   2.50988212e-01,   6.31820097e-01],\n",
       "       [  6.16572159e-02,   4.91188617e-01,   7.34568509e-01],\n",
       "       [  1.13677965e-01,   1.69808541e-01,   8.03550323e-01],\n",
       "       [ -2.91491529e-01,   2.84019850e-01,   7.07876085e-01],\n",
       "       [ -3.25435786e-01,   2.59121769e-01,   7.96675194e-01],\n",
       "       [ -1.08703483e-01,   4.79846432e-01,   6.88894792e-01],\n",
       "       [ -3.18444758e-02,   4.18038381e-01,   8.62674648e-01],\n",
       "       [ -6.05274521e-02,   3.31555934e-01,   9.14336657e-01],\n",
       "       [ -1.29920835e-01,   2.08864946e-01,   8.35599001e-01],\n",
       "       [ -7.28507558e-02,   3.07732800e-01,   8.59759746e-01],\n",
       "       [ -2.19619121e-01,   4.07271809e-01,   8.01379176e-01],\n",
       "       [ -2.96908332e-01,   2.34947333e-01,   7.81296050e-01],\n",
       "       [ -3.10015938e-01,   3.62300656e-01,   7.72045574e-01],\n",
       "       [ -1.52381895e-01,   5.08437532e-01,   8.18870413e-01],\n",
       "       [ -8.06774219e-02,   2.72069763e-01,   9.03240719e-01],\n",
       "       [  1.39781626e-02,   2.08806793e-01,   7.17609748e-01],\n",
       "       [  4.70620429e-02,   1.57952449e-01,   5.58343505e-01],\n",
       "       [  1.75282418e-02,   2.73648580e-01,   6.03865790e-01]])"
      ]
     },
     "execution_count": 85,
     "metadata": {},
     "output_type": "execute_result"
    }
   ],
   "source": [
    "chr_"
   ]
  },
  {
   "cell_type": "code",
   "execution_count": 44,
   "metadata": {
    "collapsed": false
   },
   "outputs": [],
   "source": [
    "import glob\n",
    "import numpy as np\n",
    "#files = glob.glob('*.csv')\n",
    "files= ['chr21.csv', 'chr22.csv']\n",
    "file_ =files[0]\n",
    "def file_to_mat(file_):\n",
    "    lines = [ln for ln in open(file_,'r')]\n",
    "    def refine_line(ln):\n",
    "        splits = ln[:-1].split(',')\n",
    "        return [np.nan if ln_=='' else float(ln_)for ln_ in splits]\n",
    "    lines = map(refine_line,lines[1:])\n",
    "    return np.array(lines)\n",
    "def data_to_dists(data):\n",
    "    icell_prev=np.nan\n",
    "    iTAD_prev=np.nan\n",
    "    dists = []\n",
    "    for icell,iTAD,x,y,z in data:\n",
    "        if icell_prev==icell:\n",
    "            xyz = np.array([x,y,z])\n",
    "            dist = np.sqrt(np.sum((xyz-xyz_prev)**2))\n",
    "            dists.append(dist)\n",
    "        icell_prev=icell\n",
    "        xyz_prev = np.array([x,y,z])\n",
    "    dists = np.array(dists)\n",
    "    dists = dists[np.isnan(dists)==False]\n",
    "    return dists\n",
    "\n",
    "dists0 = data_to_dists(file_to_mat(files[0]))\n",
    "dists1 = data_to_dists(file_to_mat(files[1]))\n",
    "dists = np.concatenate([dists0,dists1])\n"
   ]
  },
  {
   "cell_type": "code",
   "execution_count": 43,
   "metadata": {
    "collapsed": false
   },
   "outputs": [],
   "source": [
    "import matplotlib.pylab as plt\n",
    "#plt.hist(np.log(dists0),bins=30,alpha=0.7)\n",
    "#plt.hist(np.log(dists1),bins=30,alpha=0.7)\n",
    "#plt.hist(dists0,bins=30,alpha=0.7)\n",
    "#plt.hist(dists1,bins=30,alpha=0.7)\n",
    "plt.hist(dists,bins=40)\n",
    "plt.show()"
   ]
  },
  {
   "cell_type": "code",
   "execution_count": 49,
   "metadata": {
    "collapsed": false
   },
   "outputs": [
    {
     "data": {
      "text/plain": [
       "0.45172828742659688"
      ]
     },
     "execution_count": 49,
     "metadata": {},
     "output_type": "execute_result"
    }
   ],
   "source": [
    "np.std(dists)"
   ]
  },
  {
   "cell_type": "code",
   "execution_count": 48,
   "metadata": {
    "collapsed": false
   },
   "outputs": [
    {
     "data": {
      "text/plain": [
       "0.75397658663865952"
      ]
     },
     "execution_count": 48,
     "metadata": {},
     "output_type": "execute_result"
    }
   ],
   "source": [
    "np.mean(dists)"
   ]
  },
  {
   "cell_type": "code",
   "execution_count": null,
   "metadata": {
    "collapsed": true
   },
   "outputs": [],
   "source": []
  }
 ],
 "metadata": {
  "kernelspec": {
   "display_name": "Python [Root]",
   "language": "python",
   "name": "Python [Root]"
  },
  "language_info": {
   "codemirror_mode": {
    "name": "ipython",
    "version": 2
   },
   "file_extension": ".py",
   "mimetype": "text/x-python",
   "name": "python",
   "nbconvert_exporter": "python",
   "pygments_lexer": "ipython2",
   "version": "2.7.12"
  }
 },
 "nbformat": 4,
 "nbformat_minor": 0
}
